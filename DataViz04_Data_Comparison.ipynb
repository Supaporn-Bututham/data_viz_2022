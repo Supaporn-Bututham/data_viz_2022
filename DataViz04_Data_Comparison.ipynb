{
  "nbformat": 4,
  "nbformat_minor": 0,
  "metadata": {
    "colab": {
      "name": "DataViz04 Data Comparison.ipynb",
      "provenance": [],
      "include_colab_link": true
    },
    "kernelspec": {
      "name": "python3",
      "display_name": "Python 3"
    },
    "language_info": {
      "name": "python"
    }
  },
  "cells": [
    {
      "cell_type": "markdown",
      "metadata": {
        "id": "view-in-github",
        "colab_type": "text"
      },
      "source": [
        "<a href=\"https://colab.research.google.com/github/Supaporn-Bututham/data_viz_2022/blob/main/DataViz04_Data_Comparison.ipynb\" target=\"_parent\"><img src=\"https://colab.research.google.com/assets/colab-badge.svg\" alt=\"Open In Colab\"/></a>"
      ]
    },
    {
      "cell_type": "markdown",
      "source": [
        "##เปรียบเทียบข้อมูลด้วย coordinate plot"
      ],
      "metadata": {
        "id": "LrHzXJLy8D1e"
      }
    },
    {
      "cell_type": "code",
      "execution_count": 3,
      "metadata": {
        "id": "Y0H36MA-6rRL"
      },
      "outputs": [],
      "source": [
        "import pandas as pd"
      ]
    },
    {
      "cell_type": "code",
      "source": [
        "example_df = pd.read_csv('https://raw.github.com/pandas-dev/pandas/master/pandas/tests/io/data/csv/iris.csv')\n",
        "example_df"
      ],
      "metadata": {
        "id": "aPK0Mfht6u10",
        "outputId": "1ff5be93-f6e0-47bf-c7dd-5a03257bfe57",
        "colab": {
          "base_uri": "https://localhost:8080/",
          "height": 419
        }
      },
      "execution_count": 4,
      "outputs": [
        {
          "output_type": "execute_result",
          "data": {
            "text/html": [
              "\n",
              "  <div id=\"df-9662916d-f120-43db-9e42-c4cfcad7f54a\">\n",
              "    <div class=\"colab-df-container\">\n",
              "      <div>\n",
              "<style scoped>\n",
              "    .dataframe tbody tr th:only-of-type {\n",
              "        vertical-align: middle;\n",
              "    }\n",
              "\n",
              "    .dataframe tbody tr th {\n",
              "        vertical-align: top;\n",
              "    }\n",
              "\n",
              "    .dataframe thead th {\n",
              "        text-align: right;\n",
              "    }\n",
              "</style>\n",
              "<table border=\"1\" class=\"dataframe\">\n",
              "  <thead>\n",
              "    <tr style=\"text-align: right;\">\n",
              "      <th></th>\n",
              "      <th>SepalLength</th>\n",
              "      <th>SepalWidth</th>\n",
              "      <th>PetalLength</th>\n",
              "      <th>PetalWidth</th>\n",
              "      <th>Name</th>\n",
              "    </tr>\n",
              "  </thead>\n",
              "  <tbody>\n",
              "    <tr>\n",
              "      <th>0</th>\n",
              "      <td>5.1</td>\n",
              "      <td>3.5</td>\n",
              "      <td>1.4</td>\n",
              "      <td>0.2</td>\n",
              "      <td>Iris-setosa</td>\n",
              "    </tr>\n",
              "    <tr>\n",
              "      <th>1</th>\n",
              "      <td>4.9</td>\n",
              "      <td>3.0</td>\n",
              "      <td>1.4</td>\n",
              "      <td>0.2</td>\n",
              "      <td>Iris-setosa</td>\n",
              "    </tr>\n",
              "    <tr>\n",
              "      <th>2</th>\n",
              "      <td>4.7</td>\n",
              "      <td>3.2</td>\n",
              "      <td>1.3</td>\n",
              "      <td>0.2</td>\n",
              "      <td>Iris-setosa</td>\n",
              "    </tr>\n",
              "    <tr>\n",
              "      <th>3</th>\n",
              "      <td>4.6</td>\n",
              "      <td>3.1</td>\n",
              "      <td>1.5</td>\n",
              "      <td>0.2</td>\n",
              "      <td>Iris-setosa</td>\n",
              "    </tr>\n",
              "    <tr>\n",
              "      <th>4</th>\n",
              "      <td>5.0</td>\n",
              "      <td>3.6</td>\n",
              "      <td>1.4</td>\n",
              "      <td>0.2</td>\n",
              "      <td>Iris-setosa</td>\n",
              "    </tr>\n",
              "    <tr>\n",
              "      <th>...</th>\n",
              "      <td>...</td>\n",
              "      <td>...</td>\n",
              "      <td>...</td>\n",
              "      <td>...</td>\n",
              "      <td>...</td>\n",
              "    </tr>\n",
              "    <tr>\n",
              "      <th>145</th>\n",
              "      <td>6.7</td>\n",
              "      <td>3.0</td>\n",
              "      <td>5.2</td>\n",
              "      <td>2.3</td>\n",
              "      <td>Iris-virginica</td>\n",
              "    </tr>\n",
              "    <tr>\n",
              "      <th>146</th>\n",
              "      <td>6.3</td>\n",
              "      <td>2.5</td>\n",
              "      <td>5.0</td>\n",
              "      <td>1.9</td>\n",
              "      <td>Iris-virginica</td>\n",
              "    </tr>\n",
              "    <tr>\n",
              "      <th>147</th>\n",
              "      <td>6.5</td>\n",
              "      <td>3.0</td>\n",
              "      <td>5.2</td>\n",
              "      <td>2.0</td>\n",
              "      <td>Iris-virginica</td>\n",
              "    </tr>\n",
              "    <tr>\n",
              "      <th>148</th>\n",
              "      <td>6.2</td>\n",
              "      <td>3.4</td>\n",
              "      <td>5.4</td>\n",
              "      <td>2.3</td>\n",
              "      <td>Iris-virginica</td>\n",
              "    </tr>\n",
              "    <tr>\n",
              "      <th>149</th>\n",
              "      <td>5.9</td>\n",
              "      <td>3.0</td>\n",
              "      <td>5.1</td>\n",
              "      <td>1.8</td>\n",
              "      <td>Iris-virginica</td>\n",
              "    </tr>\n",
              "  </tbody>\n",
              "</table>\n",
              "<p>150 rows × 5 columns</p>\n",
              "</div>\n",
              "      <button class=\"colab-df-convert\" onclick=\"convertToInteractive('df-9662916d-f120-43db-9e42-c4cfcad7f54a')\"\n",
              "              title=\"Convert this dataframe to an interactive table.\"\n",
              "              style=\"display:none;\">\n",
              "        \n",
              "  <svg xmlns=\"http://www.w3.org/2000/svg\" height=\"24px\"viewBox=\"0 0 24 24\"\n",
              "       width=\"24px\">\n",
              "    <path d=\"M0 0h24v24H0V0z\" fill=\"none\"/>\n",
              "    <path d=\"M18.56 5.44l.94 2.06.94-2.06 2.06-.94-2.06-.94-.94-2.06-.94 2.06-2.06.94zm-11 1L8.5 8.5l.94-2.06 2.06-.94-2.06-.94L8.5 2.5l-.94 2.06-2.06.94zm10 10l.94 2.06.94-2.06 2.06-.94-2.06-.94-.94-2.06-.94 2.06-2.06.94z\"/><path d=\"M17.41 7.96l-1.37-1.37c-.4-.4-.92-.59-1.43-.59-.52 0-1.04.2-1.43.59L10.3 9.45l-7.72 7.72c-.78.78-.78 2.05 0 2.83L4 21.41c.39.39.9.59 1.41.59.51 0 1.02-.2 1.41-.59l7.78-7.78 2.81-2.81c.8-.78.8-2.07 0-2.86zM5.41 20L4 18.59l7.72-7.72 1.47 1.35L5.41 20z\"/>\n",
              "  </svg>\n",
              "      </button>\n",
              "      \n",
              "  <style>\n",
              "    .colab-df-container {\n",
              "      display:flex;\n",
              "      flex-wrap:wrap;\n",
              "      gap: 12px;\n",
              "    }\n",
              "\n",
              "    .colab-df-convert {\n",
              "      background-color: #E8F0FE;\n",
              "      border: none;\n",
              "      border-radius: 50%;\n",
              "      cursor: pointer;\n",
              "      display: none;\n",
              "      fill: #1967D2;\n",
              "      height: 32px;\n",
              "      padding: 0 0 0 0;\n",
              "      width: 32px;\n",
              "    }\n",
              "\n",
              "    .colab-df-convert:hover {\n",
              "      background-color: #E2EBFA;\n",
              "      box-shadow: 0px 1px 2px rgba(60, 64, 67, 0.3), 0px 1px 3px 1px rgba(60, 64, 67, 0.15);\n",
              "      fill: #174EA6;\n",
              "    }\n",
              "\n",
              "    [theme=dark] .colab-df-convert {\n",
              "      background-color: #3B4455;\n",
              "      fill: #D2E3FC;\n",
              "    }\n",
              "\n",
              "    [theme=dark] .colab-df-convert:hover {\n",
              "      background-color: #434B5C;\n",
              "      box-shadow: 0px 1px 3px 1px rgba(0, 0, 0, 0.15);\n",
              "      filter: drop-shadow(0px 1px 2px rgba(0, 0, 0, 0.3));\n",
              "      fill: #FFFFFF;\n",
              "    }\n",
              "  </style>\n",
              "\n",
              "      <script>\n",
              "        const buttonEl =\n",
              "          document.querySelector('#df-9662916d-f120-43db-9e42-c4cfcad7f54a button.colab-df-convert');\n",
              "        buttonEl.style.display =\n",
              "          google.colab.kernel.accessAllowed ? 'block' : 'none';\n",
              "\n",
              "        async function convertToInteractive(key) {\n",
              "          const element = document.querySelector('#df-9662916d-f120-43db-9e42-c4cfcad7f54a');\n",
              "          const dataTable =\n",
              "            await google.colab.kernel.invokeFunction('convertToInteractive',\n",
              "                                                     [key], {});\n",
              "          if (!dataTable) return;\n",
              "\n",
              "          const docLinkHtml = 'Like what you see? Visit the ' +\n",
              "            '<a target=\"_blank\" href=https://colab.research.google.com/notebooks/data_table.ipynb>data table notebook</a>'\n",
              "            + ' to learn more about interactive tables.';\n",
              "          element.innerHTML = '';\n",
              "          dataTable['output_type'] = 'display_data';\n",
              "          await google.colab.output.renderOutput(dataTable, element);\n",
              "          const docLink = document.createElement('div');\n",
              "          docLink.innerHTML = docLinkHtml;\n",
              "          element.appendChild(docLink);\n",
              "        }\n",
              "      </script>\n",
              "    </div>\n",
              "  </div>\n",
              "  "
            ],
            "text/plain": [
              "     SepalLength  SepalWidth  PetalLength  PetalWidth            Name\n",
              "0            5.1         3.5          1.4         0.2     Iris-setosa\n",
              "1            4.9         3.0          1.4         0.2     Iris-setosa\n",
              "2            4.7         3.2          1.3         0.2     Iris-setosa\n",
              "3            4.6         3.1          1.5         0.2     Iris-setosa\n",
              "4            5.0         3.6          1.4         0.2     Iris-setosa\n",
              "..           ...         ...          ...         ...             ...\n",
              "145          6.7         3.0          5.2         2.3  Iris-virginica\n",
              "146          6.3         2.5          5.0         1.9  Iris-virginica\n",
              "147          6.5         3.0          5.2         2.0  Iris-virginica\n",
              "148          6.2         3.4          5.4         2.3  Iris-virginica\n",
              "149          5.9         3.0          5.1         1.8  Iris-virginica\n",
              "\n",
              "[150 rows x 5 columns]"
            ]
          },
          "metadata": {},
          "execution_count": 4
        }
      ]
    },
    {
      "cell_type": "code",
      "source": [
        "sample_data = example_df.groupby('Name').mean()"
      ],
      "metadata": {
        "id": "wqoEPTBm8agF"
      },
      "execution_count": 5,
      "outputs": []
    },
    {
      "cell_type": "code",
      "source": [
        "sample_data"
      ],
      "metadata": {
        "colab": {
          "base_uri": "https://localhost:8080/",
          "height": 173
        },
        "id": "m_aKudwN8z9U",
        "outputId": "50e22e10-2abb-4cd5-fc55-1b7e135f6212"
      },
      "execution_count": 6,
      "outputs": [
        {
          "output_type": "execute_result",
          "data": {
            "text/html": [
              "\n",
              "  <div id=\"df-da66469f-20b6-4261-8527-a3a26b338c47\">\n",
              "    <div class=\"colab-df-container\">\n",
              "      <div>\n",
              "<style scoped>\n",
              "    .dataframe tbody tr th:only-of-type {\n",
              "        vertical-align: middle;\n",
              "    }\n",
              "\n",
              "    .dataframe tbody tr th {\n",
              "        vertical-align: top;\n",
              "    }\n",
              "\n",
              "    .dataframe thead th {\n",
              "        text-align: right;\n",
              "    }\n",
              "</style>\n",
              "<table border=\"1\" class=\"dataframe\">\n",
              "  <thead>\n",
              "    <tr style=\"text-align: right;\">\n",
              "      <th></th>\n",
              "      <th>SepalLength</th>\n",
              "      <th>SepalWidth</th>\n",
              "      <th>PetalLength</th>\n",
              "      <th>PetalWidth</th>\n",
              "    </tr>\n",
              "    <tr>\n",
              "      <th>Name</th>\n",
              "      <th></th>\n",
              "      <th></th>\n",
              "      <th></th>\n",
              "      <th></th>\n",
              "    </tr>\n",
              "  </thead>\n",
              "  <tbody>\n",
              "    <tr>\n",
              "      <th>Iris-setosa</th>\n",
              "      <td>5.006</td>\n",
              "      <td>3.418</td>\n",
              "      <td>1.464</td>\n",
              "      <td>0.244</td>\n",
              "    </tr>\n",
              "    <tr>\n",
              "      <th>Iris-versicolor</th>\n",
              "      <td>5.936</td>\n",
              "      <td>2.770</td>\n",
              "      <td>4.260</td>\n",
              "      <td>1.326</td>\n",
              "    </tr>\n",
              "    <tr>\n",
              "      <th>Iris-virginica</th>\n",
              "      <td>6.588</td>\n",
              "      <td>2.974</td>\n",
              "      <td>5.552</td>\n",
              "      <td>2.026</td>\n",
              "    </tr>\n",
              "  </tbody>\n",
              "</table>\n",
              "</div>\n",
              "      <button class=\"colab-df-convert\" onclick=\"convertToInteractive('df-da66469f-20b6-4261-8527-a3a26b338c47')\"\n",
              "              title=\"Convert this dataframe to an interactive table.\"\n",
              "              style=\"display:none;\">\n",
              "        \n",
              "  <svg xmlns=\"http://www.w3.org/2000/svg\" height=\"24px\"viewBox=\"0 0 24 24\"\n",
              "       width=\"24px\">\n",
              "    <path d=\"M0 0h24v24H0V0z\" fill=\"none\"/>\n",
              "    <path d=\"M18.56 5.44l.94 2.06.94-2.06 2.06-.94-2.06-.94-.94-2.06-.94 2.06-2.06.94zm-11 1L8.5 8.5l.94-2.06 2.06-.94-2.06-.94L8.5 2.5l-.94 2.06-2.06.94zm10 10l.94 2.06.94-2.06 2.06-.94-2.06-.94-.94-2.06-.94 2.06-2.06.94z\"/><path d=\"M17.41 7.96l-1.37-1.37c-.4-.4-.92-.59-1.43-.59-.52 0-1.04.2-1.43.59L10.3 9.45l-7.72 7.72c-.78.78-.78 2.05 0 2.83L4 21.41c.39.39.9.59 1.41.59.51 0 1.02-.2 1.41-.59l7.78-7.78 2.81-2.81c.8-.78.8-2.07 0-2.86zM5.41 20L4 18.59l7.72-7.72 1.47 1.35L5.41 20z\"/>\n",
              "  </svg>\n",
              "      </button>\n",
              "      \n",
              "  <style>\n",
              "    .colab-df-container {\n",
              "      display:flex;\n",
              "      flex-wrap:wrap;\n",
              "      gap: 12px;\n",
              "    }\n",
              "\n",
              "    .colab-df-convert {\n",
              "      background-color: #E8F0FE;\n",
              "      border: none;\n",
              "      border-radius: 50%;\n",
              "      cursor: pointer;\n",
              "      display: none;\n",
              "      fill: #1967D2;\n",
              "      height: 32px;\n",
              "      padding: 0 0 0 0;\n",
              "      width: 32px;\n",
              "    }\n",
              "\n",
              "    .colab-df-convert:hover {\n",
              "      background-color: #E2EBFA;\n",
              "      box-shadow: 0px 1px 2px rgba(60, 64, 67, 0.3), 0px 1px 3px 1px rgba(60, 64, 67, 0.15);\n",
              "      fill: #174EA6;\n",
              "    }\n",
              "\n",
              "    [theme=dark] .colab-df-convert {\n",
              "      background-color: #3B4455;\n",
              "      fill: #D2E3FC;\n",
              "    }\n",
              "\n",
              "    [theme=dark] .colab-df-convert:hover {\n",
              "      background-color: #434B5C;\n",
              "      box-shadow: 0px 1px 3px 1px rgba(0, 0, 0, 0.15);\n",
              "      filter: drop-shadow(0px 1px 2px rgba(0, 0, 0, 0.3));\n",
              "      fill: #FFFFFF;\n",
              "    }\n",
              "  </style>\n",
              "\n",
              "      <script>\n",
              "        const buttonEl =\n",
              "          document.querySelector('#df-da66469f-20b6-4261-8527-a3a26b338c47 button.colab-df-convert');\n",
              "        buttonEl.style.display =\n",
              "          google.colab.kernel.accessAllowed ? 'block' : 'none';\n",
              "\n",
              "        async function convertToInteractive(key) {\n",
              "          const element = document.querySelector('#df-da66469f-20b6-4261-8527-a3a26b338c47');\n",
              "          const dataTable =\n",
              "            await google.colab.kernel.invokeFunction('convertToInteractive',\n",
              "                                                     [key], {});\n",
              "          if (!dataTable) return;\n",
              "\n",
              "          const docLinkHtml = 'Like what you see? Visit the ' +\n",
              "            '<a target=\"_blank\" href=https://colab.research.google.com/notebooks/data_table.ipynb>data table notebook</a>'\n",
              "            + ' to learn more about interactive tables.';\n",
              "          element.innerHTML = '';\n",
              "          dataTable['output_type'] = 'display_data';\n",
              "          await google.colab.output.renderOutput(dataTable, element);\n",
              "          const docLink = document.createElement('div');\n",
              "          docLink.innerHTML = docLinkHtml;\n",
              "          element.appendChild(docLink);\n",
              "        }\n",
              "      </script>\n",
              "    </div>\n",
              "  </div>\n",
              "  "
            ],
            "text/plain": [
              "                 SepalLength  SepalWidth  PetalLength  PetalWidth\n",
              "Name                                                             \n",
              "Iris-setosa            5.006       3.418        1.464       0.244\n",
              "Iris-versicolor        5.936       2.770        4.260       1.326\n",
              "Iris-virginica         6.588       2.974        5.552       2.026"
            ]
          },
          "metadata": {},
          "execution_count": 6
        }
      ]
    },
    {
      "cell_type": "code",
      "source": [
        "sample_data.iloc[0,:]"
      ],
      "metadata": {
        "colab": {
          "base_uri": "https://localhost:8080/"
        },
        "id": "jmyPnfuO85Gg",
        "outputId": "4938d068-cbba-4557-badf-2a5bfb5f4c06"
      },
      "execution_count": 7,
      "outputs": [
        {
          "output_type": "execute_result",
          "data": {
            "text/plain": [
              "SepalLength    5.006\n",
              "SepalWidth     3.418\n",
              "PetalLength    1.464\n",
              "PetalWidth     0.244\n",
              "Name: Iris-setosa, dtype: float64"
            ]
          },
          "metadata": {},
          "execution_count": 7
        }
      ]
    },
    {
      "cell_type": "code",
      "source": [
        "from matplotlib import pyplot as plt"
      ],
      "metadata": {
        "id": "5fnyR6wU8_Ei"
      },
      "execution_count": 8,
      "outputs": []
    },
    {
      "cell_type": "code",
      "source": [
        "plt.plot([1,2,3,4] , sample_data.iloc[0,:],'ro')\n",
        "plt.plot([1,2,3,4] , sample_data.iloc[1,:],'g*')\n",
        "plt.plot([1,2,3,4] , sample_data.iloc[2,:],'b^')"
      ],
      "metadata": {
        "colab": {
          "base_uri": "https://localhost:8080/",
          "height": 283
        },
        "id": "UDAX4hlH9auJ",
        "outputId": "4f0e2e6d-1a75-4185-84d9-ba412a959589"
      },
      "execution_count": 9,
      "outputs": [
        {
          "output_type": "execute_result",
          "data": {
            "text/plain": [
              "[<matplotlib.lines.Line2D at 0x7f1728267410>]"
            ]
          },
          "metadata": {},
          "execution_count": 9
        },
        {
          "output_type": "display_data",
          "data": {
            "image/png": "[encoded data removed]",
            "text/plain": [
              "<Figure size 432x288 with 1 Axes>"
            ]
          },
          "metadata": {
            "needs_background": "light"
          }
        }
      ]
    },
    {
      "cell_type": "code",
      "source": [
        "plt.plot([1,2,3,4] , sample_data.iloc[0,:],'ro-')\n",
        "plt.plot([1,2,3,4] , sample_data.iloc[1,:],'g*-')\n",
        "plt.plot([1,2,3,4] , sample_data.iloc[2,:],'b^-')"
      ],
      "metadata": {
        "colab": {
          "base_uri": "https://localhost:8080/",
          "height": 283
        },
        "id": "90y8gqyE98Kw",
        "outputId": "1c0514bb-cf1e-4472-9a38-792378606553"
      },
      "execution_count": 10,
      "outputs": [
        {
          "output_type": "execute_result",
          "data": {
            "text/plain": [
              "[<matplotlib.lines.Line2D at 0x7f1728262fd0>]"
            ]
          },
          "metadata": {},
          "execution_count": 10
        },
        {
          "output_type": "display_data",
          "data": {
            "image/png": "[encoded data removed]",
            "text/plain": [
              "<Figure size 432x288 with 1 Axes>"
            ]
          },
          "metadata": {
            "needs_background": "light"
          }
        }
      ]
    },
    {
      "cell_type": "code",
      "source": [
        "plt.plot([1,1],[min(sample_data.iloc[:,0]),max(sample_data.iloc[:,0])],'c:')\n",
        "plt.plot([2,2] , [min(sample_data.iloc[:,1]),max(sample_data.iloc[:,1])],'c:')\n",
        "plt.plot([3,3] , [min(sample_data.iloc[:,2]),max(sample_data.iloc[:,2])],'c:')\n",
        "plt.plot([4,4] , [min(sample_data.iloc[:,3]),max(sample_data.iloc[:,3])],'c:')\n",
        "\n",
        "plt.plot([1,2,3,4] , sample_data.iloc[0,:],'ro')\n",
        "plt.plot([1,2,3,4] , sample_data.iloc[1,:],'g*')\n",
        "plt.plot([1,2,3,4] , sample_data.iloc[2,:],'b^')"
      ],
      "metadata": {
        "colab": {
          "base_uri": "https://localhost:8080/",
          "height": 283
        },
        "id": "pWoPaTJx-MN8",
        "outputId": "1f6b791b-e77d-420f-fd97-2c98235be562"
      },
      "execution_count": 11,
      "outputs": [
        {
          "output_type": "execute_result",
          "data": {
            "text/plain": [
              "[<matplotlib.lines.Line2D at 0x7f1728174790>]"
            ]
          },
          "metadata": {},
          "execution_count": 11
        },
        {
          "output_type": "display_data",
          "data": {
            "image/png": "[encoded data removed]",
            "text/plain": [
              "<Figure size 432x288 with 1 Axes>"
            ]
          },
          "metadata": {
            "needs_background": "light"
          }
        }
      ]
    },
    {
      "cell_type": "markdown",
      "source": [
        "### การใช้ plt.plot"
      ],
      "metadata": {
        "id": "T_T2fq7ZBvm9"
      }
    },
    {
      "cell_type": "code",
      "source": [
        "plt.plot([1],[2],'ro')"
      ],
      "metadata": {
        "colab": {
          "base_uri": "https://localhost:8080/",
          "height": 283
        },
        "id": "_b_ptGeGChur",
        "outputId": "5a376e16-fce9-4a23-f338-174ed8daa2d1"
      },
      "execution_count": 12,
      "outputs": [
        {
          "output_type": "execute_result",
          "data": {
            "text/plain": [
              "[<matplotlib.lines.Line2D at 0x7f172815ec90>]"
            ]
          },
          "metadata": {},
          "execution_count": 12
        },
        {
          "output_type": "display_data",
          "data": {
            "image/png": "[encoded data removed]",
            "text/plain": [
              "<Figure size 432x288 with 1 Axes>"
            ]
          },
          "metadata": {
            "needs_background": "light"
          }
        }
      ]
    },
    {
      "cell_type": "code",
      "source": [
        "plt.plot([1],[2],[2,4],'ro')"
      ],
      "metadata": {
        "colab": {
          "base_uri": "https://localhost:8080/",
          "height": 301
        },
        "id": "QP-BWXvACyF_",
        "outputId": "417bd3a7-c902-4e0b-9bf5-870b7d05a7c5"
      },
      "execution_count": 13,
      "outputs": [
        {
          "output_type": "execute_result",
          "data": {
            "text/plain": [
              "[<matplotlib.lines.Line2D at 0x7f17280d1550>,\n",
              " <matplotlib.lines.Line2D at 0x7f17280d1790>]"
            ]
          },
          "metadata": {},
          "execution_count": 13
        },
        {
          "output_type": "display_data",
          "data": {
            "image/png": "[encoded data removed]",
            "text/plain": [
              "<Figure size 432x288 with 1 Axes>"
            ]
          },
          "metadata": {
            "needs_background": "light"
          }
        }
      ]
    },
    {
      "cell_type": "code",
      "source": [
        "plt.plot([1,2],[2,4],'ro-.')"
      ],
      "metadata": {
        "colab": {
          "base_uri": "https://localhost:8080/",
          "height": 283
        },
        "id": "kyBeBmn1C6R7",
        "outputId": "ccd2ee1e-8081-4abd-fe67-37e9a5be548d"
      },
      "execution_count": 14,
      "outputs": [
        {
          "output_type": "execute_result",
          "data": {
            "text/plain": [
              "[<matplotlib.lines.Line2D at 0x7f17281814d0>]"
            ]
          },
          "metadata": {},
          "execution_count": 14
        },
        {
          "output_type": "display_data",
          "data": {
            "image/png": "[encoded data removed]",
            "text/plain": [
              "<Figure size 432x288 with 1 Axes>"
            ]
          },
          "metadata": {
            "needs_background": "light"
          }
        }
      ]
    },
    {
      "cell_type": "code",
      "source": [
        "plt.plot([1,1] , [min(sample_data.iloc[:,0]), max(sample_data.iloc[:,0])],'c:')\n",
        "plt.plot([2,2] , [min(sample_data.iloc[:,1]), max(sample_data.iloc[:,1])],'c:')\n",
        "plt.plot([3,3] , [min(sample_data.iloc[:,2]), max(sample_data.iloc[:2])],'c:')\n",
        "plt.plot([4,4] , [min(sample_data.iloc[:,3] ), max(sample_data.iloc[:,3])],'c:')\n",
        "\n",
        "plt.plot([1,2,3,4],sample_data.iloc[0,:],'ro',label='Sentosa')\n",
        "plt.plot([1,2,3,4],sample_data.iloc[1,:],'g*' ,label='Versicolor')\n",
        "plt.plot([1,2,3,4],sample_data.iloc[2,:],'b^',label='Virginica')\n",
        "plt.legend()"
      ],
      "metadata": {
        "colab": {
          "base_uri": "https://localhost:8080/",
          "height": 283
        },
        "id": "tYDUa7f3DRTt",
        "outputId": "bf66abfe-fc9c-45ed-e3ba-699bf6206df1"
      },
      "execution_count": 15,
      "outputs": [
        {
          "output_type": "execute_result",
          "data": {
            "text/plain": [
              "<matplotlib.legend.Legend at 0x7f172f3f0cd0>"
            ]
          },
          "metadata": {},
          "execution_count": 15
        },
        {
          "output_type": "display_data",
          "data": {
            "image/png": "[encoded data removed]",
            "text/plain": [
              "<Figure size 432x288 with 1 Axes>"
            ]
          },
          "metadata": {
            "needs_background": "light"
          }
        }
      ]
    },
    {
      "cell_type": "code",
      "source": [
        "example_df.iloc[:,:-1].columns.tolist()"
      ],
      "metadata": {
        "colab": {
          "base_uri": "https://localhost:8080/"
        },
        "id": "w5ZBNFXDFNC_",
        "outputId": "8b3a0fc1-acc2-442d-cb83-08d449686b13"
      },
      "execution_count": 16,
      "outputs": [
        {
          "output_type": "execute_result",
          "data": {
            "text/plain": [
              "['SepalLength', 'SepalWidth', 'PetalLength', 'PetalWidth']"
            ]
          },
          "metadata": {},
          "execution_count": 16
        }
      ]
    },
    {
      "cell_type": "code",
      "source": [
        "plt.plot([1,1] , [min(sample_data.iloc[:,0] ), max(sample_data.iloc[:,0])],'c:')\n",
        "plt.plot([2,2] , [min(sample_data.iloc[:,1] ), max(sample_data.iloc[:,1])],'c:')\n",
        "plt.plot([3,3] , [min(sample_data.iloc[:,2] ), max(sample_data.iloc[:,2])],'c:')\n",
        "plt.plot([4,4] , [min(sample_data.iloc[:,3] ), max(sample_data.iloc[:,3])],'c:')\n",
        "\n",
        "plt.plot([1,2,3,4],sample_data.iloc[0,:],'ro',label='Sentosa')\n",
        "plt.plot([1,2,3,4],sample_data.iloc[1,:],'g*',label='Versicolor')\n",
        "plt.plot([1,2,3,4],sample_data.iloc[2,:],'b^',label='Virginica')\n",
        "plt.legend()\n",
        "plt.xticks([1,2,3,4],example_df.iloc[:,:-1].columns.tolist(), rotation='vertical')"
      ],
      "metadata": {
        "colab": {
          "base_uri": "https://localhost:8080/",
          "height": 461
        },
        "id": "9SUEaS7EFWYZ",
        "outputId": "251c0423-1a33-47b4-dd70-8799aff727c6"
      },
      "execution_count": 17,
      "outputs": [
        {
          "output_type": "execute_result",
          "data": {
            "text/plain": [
              "([<matplotlib.axis.XTick at 0x7f1727fa0110>,\n",
              "  <matplotlib.axis.XTick at 0x7f1727fa00d0>,\n",
              "  <matplotlib.axis.XTick at 0x7f17280d1f50>,\n",
              "  <matplotlib.axis.XTick at 0x7f1727eec0d0>],\n",
              " [Text(0, 0, 'SepalLength'),\n",
              "  Text(0, 0, 'SepalWidth'),\n",
              "  Text(0, 0, 'PetalLength'),\n",
              "  Text(0, 0, 'PetalWidth')])"
            ]
          },
          "metadata": {},
          "execution_count": 17
        },
        {
          "output_type": "display_data",
          "data": {
            "image/png": "[encoded data removed]",
            "text/plain": [
              "<Figure size 432x288 with 1 Axes>"
            ]
          },
          "metadata": {
            "needs_background": "light"
          }
        }
      ]
    },
    {
      "cell_type": "code",
      "source": [
        "plt.plot([1,1] , [min(sample_data.iloc[:,0] ), max(sample_data.iloc[:,0])],'c:')\n",
        "plt.plot([2,2] , [min(sample_data.iloc[:,1] ), max(sample_data.iloc[:,1])],'c:')\n",
        "plt.plot([3,3] , [min(sample_data.iloc[:,2] ), max(sample_data.iloc[:,2])],'c:')\n",
        "plt.plot([4,4] , [min(sample_data.iloc[:,3] ), max(sample_data.iloc[:,3])],'c:')\n",
        "\n",
        "plt.plot([1,2,3,4],sample_data.iloc[0,:],'ro',label='Sentosa')\n",
        "plt.plot([1,2,3,4],sample_data.iloc[1,:],'g*',label='Versicolor')\n",
        "plt.plot([1,2,3,4],sample_data.iloc[2,:],'b^',label='Virginica')\n",
        "plt.legend()\n",
        "plt.xticks([1,2,3,4],example_df.iloc[:,:-1].columns.tolist(), rotation='vertical')\n",
        "plt.title('Features comparison between 3 different Iris flowers');"
      ],
      "metadata": {
        "colab": {
          "base_uri": "https://localhost:8080/",
          "height": 333
        },
        "outputId": "60a5372f-66e6-4aa8-a8c9-427a29ebb024",
        "id": "zI6quD4nIEh7"
      },
      "execution_count": 18,
      "outputs": [
        {
          "output_type": "display_data",
          "data": {
            "image/png": "[encoded data removed]",
            "text/plain": [
              "<Figure size 432x288 with 1 Axes>"
            ]
          },
          "metadata": {
            "needs_background": "light"
          }
        }
      ]
    },
    {
      "cell_type": "code",
      "source": [
        "plt.plot([1,1] , [min(sample_data.iloc[:,0] ), max(sample_data.iloc[:,0])],'c:')\n",
        "plt.plot([2,2] , [min(sample_data.iloc[:,1] ), max(sample_data.iloc[:,1])],'c:')\n",
        "plt.plot([3,3] , [min(sample_data.iloc[:,2] ), max(sample_data.iloc[:,2])],'c:')\n",
        "plt.plot([4,4] , [min(sample_data.iloc[:,3] ), max(sample_data.iloc[:,3])],'c:')\n",
        "\n",
        "plt.plot([1,2,3,4],sample_data.iloc[0,:],'ro',label='Sentosa')\n",
        "plt.plot([1,2,3,4],sample_data.iloc[1,:],'g*',label='Versicolor')\n",
        "plt.plot([1,2,3,4],sample_data.iloc[2,:],'b^',label='Virginica')\n",
        "\n",
        "plt.legend()\n",
        "plt.xticks([1,2,3,4],example_df.iloc[:,:-1].columns.tolist(), rotation='vertical')\n",
        "plt.title('Features comparison between 3 different Iris flowers')\n",
        "plt.ylabel('size (cm)');"
      ],
      "metadata": {
        "colab": {
          "base_uri": "https://localhost:8080/",
          "height": 333
        },
        "outputId": "ddaff707-e436-4aed-e3c1-d711e1659f01",
        "id": "6odmOHV_In0Q"
      },
      "execution_count": 19,
      "outputs": [
        {
          "output_type": "display_data",
          "data": {
            "image/png": "[encoded data removed]",
            "text/plain": [
              "<Figure size 432x288 with 1 Axes>"
            ]
          },
          "metadata": {
            "needs_background": "light"
          }
        }
      ]
    },
    {
      "cell_type": "markdown",
      "source": [
        "## HW6 สร้างเมฆ สร้างฝน"
      ],
      "metadata": {
        "id": "c4Oz0pNzJG5z"
      }
    },
    {
      "cell_type": "code",
      "source": [
        "plt.plot([2,2.5,3,3.5,4],[8,6,6,6,8],'b-')\n",
        "plt.plot([2,2.5,3,3.5,4],[8,11,10.5,11,8],'b-')\n",
        "plt.plot([2.5,2.5,2.5,2.5],[5,4,3,2],'b^')\n",
        "plt.plot([2.75,2.75,2.75],[5,4,3],'b^')\n",
        "plt.plot([3,3,3],[5,3,2],'b^')\n",
        "plt.plot([3.25,3.25],[5,3],'b^')\n",
        "plt.plot([3.50,3.50,3.50,3.50],[5,4,3,2],'b^')"
      ],
      "metadata": {
        "colab": {
          "base_uri": "https://localhost:8080/",
          "height": 283
        },
        "id": "UjNy0uWSOVqm",
        "outputId": "586e015a-f3e9-4100-b138-0a7042fd20f9"
      },
      "execution_count": 20,
      "outputs": [
        {
          "output_type": "execute_result",
          "data": {
            "text/plain": [
              "[<matplotlib.lines.Line2D at 0x7f1727d89650>]"
            ]
          },
          "metadata": {},
          "execution_count": 20
        },
        {
          "output_type": "display_data",
          "data": {
            "image/png": "[encoded data removed]",
            "text/plain": [
              "<Figure size 432x288 with 1 Axes>"
            ]
          },
          "metadata": {
            "needs_background": "light"
          }
        }
      ]
    },
    {
      "cell_type": "code",
      "source": [
        "from matplotlib import pyplot as plt\n",
        "plt.plot\n",
        "# ก้อนเมฆ\n",
        "plt.figure(figsize=[10,6]) #กำหนดขนาดของรูปในแนวตั้งและแนวนอน\n",
        "plt.plot([0.5,0.5,0.5,0.5,1,1.5,2,2.5,3,3,3.5,4,4.5,5,5.5,6,6.5,7,7.5,8,8.5,8.5,9,9,10,10.5,11,11.5,12,12.5,12.5],\n",
        "           [1.5,2,2.5,3,3.5,4,4,4,4.5,5,5.5,6,6.5,6.5,6.5,6.5,6,5.5,5.5,5,4.5,4,4,4,4,3.5,3,3,3,2.5,2],'b-')\n",
        "plt.plot([0.5,1,1.5,2,2.5,3,3.5,4,4.5,5,5.5,6,6.5,7,7.5,8,8.5,9,9.5,10,10.5,11,11.5,12,12.5,12.5],\n",
        "           [1.5,1,1,1,1,1,1,1,1,1,1,1,1,1,1,1,1,1,1,1,1,1,1,1,1.5,2],'b-')\n",
        "\n",
        "# ฝน\n",
        "#แถวที่1\n",
        "plt.plot([1.5,2,2.5],[-0.5,-1,-1.5],'c-.')\n",
        "plt.plot([4.5,5,5.5],[-0.5,-1,-1.5],'b-.')\n",
        "plt.plot([7.5,8,8.5],[-0.5,-1,-1.5],'c-.')\n",
        "plt.plot([10.5,11,11.5],[-0.5,-1,-1.5],'b-.')\n",
        "#แถวที่2\n",
        "plt.plot([3.5,4,4.5],[-2,-2.5,-3],'b-.')\n",
        "plt.plot([6.5,7,7.5],[-2,-2.5,-3],'c-.')\n",
        "plt.plot([9.5,10,10.5],[-2,-2.5,-3],'b-.')"
      ],
      "metadata": {
        "id": "aFqf8UThEIDu",
        "colab": {
          "base_uri": "https://localhost:8080/",
          "height": 392
        },
        "outputId": "031bd047-aa1f-4f39-838a-64e74b6578f2"
      },
      "execution_count": 21,
      "outputs": [
        {
          "output_type": "execute_result",
          "data": {
            "text/plain": [
              "[<matplotlib.lines.Line2D at 0x7f1727d14a10>]"
            ]
          },
          "metadata": {},
          "execution_count": 21
        },
        {
          "output_type": "display_data",
          "data": {
            "image/png": "[encoded data removed]",
            "text/plain": [
              "<Figure size 720x432 with 1 Axes>"
            ]
          },
          "metadata": {
            "needs_background": "light"
          }
        }
      ]
    },
    {
      "cell_type": "markdown",
      "source": [
        "## Bar chart"
      ],
      "metadata": {
        "id": "K5TzhaD_Rbd2"
      }
    },
    {
      "cell_type": "code",
      "source": [
        "sample_data"
      ],
      "metadata": {
        "id": "Vd6-5xTIRem2",
        "outputId": "dc6562cc-5334-489c-cefd-62c6d746815b",
        "colab": {
          "base_uri": "https://localhost:8080/",
          "height": 173
        }
      },
      "execution_count": 22,
      "outputs": [
        {
          "output_type": "execute_result",
          "data": {
            "text/html": [
              "\n",
              "  <div id=\"df-36af76a6-ed9e-4add-a4c2-109b5eb993ed\">\n",
              "    <div class=\"colab-df-container\">\n",
              "      <div>\n",
              "<style scoped>\n",
              "    .dataframe tbody tr th:only-of-type {\n",
              "        vertical-align: middle;\n",
              "    }\n",
              "\n",
              "    .dataframe tbody tr th {\n",
              "        vertical-align: top;\n",
              "    }\n",
              "\n",
              "    .dataframe thead th {\n",
              "        text-align: right;\n",
              "    }\n",
              "</style>\n",
              "<table border=\"1\" class=\"dataframe\">\n",
              "  <thead>\n",
              "    <tr style=\"text-align: right;\">\n",
              "      <th></th>\n",
              "      <th>SepalLength</th>\n",
              "      <th>SepalWidth</th>\n",
              "      <th>PetalLength</th>\n",
              "      <th>PetalWidth</th>\n",
              "    </tr>\n",
              "    <tr>\n",
              "      <th>Name</th>\n",
              "      <th></th>\n",
              "      <th></th>\n",
              "      <th></th>\n",
              "      <th></th>\n",
              "    </tr>\n",
              "  </thead>\n",
              "  <tbody>\n",
              "    <tr>\n",
              "      <th>Iris-setosa</th>\n",
              "      <td>5.006</td>\n",
              "      <td>3.418</td>\n",
              "      <td>1.464</td>\n",
              "      <td>0.244</td>\n",
              "    </tr>\n",
              "    <tr>\n",
              "      <th>Iris-versicolor</th>\n",
              "      <td>5.936</td>\n",
              "      <td>2.770</td>\n",
              "      <td>4.260</td>\n",
              "      <td>1.326</td>\n",
              "    </tr>\n",
              "    <tr>\n",
              "      <th>Iris-virginica</th>\n",
              "      <td>6.588</td>\n",
              "      <td>2.974</td>\n",
              "      <td>5.552</td>\n",
              "      <td>2.026</td>\n",
              "    </tr>\n",
              "  </tbody>\n",
              "</table>\n",
              "</div>\n",
              "      <button class=\"colab-df-convert\" onclick=\"convertToInteractive('df-36af76a6-ed9e-4add-a4c2-109b5eb993ed')\"\n",
              "              title=\"Convert this dataframe to an interactive table.\"\n",
              "              style=\"display:none;\">\n",
              "        \n",
              "  <svg xmlns=\"http://www.w3.org/2000/svg\" height=\"24px\"viewBox=\"0 0 24 24\"\n",
              "       width=\"24px\">\n",
              "    <path d=\"M0 0h24v24H0V0z\" fill=\"none\"/>\n",
              "    <path d=\"M18.56 5.44l.94 2.06.94-2.06 2.06-.94-2.06-.94-.94-2.06-.94 2.06-2.06.94zm-11 1L8.5 8.5l.94-2.06 2.06-.94-2.06-.94L8.5 2.5l-.94 2.06-2.06.94zm10 10l.94 2.06.94-2.06 2.06-.94-2.06-.94-.94-2.06-.94 2.06-2.06.94z\"/><path d=\"M17.41 7.96l-1.37-1.37c-.4-.4-.92-.59-1.43-.59-.52 0-1.04.2-1.43.59L10.3 9.45l-7.72 7.72c-.78.78-.78 2.05 0 2.83L4 21.41c.39.39.9.59 1.41.59.51 0 1.02-.2 1.41-.59l7.78-7.78 2.81-2.81c.8-.78.8-2.07 0-2.86zM5.41 20L4 18.59l7.72-7.72 1.47 1.35L5.41 20z\"/>\n",
              "  </svg>\n",
              "      </button>\n",
              "      \n",
              "  <style>\n",
              "    .colab-df-container {\n",
              "      display:flex;\n",
              "      flex-wrap:wrap;\n",
              "      gap: 12px;\n",
              "    }\n",
              "\n",
              "    .colab-df-convert {\n",
              "      background-color: #E8F0FE;\n",
              "      border: none;\n",
              "      border-radius: 50%;\n",
              "      cursor: pointer;\n",
              "      display: none;\n",
              "      fill: #1967D2;\n",
              "      height: 32px;\n",
              "      padding: 0 0 0 0;\n",
              "      width: 32px;\n",
              "    }\n",
              "\n",
              "    .colab-df-convert:hover {\n",
              "      background-color: #E2EBFA;\n",
              "      box-shadow: 0px 1px 2px rgba(60, 64, 67, 0.3), 0px 1px 3px 1px rgba(60, 64, 67, 0.15);\n",
              "      fill: #174EA6;\n",
              "    }\n",
              "\n",
              "    [theme=dark] .colab-df-convert {\n",
              "      background-color: #3B4455;\n",
              "      fill: #D2E3FC;\n",
              "    }\n",
              "\n",
              "    [theme=dark] .colab-df-convert:hover {\n",
              "      background-color: #434B5C;\n",
              "      box-shadow: 0px 1px 3px 1px rgba(0, 0, 0, 0.15);\n",
              "      filter: drop-shadow(0px 1px 2px rgba(0, 0, 0, 0.3));\n",
              "      fill: #FFFFFF;\n",
              "    }\n",
              "  </style>\n",
              "\n",
              "      <script>\n",
              "        const buttonEl =\n",
              "          document.querySelector('#df-36af76a6-ed9e-4add-a4c2-109b5eb993ed button.colab-df-convert');\n",
              "        buttonEl.style.display =\n",
              "          google.colab.kernel.accessAllowed ? 'block' : 'none';\n",
              "\n",
              "        async function convertToInteractive(key) {\n",
              "          const element = document.querySelector('#df-36af76a6-ed9e-4add-a4c2-109b5eb993ed');\n",
              "          const dataTable =\n",
              "            await google.colab.kernel.invokeFunction('convertToInteractive',\n",
              "                                                     [key], {});\n",
              "          if (!dataTable) return;\n",
              "\n",
              "          const docLinkHtml = 'Like what you see? Visit the ' +\n",
              "            '<a target=\"_blank\" href=https://colab.research.google.com/notebooks/data_table.ipynb>data table notebook</a>'\n",
              "            + ' to learn more about interactive tables.';\n",
              "          element.innerHTML = '';\n",
              "          dataTable['output_type'] = 'display_data';\n",
              "          await google.colab.output.renderOutput(dataTable, element);\n",
              "          const docLink = document.createElement('div');\n",
              "          docLink.innerHTML = docLinkHtml;\n",
              "          element.appendChild(docLink);\n",
              "        }\n",
              "      </script>\n",
              "    </div>\n",
              "  </div>\n",
              "  "
            ],
            "text/plain": [
              "                 SepalLength  SepalWidth  PetalLength  PetalWidth\n",
              "Name                                                             \n",
              "Iris-setosa            5.006       3.418        1.464       0.244\n",
              "Iris-versicolor        5.936       2.770        4.260       1.326\n",
              "Iris-virginica         6.588       2.974        5.552       2.026"
            ]
          },
          "metadata": {},
          "execution_count": 22
        }
      ]
    },
    {
      "cell_type": "code",
      "source": [
        "sample_data['PetalLength']"
      ],
      "metadata": {
        "id": "egJDQOZJbXIQ",
        "outputId": "ae02df33-a726-4b03-8a3b-1cf49e983b3f",
        "colab": {
          "base_uri": "https://localhost:8080/"
        }
      },
      "execution_count": 23,
      "outputs": [
        {
          "output_type": "execute_result",
          "data": {
            "text/plain": [
              "Name\n",
              "Iris-setosa        1.464\n",
              "Iris-versicolor    4.260\n",
              "Iris-virginica     5.552\n",
              "Name: PetalLength, dtype: float64"
            ]
          },
          "metadata": {},
          "execution_count": 23
        }
      ]
    },
    {
      "cell_type": "code",
      "source": [
        "sample_data['PetalLength'][0]"
      ],
      "metadata": {
        "id": "uukE_pJ7beV4",
        "outputId": "c012f471-6c1a-43fd-ad11-65de06ebd321",
        "colab": {
          "base_uri": "https://localhost:8080/"
        }
      },
      "execution_count": 24,
      "outputs": [
        {
          "output_type": "execute_result",
          "data": {
            "text/plain": [
              "1.464"
            ]
          },
          "metadata": {},
          "execution_count": 24
        }
      ]
    },
    {
      "cell_type": "markdown",
      "source": [
        "###เปรียบเทียบปริมาณ 1 ปริมาณของ object หลาย class"
      ],
      "metadata": {
        "id": "tEZijWZ2R34X"
      }
    },
    {
      "cell_type": "code",
      "source": [
        "plt.bar([1,2,3],sample_data['PetalLength'])"
      ],
      "metadata": {
        "id": "aAFn01BFbmld",
        "outputId": "00142221-5172-422c-ebfb-2c0b0ec04a27",
        "colab": {
          "base_uri": "https://localhost:8080/",
          "height": 283
        }
      },
      "execution_count": 25,
      "outputs": [
        {
          "output_type": "execute_result",
          "data": {
            "text/plain": [
              "<BarContainer object of 3 artists>"
            ]
          },
          "metadata": {},
          "execution_count": 25
        },
        {
          "output_type": "display_data",
          "data": {
            "image/png": "[encoded data removed]",
            "text/plain": [
              "<Figure size 432x288 with 1 Axes>"
            ]
          },
          "metadata": {
            "needs_background": "light"
          }
        }
      ]
    },
    {
      "cell_type": "code",
      "source": [
        "sample_data.reset_index()"
      ],
      "metadata": {
        "id": "exrVZ2fUcEz6",
        "outputId": "a3553af3-10b0-493e-9120-20d70021f314",
        "colab": {
          "base_uri": "https://localhost:8080/",
          "height": 142
        }
      },
      "execution_count": 26,
      "outputs": [
        {
          "output_type": "execute_result",
          "data": {
            "text/html": [
              "\n",
              "  <div id=\"df-19cfda17-ca92-42a2-ac9e-c6c7e3ecad67\">\n",
              "    <div class=\"colab-df-container\">\n",
              "      <div>\n",
              "<style scoped>\n",
              "    .dataframe tbody tr th:only-of-type {\n",
              "        vertical-align: middle;\n",
              "    }\n",
              "\n",
              "    .dataframe tbody tr th {\n",
              "        vertical-align: top;\n",
              "    }\n",
              "\n",
              "    .dataframe thead th {\n",
              "        text-align: right;\n",
              "    }\n",
              "</style>\n",
              "<table border=\"1\" class=\"dataframe\">\n",
              "  <thead>\n",
              "    <tr style=\"text-align: right;\">\n",
              "      <th></th>\n",
              "      <th>Name</th>\n",
              "      <th>SepalLength</th>\n",
              "      <th>SepalWidth</th>\n",
              "      <th>PetalLength</th>\n",
              "      <th>PetalWidth</th>\n",
              "    </tr>\n",
              "  </thead>\n",
              "  <tbody>\n",
              "    <tr>\n",
              "      <th>0</th>\n",
              "      <td>Iris-setosa</td>\n",
              "      <td>5.006</td>\n",
              "      <td>3.418</td>\n",
              "      <td>1.464</td>\n",
              "      <td>0.244</td>\n",
              "    </tr>\n",
              "    <tr>\n",
              "      <th>1</th>\n",
              "      <td>Iris-versicolor</td>\n",
              "      <td>5.936</td>\n",
              "      <td>2.770</td>\n",
              "      <td>4.260</td>\n",
              "      <td>1.326</td>\n",
              "    </tr>\n",
              "    <tr>\n",
              "      <th>2</th>\n",
              "      <td>Iris-virginica</td>\n",
              "      <td>6.588</td>\n",
              "      <td>2.974</td>\n",
              "      <td>5.552</td>\n",
              "      <td>2.026</td>\n",
              "    </tr>\n",
              "  </tbody>\n",
              "</table>\n",
              "</div>\n",
              "      <button class=\"colab-df-convert\" onclick=\"convertToInteractive('df-19cfda17-ca92-42a2-ac9e-c6c7e3ecad67')\"\n",
              "              title=\"Convert this dataframe to an interactive table.\"\n",
              "              style=\"display:none;\">\n",
              "        \n",
              "  <svg xmlns=\"http://www.w3.org/2000/svg\" height=\"24px\"viewBox=\"0 0 24 24\"\n",
              "       width=\"24px\">\n",
              "    <path d=\"M0 0h24v24H0V0z\" fill=\"none\"/>\n",
              "    <path d=\"M18.56 5.44l.94 2.06.94-2.06 2.06-.94-2.06-.94-.94-2.06-.94 2.06-2.06.94zm-11 1L8.5 8.5l.94-2.06 2.06-.94-2.06-.94L8.5 2.5l-.94 2.06-2.06.94zm10 10l.94 2.06.94-2.06 2.06-.94-2.06-.94-.94-2.06-.94 2.06-2.06.94z\"/><path d=\"M17.41 7.96l-1.37-1.37c-.4-.4-.92-.59-1.43-.59-.52 0-1.04.2-1.43.59L10.3 9.45l-7.72 7.72c-.78.78-.78 2.05 0 2.83L4 21.41c.39.39.9.59 1.41.59.51 0 1.02-.2 1.41-.59l7.78-7.78 2.81-2.81c.8-.78.8-2.07 0-2.86zM5.41 20L4 18.59l7.72-7.72 1.47 1.35L5.41 20z\"/>\n",
              "  </svg>\n",
              "      </button>\n",
              "      \n",
              "  <style>\n",
              "    .colab-df-container {\n",
              "      display:flex;\n",
              "      flex-wrap:wrap;\n",
              "      gap: 12px;\n",
              "    }\n",
              "\n",
              "    .colab-df-convert {\n",
              "      background-color: #E8F0FE;\n",
              "      border: none;\n",
              "      border-radius: 50%;\n",
              "      cursor: pointer;\n",
              "      display: none;\n",
              "      fill: #1967D2;\n",
              "      height: 32px;\n",
              "      padding: 0 0 0 0;\n",
              "      width: 32px;\n",
              "    }\n",
              "\n",
              "    .colab-df-convert:hover {\n",
              "      background-color: #E2EBFA;\n",
              "      box-shadow: 0px 1px 2px rgba(60, 64, 67, 0.3), 0px 1px 3px 1px rgba(60, 64, 67, 0.15);\n",
              "      fill: #174EA6;\n",
              "    }\n",
              "\n",
              "    [theme=dark] .colab-df-convert {\n",
              "      background-color: #3B4455;\n",
              "      fill: #D2E3FC;\n",
              "    }\n",
              "\n",
              "    [theme=dark] .colab-df-convert:hover {\n",
              "      background-color: #434B5C;\n",
              "      box-shadow: 0px 1px 3px 1px rgba(0, 0, 0, 0.15);\n",
              "      filter: drop-shadow(0px 1px 2px rgba(0, 0, 0, 0.3));\n",
              "      fill: #FFFFFF;\n",
              "    }\n",
              "  </style>\n",
              "\n",
              "      <script>\n",
              "        const buttonEl =\n",
              "          document.querySelector('#df-19cfda17-ca92-42a2-ac9e-c6c7e3ecad67 button.colab-df-convert');\n",
              "        buttonEl.style.display =\n",
              "          google.colab.kernel.accessAllowed ? 'block' : 'none';\n",
              "\n",
              "        async function convertToInteractive(key) {\n",
              "          const element = document.querySelector('#df-19cfda17-ca92-42a2-ac9e-c6c7e3ecad67');\n",
              "          const dataTable =\n",
              "            await google.colab.kernel.invokeFunction('convertToInteractive',\n",
              "                                                     [key], {});\n",
              "          if (!dataTable) return;\n",
              "\n",
              "          const docLinkHtml = 'Like what you see? Visit the ' +\n",
              "            '<a target=\"_blank\" href=https://colab.research.google.com/notebooks/data_table.ipynb>data table notebook</a>'\n",
              "            + ' to learn more about interactive tables.';\n",
              "          element.innerHTML = '';\n",
              "          dataTable['output_type'] = 'display_data';\n",
              "          await google.colab.output.renderOutput(dataTable, element);\n",
              "          const docLink = document.createElement('div');\n",
              "          docLink.innerHTML = docLinkHtml;\n",
              "          element.appendChild(docLink);\n",
              "        }\n",
              "      </script>\n",
              "    </div>\n",
              "  </div>\n",
              "  "
            ],
            "text/plain": [
              "              Name  SepalLength  SepalWidth  PetalLength  PetalWidth\n",
              "0      Iris-setosa        5.006       3.418        1.464       0.244\n",
              "1  Iris-versicolor        5.936       2.770        4.260       1.326\n",
              "2   Iris-virginica        6.588       2.974        5.552       2.026"
            ]
          },
          "metadata": {},
          "execution_count": 26
        }
      ]
    },
    {
      "cell_type": "code",
      "source": [
        "sample_data.reset_index()['Name']"
      ],
      "metadata": {
        "id": "XVnXaGcscSWk",
        "outputId": "01eda826-80b4-4e17-f180-f375ffb01b47",
        "colab": {
          "base_uri": "https://localhost:8080/"
        }
      },
      "execution_count": 27,
      "outputs": [
        {
          "output_type": "execute_result",
          "data": {
            "text/plain": [
              "0        Iris-setosa\n",
              "1    Iris-versicolor\n",
              "2     Iris-virginica\n",
              "Name: Name, dtype: object"
            ]
          },
          "metadata": {},
          "execution_count": 27
        }
      ]
    },
    {
      "cell_type": "code",
      "source": [
        "plt.bar([1,2,3],sample_data['PetalLength'])\n",
        "plt.xticks([1,2,3], sample_data.reset_index()['Name'], rotation='vertical')\n",
        "plt.title('Comparison between average petal length of 3 iris flowers')\n",
        "plt.ylabel('size (cm)');"
      ],
      "metadata": {
        "id": "W6yPIiWscYWC",
        "outputId": "0da38607-b387-4e9f-dbbc-12ea84355da5",
        "colab": {
          "base_uri": "https://localhost:8080/",
          "height": 339
        }
      },
      "execution_count": 28,
      "outputs": [
        {
          "output_type": "display_data",
          "data": {
            "image/png": "[encoded data removed]",
            "text/plain": [
              "<Figure size 432x288 with 1 Axes>"
            ]
          },
          "metadata": {
            "needs_background": "light"
          }
        }
      ]
    },
    {
      "cell_type": "code",
      "source": [
        "plt.bar([1,2,3],sample_data['PetalLength'])\n",
        "plt.xticks([1,2,3], sample_data.reset_index()['Name'], rotation='vertical')\n",
        "plt.title('Comparison between average petal length of 3 iris flowers')\n",
        "plt.grid(True,axis='y')\n",
        "plt.ylabel('size (cm)');"
      ],
      "metadata": {
        "id": "ac8oJnQ4diyL",
        "outputId": "a23eeb14-e5e8-489e-e311-19fe1dd5e2f3",
        "colab": {
          "base_uri": "https://localhost:8080/",
          "height": 339
        }
      },
      "execution_count": 29,
      "outputs": [
        {
          "output_type": "display_data",
          "data": {
            "image/png": "[encoded data removed]",
            "text/plain": [
              "<Figure size 432x288 with 1 Axes>"
            ]
          },
          "metadata": {
            "needs_background": "light"
          }
        }
      ]
    },
    {
      "cell_type": "code",
      "source": [
        "plt.bar([1,2,3],sample_data['PetalLength'],color=['r','g','b'])\n",
        "plt.xticks([1,2,3], sample_data.reset_index()['Name'], rotation='vertical')\n",
        "plt.title('Comparison between average petal length of 3 iris flowers')\n",
        "plt.grid(True)\n",
        "plt.ylabel('size (cm)');"
      ],
      "metadata": {
        "id": "QVd_U1qquGPg",
        "outputId": "5f78c738-b333-4b1b-9064-0fac6fc48ab8",
        "colab": {
          "base_uri": "https://localhost:8080/",
          "height": 339
        }
      },
      "execution_count": 30,
      "outputs": [
        {
          "output_type": "display_data",
          "data": {
            "image/png": "[encoded data removed]",
            "text/plain": [
              "<Figure size 432x288 with 1 Axes>"
            ]
          },
          "metadata": {
            "needs_background": "light"
          }
        }
      ]
    },
    {
      "cell_type": "markdown",
      "source": [
        "###เปรียบเทียบปริมาณ มากกว่า 1 ปริมาณของ object หลาย class"
      ],
      "metadata": {
        "id": "6XvVkwTbVbzK"
      }
    },
    {
      "cell_type": "markdown",
      "source": [
        "![0B7343A1-247E-4495-BBCA-0EC6189D050D.png](data:image/png;base64,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)"
      ],
      "metadata": {
        "id": "TjXLrYP2VznH"
      }
    },
    {
      "cell_type": "code",
      "source": [
        "import numpy as np"
      ],
      "metadata": {
        "id": "vXfpDfn1V2FA"
      },
      "execution_count": 31,
      "outputs": []
    },
    {
      "cell_type": "code",
      "source": [
        "width = 0.2\n",
        "\n",
        "plt.bar([1, 2],[sample_data['PetalLength'][1],sample_data['PetalWidth'][1]],width,color='g',label='versicolor') #ดอกที่ 2 versicolor\n",
        "plt.bar([1-width, 2-width],[sample_data['PetalLength'][0],sample_data['PetalWidth'][0]],width,color='r',label='setosa') #ดอกที่ 1 setosa ขยับซ้าย\n",
        "plt.bar([1+width, 2+width],[sample_data['PetalLength'][2],sample_data['PetalWidth'][2]],width,color='b',label='virginica') #ดอกที่ 1 setosa ขยับซ้าย\n",
        "\n",
        "plt.xticks([1,2], ['Petal Length','Petal Width'])\n",
        "plt.legend();"
      ],
      "metadata": {
        "id": "_U4vJc8-uSj9",
        "outputId": "3ea4749e-c1ce-4bd2-8100-c077dc04a1b6",
        "colab": {
          "base_uri": "https://localhost:8080/",
          "height": 265
        }
      },
      "execution_count": 32,
      "outputs": [
        {
          "output_type": "display_data",
          "data": {
            "image/png": "[encoded data removed]",
            "text/plain": [
              "<Figure size 432x288 with 1 Axes>"
            ]
          },
          "metadata": {
            "needs_background": "light"
          }
        }
      ]
    },
    {
      "cell_type": "markdown",
      "source": [
        "###การนำปริมาณหลายปริมาณมาซ้อนกัน"
      ],
      "metadata": {
        "id": "zOXcDvKTV-X5"
      }
    },
    {
      "cell_type": "markdown",
      "source": [
        "![4CB4C171-77EB-4501-8F6A-009C13AC2036.png](data:image/png;base64,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)"
      ],
      "metadata": {
        "id": "bCLXMxEcWIg3"
      }
    },
    {
      "cell_type": "code",
      "source": [
        "plt.bar([1,2,3],sample_data['PetalLength'],color='b',label='Petal Length')\n",
        "plt.bar([1,2,3],sample_data['PetalWidth'],bottom=sample_data['PetalLength'],color='r',label='Petal Width')\n",
        "plt.xticks([1,2,3], sample_data.reset_index()['Name'])\n",
        "plt.grid(True,axis='y')\n",
        "plt.legend();"
      ],
      "metadata": {
        "id": "NNwLkzi5uT2g",
        "outputId": "6c2c9956-bc68-4305-da5d-c89261a57523",
        "colab": {
          "base_uri": "https://localhost:8080/",
          "height": 265
        }
      },
      "execution_count": 33,
      "outputs": [
        {
          "output_type": "display_data",
          "data": {
            "image/png": "[encoded data removed]",
            "text/plain": [
              "<Figure size 432x288 with 1 Axes>"
            ]
          },
          "metadata": {
            "needs_background": "light"
          }
        }
      ]
    },
    {
      "cell_type": "markdown",
      "source": [
        "###Bar chart แบบตะแคงข้าง"
      ],
      "metadata": {
        "id": "K17txjPxWVDb"
      }
    },
    {
      "cell_type": "code",
      "source": [
        "plt.barh([1,2,3],sample_data['PetalLength'],color='b',label='Petal Length')\n",
        "plt.barh([1,2,3],sample_data['PetalWidth'],left=sample_data['PetalLength'],color='r',label='Petal Width')\n",
        "plt.yticks([1,2,3], sample_data.reset_index()['Name'])\n",
        "plt.grid(True,axis='x')\n",
        "plt.legend();"
      ],
      "metadata": {
        "id": "E7k-HABQuapC",
        "outputId": "6265a22f-8d7f-49ea-dc7e-29c3375afb52",
        "colab": {
          "base_uri": "https://localhost:8080/",
          "height": 265
        }
      },
      "execution_count": 34,
      "outputs": [
        {
          "output_type": "display_data",
          "data": {
            "image/png": "[encoded data removed]",
            "text/plain": [
              "<Figure size 432x288 with 1 Axes>"
            ]
          },
          "metadata": {
            "needs_background": "light"
          }
        }
      ]
    }
  ]
}
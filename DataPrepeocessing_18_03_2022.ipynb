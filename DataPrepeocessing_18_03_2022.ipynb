{
  "nbformat": 4,
  "nbformat_minor": 0,
  "metadata": {
    "colab": {
      "name": "DataPrepeocessing_18_03_2022.ipynb",
      "provenance": [],
      "collapsed_sections": [],
      "machine_shape": "hm",
      "include_colab_link": true
    },
    "kernelspec": {
      "name": "python3",
      "display_name": "Python 3"
    },
    "language_info": {
      "name": "python"
    },
    "accelerator": "GPU"
  },
  "cells": [
    {
      "cell_type": "markdown",
      "metadata": {
        "id": "view-in-github",
        "colab_type": "text"
      },
      "source": [
        "<a href=\"https://colab.research.google.com/github/Supaporn-Bututham/data_viz_2022/blob/main/DataPrepeocessing_18_03_2022.ipynb\" target=\"_parent\"><img src=\"https://colab.research.google.com/assets/colab-badge.svg\" alt=\"Open In Colab\"/></a>"
      ]
    },
    {
      "cell_type": "code",
      "metadata": {
        "colab": {
          "base_uri": "https://localhost:8080/"
        },
        "id": "Vd1w_47xfhhe",
        "outputId": "964d4195-92f3-429e-91c1-4de3673a0e41"
      },
      "source": [
        "%cd /content/drive/MyDrive/GoogleDataStudio"
      ],
      "execution_count": null,
      "outputs": [
        {
          "output_type": "stream",
          "name": "stdout",
          "text": [
            "/content/drive/MyDrive/GoogleDataStudio\n"
          ]
        }
      ]
    },
    {
      "cell_type": "code",
      "metadata": {
        "colab": {
          "base_uri": "https://localhost:8080/"
        },
        "id": "6Ug4tNi-gh7P",
        "outputId": "8ba623ae-335a-450b-802c-79ff7dff39ad"
      },
      "source": [
        "!ls"
      ],
      "execution_count": null,
      "outputs": [
        {
          "output_type": "stream",
          "name": "stdout",
          "text": [
            " 21082562_DataPreprocessesing01_แก้ค่าMissing.ipynb\n",
            "'27082562_DataProcessing_ต่อ_การทำBining Mean_ทำไม่ได้อาจารย์เฉลย .ipynb'\n",
            " 28082562_DataIngration_การรวมตาราง.ipynb\n",
            " 3_Data_clean.csv\n",
            " 3Data_clean_new.csv\n",
            " Clean_3_Data_clean_csv_file.ipynb\n",
            " DataPrepeocessing.ipynb\n",
            " Data-preprocessing-2_การเปลี่ยนTypeของของข้อมูล_การเลือกเรคอดตามเงื่อนไข.ipynb\n",
            " random_search_click.csv\n",
            " random_search_request.csv\n",
            " random_w_restaurant.csv\n",
            " search_click_clean.csv\n",
            " search_click.csv\n",
            " search_request_clean.csv\n",
            " search_request.csv\n",
            " w_restaurant_clean.csv\n",
            " w_restaurant.csv\n"
          ]
        }
      ]
    },
    {
      "cell_type": "code",
      "metadata": {
        "id": "WVIn7JZiglwz"
      },
      "source": [
        "import pandas as pd\n",
        "import numpy as np"
      ],
      "execution_count": null,
      "outputs": []
    },
    {
      "cell_type": "markdown",
      "metadata": {
        "id": "Bhx8d5V9FgjE"
      },
      "source": [
        "# **START CLEAN DATASET**"
      ]
    },
    {
      "cell_type": "markdown",
      "metadata": {
        "id": "ewO1crrPFp6S"
      },
      "source": [
        "## **search_click**"
      ]
    },
    {
      "cell_type": "code",
      "metadata": {
        "id": "_Pklus63wTrV",
        "colab": {
          "base_uri": "https://localhost:8080/",
          "height": 224
        },
        "outputId": "7b92b51d-8408-486f-96f8-f3c5de609820"
      },
      "source": [
        "search = pd.read_csv('search_click.csv')\n",
        "print(search.shape)\n",
        "search.head()"
      ],
      "execution_count": null,
      "outputs": [
        {
          "output_type": "stream",
          "name": "stdout",
          "text": [
            "(1048575, 6)\n"
          ]
        },
        {
          "output_type": "execute_result",
          "data": {
            "text/plain": [
              "  click_timestamp                             search_id  business_id  \\\n",
              "0         11:38.9  5c004472-5ecc-4159-9698-9f329b8e26e1     298839.0   \n",
              "1         30:51.3  5f34eca0-c04e-4c10-b600-54aa447dbd8e     171372.0   \n",
              "2         32:09.6  8dc6d1f0-11f1-4239-9dd2-5c1674c81224      16157.0   \n",
              "3         00:59.8  1a5810e9-3d1f-44b9-9a2e-26ede21c524b      89741.0   \n",
              "4         23:36.8  6bc75e0d-fc65-471e-9926-ff6be6708639     189564.0   \n",
              "\n",
              "   display_position  time_diff_nanos   ads  \n",
              "0                 0     2.222400e+15  True  \n",
              "1                 0     4.608380e+14  True  \n",
              "2                 0     2.581490e+15  True  \n",
              "3                 1     1.404580e+15  True  \n",
              "4                 1     9.333590e+14  True  "
            ],
            "text/html": [
              "\n",
              "  <div id=\"df-67a27f76-7709-4b27-8ef8-16a226bcc905\">\n",
              "    <div class=\"colab-df-container\">\n",
              "      <div>\n",
              "<style scoped>\n",
              "    .dataframe tbody tr th:only-of-type {\n",
              "        vertical-align: middle;\n",
              "    }\n",
              "\n",
              "    .dataframe tbody tr th {\n",
              "        vertical-align: top;\n",
              "    }\n",
              "\n",
              "    .dataframe thead th {\n",
              "        text-align: right;\n",
              "    }\n",
              "</style>\n",
              "<table border=\"1\" class=\"dataframe\">\n",
              "  <thead>\n",
              "    <tr style=\"text-align: right;\">\n",
              "      <th></th>\n",
              "      <th>click_timestamp</th>\n",
              "      <th>search_id</th>\n",
              "      <th>business_id</th>\n",
              "      <th>display_position</th>\n",
              "      <th>time_diff_nanos</th>\n",
              "      <th>ads</th>\n",
              "    </tr>\n",
              "  </thead>\n",
              "  <tbody>\n",
              "    <tr>\n",
              "      <th>0</th>\n",
              "      <td>11:38.9</td>\n",
              "      <td>5c004472-5ecc-4159-9698-9f329b8e26e1</td>\n",
              "      <td>298839.0</td>\n",
              "      <td>0</td>\n",
              "      <td>2.222400e+15</td>\n",
              "      <td>True</td>\n",
              "    </tr>\n",
              "    <tr>\n",
              "      <th>1</th>\n",
              "      <td>30:51.3</td>\n",
              "      <td>5f34eca0-c04e-4c10-b600-54aa447dbd8e</td>\n",
              "      <td>171372.0</td>\n",
              "      <td>0</td>\n",
              "      <td>4.608380e+14</td>\n",
              "      <td>True</td>\n",
              "    </tr>\n",
              "    <tr>\n",
              "      <th>2</th>\n",
              "      <td>32:09.6</td>\n",
              "      <td>8dc6d1f0-11f1-4239-9dd2-5c1674c81224</td>\n",
              "      <td>16157.0</td>\n",
              "      <td>0</td>\n",
              "      <td>2.581490e+15</td>\n",
              "      <td>True</td>\n",
              "    </tr>\n",
              "    <tr>\n",
              "      <th>3</th>\n",
              "      <td>00:59.8</td>\n",
              "      <td>1a5810e9-3d1f-44b9-9a2e-26ede21c524b</td>\n",
              "      <td>89741.0</td>\n",
              "      <td>1</td>\n",
              "      <td>1.404580e+15</td>\n",
              "      <td>True</td>\n",
              "    </tr>\n",
              "    <tr>\n",
              "      <th>4</th>\n",
              "      <td>23:36.8</td>\n",
              "      <td>6bc75e0d-fc65-471e-9926-ff6be6708639</td>\n",
              "      <td>189564.0</td>\n",
              "      <td>1</td>\n",
              "      <td>9.333590e+14</td>\n",
              "      <td>True</td>\n",
              "    </tr>\n",
              "  </tbody>\n",
              "</table>\n",
              "</div>\n",
              "      <button class=\"colab-df-convert\" onclick=\"convertToInteractive('df-67a27f76-7709-4b27-8ef8-16a226bcc905')\"\n",
              "              title=\"Convert this dataframe to an interactive table.\"\n",
              "              style=\"display:none;\">\n",
              "        \n",
              "  <svg xmlns=\"http://www.w3.org/2000/svg\" height=\"24px\"viewBox=\"0 0 24 24\"\n",
              "       width=\"24px\">\n",
              "    <path d=\"M0 0h24v24H0V0z\" fill=\"none\"/>\n",
              "    <path d=\"M18.56 5.44l.94 2.06.94-2.06 2.06-.94-2.06-.94-.94-2.06-.94 2.06-2.06.94zm-11 1L8.5 8.5l.94-2.06 2.06-.94-2.06-.94L8.5 2.5l-.94 2.06-2.06.94zm10 10l.94 2.06.94-2.06 2.06-.94-2.06-.94-.94-2.06-.94 2.06-2.06.94z\"/><path d=\"M17.41 7.96l-1.37-1.37c-.4-.4-.92-.59-1.43-.59-.52 0-1.04.2-1.43.59L10.3 9.45l-7.72 7.72c-.78.78-.78 2.05 0 2.83L4 21.41c.39.39.9.59 1.41.59.51 0 1.02-.2 1.41-.59l7.78-7.78 2.81-2.81c.8-.78.8-2.07 0-2.86zM5.41 20L4 18.59l7.72-7.72 1.47 1.35L5.41 20z\"/>\n",
              "  </svg>\n",
              "      </button>\n",
              "      \n",
              "  <style>\n",
              "    .colab-df-container {\n",
              "      display:flex;\n",
              "      flex-wrap:wrap;\n",
              "      gap: 12px;\n",
              "    }\n",
              "\n",
              "    .colab-df-convert {\n",
              "      background-color: #E8F0FE;\n",
              "      border: none;\n",
              "      border-radius: 50%;\n",
              "      cursor: pointer;\n",
              "      display: none;\n",
              "      fill: #1967D2;\n",
              "      height: 32px;\n",
              "      padding: 0 0 0 0;\n",
              "      width: 32px;\n",
              "    }\n",
              "\n",
              "    .colab-df-convert:hover {\n",
              "      background-color: #E2EBFA;\n",
              "      box-shadow: 0px 1px 2px rgba(60, 64, 67, 0.3), 0px 1px 3px 1px rgba(60, 64, 67, 0.15);\n",
              "      fill: #174EA6;\n",
              "    }\n",
              "\n",
              "    [theme=dark] .colab-df-convert {\n",
              "      background-color: #3B4455;\n",
              "      fill: #D2E3FC;\n",
              "    }\n",
              "\n",
              "    [theme=dark] .colab-df-convert:hover {\n",
              "      background-color: #434B5C;\n",
              "      box-shadow: 0px 1px 3px 1px rgba(0, 0, 0, 0.15);\n",
              "      filter: drop-shadow(0px 1px 2px rgba(0, 0, 0, 0.3));\n",
              "      fill: #FFFFFF;\n",
              "    }\n",
              "  </style>\n",
              "\n",
              "      <script>\n",
              "        const buttonEl =\n",
              "          document.querySelector('#df-67a27f76-7709-4b27-8ef8-16a226bcc905 button.colab-df-convert');\n",
              "        buttonEl.style.display =\n",
              "          google.colab.kernel.accessAllowed ? 'block' : 'none';\n",
              "\n",
              "        async function convertToInteractive(key) {\n",
              "          const element = document.querySelector('#df-67a27f76-7709-4b27-8ef8-16a226bcc905');\n",
              "          const dataTable =\n",
              "            await google.colab.kernel.invokeFunction('convertToInteractive',\n",
              "                                                     [key], {});\n",
              "          if (!dataTable) return;\n",
              "\n",
              "          const docLinkHtml = 'Like what you see? Visit the ' +\n",
              "            '<a target=\"_blank\" href=https://colab.research.google.com/notebooks/data_table.ipynb>data table notebook</a>'\n",
              "            + ' to learn more about interactive tables.';\n",
              "          element.innerHTML = '';\n",
              "          dataTable['output_type'] = 'display_data';\n",
              "          await google.colab.output.renderOutput(dataTable, element);\n",
              "          const docLink = document.createElement('div');\n",
              "          docLink.innerHTML = docLinkHtml;\n",
              "          element.appendChild(docLink);\n",
              "        }\n",
              "      </script>\n",
              "    </div>\n",
              "  </div>\n",
              "  "
            ]
          },
          "metadata": {},
          "execution_count": 159
        }
      ]
    },
    {
      "cell_type": "code",
      "metadata": {
        "colab": {
          "base_uri": "https://localhost:8080/"
        },
        "id": "TT8W0eKvuSOS",
        "outputId": "ecb34583-a415-4c33-b30a-5e8629b6c2ac"
      },
      "source": [
        "search.info()"
      ],
      "execution_count": null,
      "outputs": [
        {
          "output_type": "stream",
          "name": "stdout",
          "text": [
            "<class 'pandas.core.frame.DataFrame'>\n",
            "RangeIndex: 1048575 entries, 0 to 1048574\n",
            "Data columns (total 6 columns):\n",
            " #   Column            Non-Null Count    Dtype  \n",
            "---  ------            --------------    -----  \n",
            " 0   click_timestamp   1048575 non-null  object \n",
            " 1   search_id         1048554 non-null  object \n",
            " 2   business_id       1048223 non-null  float64\n",
            " 3   display_position  1048575 non-null  int64  \n",
            " 4   time_diff_nanos   1048575 non-null  float64\n",
            " 5   ads               1048575 non-null  bool   \n",
            "dtypes: bool(1), float64(2), int64(1), object(2)\n",
            "memory usage: 41.0+ MB\n"
          ]
        }
      ]
    },
    {
      "cell_type": "markdown",
      "source": [
        "> ### **Check Missing Value**"
      ],
      "metadata": {
        "id": "McCjPcChczOt"
      }
    },
    {
      "cell_type": "code",
      "metadata": {
        "colab": {
          "base_uri": "https://localhost:8080/"
        },
        "id": "cjpShg7ixKRi",
        "outputId": "82a66196-2a48-4ee7-d975-c84493e4c6b8"
      },
      "source": [
        "search.isnull().any()"
      ],
      "execution_count": null,
      "outputs": [
        {
          "output_type": "execute_result",
          "data": {
            "text/plain": [
              "click_timestamp     False\n",
              "search_id            True\n",
              "business_id          True\n",
              "display_position    False\n",
              "time_diff_nanos     False\n",
              "ads                 False\n",
              "dtype: bool"
            ]
          },
          "metadata": {},
          "execution_count": 161
        }
      ]
    },
    {
      "cell_type": "code",
      "metadata": {
        "id": "vntfJ-Xa1HfE",
        "colab": {
          "base_uri": "https://localhost:8080/",
          "height": 414
        },
        "outputId": "3fe87a57-eebf-4360-d973-39876469da78"
      },
      "source": [
        "## --** ต้องใช้ business_id เป็น Primary Key สำหรับ merged กับตารางหลัก \n",
        "search2 = search.dropna(subset=['business_id']).reset_index(drop=True)   \n",
        "## --** ใช้ search_id ต้องใช้เป็น Foreign Key สำหรับ merged ตารางย่อย \n",
        "search3 = search2.dropna(subset=['search_id']).reset_index(drop=True)\n",
        "##ถ้ามี Missing ก็ทำไม่ได้ จะทำให้ row นั้นมีฟีลด์ที่หายไปด้วย \n",
        "print(f'Shape:{search3.shape}\\n')\n",
        "print('*'*80)\n",
        "print(search3.isnull().any(), '\\n')\n",
        "print('*'*120)\n",
        "search3.head()"
      ],
      "execution_count": null,
      "outputs": [
        {
          "output_type": "stream",
          "name": "stdout",
          "text": [
            "Shape:(1048206, 6)\n",
            "\n",
            "********************************************************************************\n",
            "click_timestamp     False\n",
            "search_id           False\n",
            "business_id         False\n",
            "display_position    False\n",
            "time_diff_nanos     False\n",
            "ads                 False\n",
            "dtype: bool \n",
            "\n",
            "************************************************************************************************************************\n"
          ]
        },
        {
          "output_type": "execute_result",
          "data": {
            "text/plain": [
              "  click_timestamp                             search_id  business_id  \\\n",
              "0         11:38.9  5c004472-5ecc-4159-9698-9f329b8e26e1     298839.0   \n",
              "1         30:51.3  5f34eca0-c04e-4c10-b600-54aa447dbd8e     171372.0   \n",
              "2         32:09.6  8dc6d1f0-11f1-4239-9dd2-5c1674c81224      16157.0   \n",
              "3         00:59.8  1a5810e9-3d1f-44b9-9a2e-26ede21c524b      89741.0   \n",
              "4         23:36.8  6bc75e0d-fc65-471e-9926-ff6be6708639     189564.0   \n",
              "\n",
              "   display_position  time_diff_nanos   ads  \n",
              "0                 0     2.222400e+15  True  \n",
              "1                 0     4.608380e+14  True  \n",
              "2                 0     2.581490e+15  True  \n",
              "3                 1     1.404580e+15  True  \n",
              "4                 1     9.333590e+14  True  "
            ],
            "text/html": [
              "\n",
              "  <div id=\"df-ad9f51bf-2fdd-4a76-ba2d-dcf10c386a77\">\n",
              "    <div class=\"colab-df-container\">\n",
              "      <div>\n",
              "<style scoped>\n",
              "    .dataframe tbody tr th:only-of-type {\n",
              "        vertical-align: middle;\n",
              "    }\n",
              "\n",
              "    .dataframe tbody tr th {\n",
              "        vertical-align: top;\n",
              "    }\n",
              "\n",
              "    .dataframe thead th {\n",
              "        text-align: right;\n",
              "    }\n",
              "</style>\n",
              "<table border=\"1\" class=\"dataframe\">\n",
              "  <thead>\n",
              "    <tr style=\"text-align: right;\">\n",
              "      <th></th>\n",
              "      <th>click_timestamp</th>\n",
              "      <th>search_id</th>\n",
              "      <th>business_id</th>\n",
              "      <th>display_position</th>\n",
              "      <th>time_diff_nanos</th>\n",
              "      <th>ads</th>\n",
              "    </tr>\n",
              "  </thead>\n",
              "  <tbody>\n",
              "    <tr>\n",
              "      <th>0</th>\n",
              "      <td>11:38.9</td>\n",
              "      <td>5c004472-5ecc-4159-9698-9f329b8e26e1</td>\n",
              "      <td>298839.0</td>\n",
              "      <td>0</td>\n",
              "      <td>2.222400e+15</td>\n",
              "      <td>True</td>\n",
              "    </tr>\n",
              "    <tr>\n",
              "      <th>1</th>\n",
              "      <td>30:51.3</td>\n",
              "      <td>5f34eca0-c04e-4c10-b600-54aa447dbd8e</td>\n",
              "      <td>171372.0</td>\n",
              "      <td>0</td>\n",
              "      <td>4.608380e+14</td>\n",
              "      <td>True</td>\n",
              "    </tr>\n",
              "    <tr>\n",
              "      <th>2</th>\n",
              "      <td>32:09.6</td>\n",
              "      <td>8dc6d1f0-11f1-4239-9dd2-5c1674c81224</td>\n",
              "      <td>16157.0</td>\n",
              "      <td>0</td>\n",
              "      <td>2.581490e+15</td>\n",
              "      <td>True</td>\n",
              "    </tr>\n",
              "    <tr>\n",
              "      <th>3</th>\n",
              "      <td>00:59.8</td>\n",
              "      <td>1a5810e9-3d1f-44b9-9a2e-26ede21c524b</td>\n",
              "      <td>89741.0</td>\n",
              "      <td>1</td>\n",
              "      <td>1.404580e+15</td>\n",
              "      <td>True</td>\n",
              "    </tr>\n",
              "    <tr>\n",
              "      <th>4</th>\n",
              "      <td>23:36.8</td>\n",
              "      <td>6bc75e0d-fc65-471e-9926-ff6be6708639</td>\n",
              "      <td>189564.0</td>\n",
              "      <td>1</td>\n",
              "      <td>9.333590e+14</td>\n",
              "      <td>True</td>\n",
              "    </tr>\n",
              "  </tbody>\n",
              "</table>\n",
              "</div>\n",
              "      <button class=\"colab-df-convert\" onclick=\"convertToInteractive('df-ad9f51bf-2fdd-4a76-ba2d-dcf10c386a77')\"\n",
              "              title=\"Convert this dataframe to an interactive table.\"\n",
              "              style=\"display:none;\">\n",
              "        \n",
              "  <svg xmlns=\"http://www.w3.org/2000/svg\" height=\"24px\"viewBox=\"0 0 24 24\"\n",
              "       width=\"24px\">\n",
              "    <path d=\"M0 0h24v24H0V0z\" fill=\"none\"/>\n",
              "    <path d=\"M18.56 5.44l.94 2.06.94-2.06 2.06-.94-2.06-.94-.94-2.06-.94 2.06-2.06.94zm-11 1L8.5 8.5l.94-2.06 2.06-.94-2.06-.94L8.5 2.5l-.94 2.06-2.06.94zm10 10l.94 2.06.94-2.06 2.06-.94-2.06-.94-.94-2.06-.94 2.06-2.06.94z\"/><path d=\"M17.41 7.96l-1.37-1.37c-.4-.4-.92-.59-1.43-.59-.52 0-1.04.2-1.43.59L10.3 9.45l-7.72 7.72c-.78.78-.78 2.05 0 2.83L4 21.41c.39.39.9.59 1.41.59.51 0 1.02-.2 1.41-.59l7.78-7.78 2.81-2.81c.8-.78.8-2.07 0-2.86zM5.41 20L4 18.59l7.72-7.72 1.47 1.35L5.41 20z\"/>\n",
              "  </svg>\n",
              "      </button>\n",
              "      \n",
              "  <style>\n",
              "    .colab-df-container {\n",
              "      display:flex;\n",
              "      flex-wrap:wrap;\n",
              "      gap: 12px;\n",
              "    }\n",
              "\n",
              "    .colab-df-convert {\n",
              "      background-color: #E8F0FE;\n",
              "      border: none;\n",
              "      border-radius: 50%;\n",
              "      cursor: pointer;\n",
              "      display: none;\n",
              "      fill: #1967D2;\n",
              "      height: 32px;\n",
              "      padding: 0 0 0 0;\n",
              "      width: 32px;\n",
              "    }\n",
              "\n",
              "    .colab-df-convert:hover {\n",
              "      background-color: #E2EBFA;\n",
              "      box-shadow: 0px 1px 2px rgba(60, 64, 67, 0.3), 0px 1px 3px 1px rgba(60, 64, 67, 0.15);\n",
              "      fill: #174EA6;\n",
              "    }\n",
              "\n",
              "    [theme=dark] .colab-df-convert {\n",
              "      background-color: #3B4455;\n",
              "      fill: #D2E3FC;\n",
              "    }\n",
              "\n",
              "    [theme=dark] .colab-df-convert:hover {\n",
              "      background-color: #434B5C;\n",
              "      box-shadow: 0px 1px 3px 1px rgba(0, 0, 0, 0.15);\n",
              "      filter: drop-shadow(0px 1px 2px rgba(0, 0, 0, 0.3));\n",
              "      fill: #FFFFFF;\n",
              "    }\n",
              "  </style>\n",
              "\n",
              "      <script>\n",
              "        const buttonEl =\n",
              "          document.querySelector('#df-ad9f51bf-2fdd-4a76-ba2d-dcf10c386a77 button.colab-df-convert');\n",
              "        buttonEl.style.display =\n",
              "          google.colab.kernel.accessAllowed ? 'block' : 'none';\n",
              "\n",
              "        async function convertToInteractive(key) {\n",
              "          const element = document.querySelector('#df-ad9f51bf-2fdd-4a76-ba2d-dcf10c386a77');\n",
              "          const dataTable =\n",
              "            await google.colab.kernel.invokeFunction('convertToInteractive',\n",
              "                                                     [key], {});\n",
              "          if (!dataTable) return;\n",
              "\n",
              "          const docLinkHtml = 'Like what you see? Visit the ' +\n",
              "            '<a target=\"_blank\" href=https://colab.research.google.com/notebooks/data_table.ipynb>data table notebook</a>'\n",
              "            + ' to learn more about interactive tables.';\n",
              "          element.innerHTML = '';\n",
              "          dataTable['output_type'] = 'display_data';\n",
              "          await google.colab.output.renderOutput(dataTable, element);\n",
              "          const docLink = document.createElement('div');\n",
              "          docLink.innerHTML = docLinkHtml;\n",
              "          element.appendChild(docLink);\n",
              "        }\n",
              "      </script>\n",
              "    </div>\n",
              "  </div>\n",
              "  "
            ]
          },
          "metadata": {},
          "execution_count": 162
        }
      ]
    },
    {
      "cell_type": "code",
      "source": [
        "###** -- display_position รหัสสถานที่ == 106 #รหัสแต่ละอัน ไม่รู้มีที่ไหนบ้าง  \n",
        "print(f'จำนวน display position :{len(set(search3.display_position))}')"
      ],
      "metadata": {
        "colab": {
          "base_uri": "https://localhost:8080/"
        },
        "id": "VeDXDWuNhgF8",
        "outputId": "815424a9-34ae-4dbb-b395-19297bf1e16f"
      },
      "execution_count": null,
      "outputs": [
        {
          "output_type": "stream",
          "name": "stdout",
          "text": [
            "จำนวน display position :106\n"
          ]
        }
      ]
    },
    {
      "cell_type": "code",
      "metadata": {
        "colab": {
          "base_uri": "https://localhost:8080/"
        },
        "id": "hJuJSY_GAKGr",
        "outputId": "5bf0a161-3149-4f18-acf7-f9735599f210"
      },
      "source": [
        "search3['display_position'].value_counts"
      ],
      "execution_count": null,
      "outputs": [
        {
          "output_type": "execute_result",
          "data": {
            "text/plain": [
              "<bound method IndexOpsMixin.value_counts of 0          0\n",
              "1          0\n",
              "2          0\n",
              "3          1\n",
              "4          1\n",
              "          ..\n",
              "1048201    8\n",
              "1048202    8\n",
              "1048203    8\n",
              "1048204    8\n",
              "1048205    8\n",
              "Name: display_position, Length: 1048206, dtype: int64>"
            ]
          },
          "metadata": {},
          "execution_count": 164
        }
      ]
    },
    {
      "cell_type": "code",
      "metadata": {
        "id": "F8610GiF1Hlq"
      },
      "source": [
        "search3.to_csv('search_click_clean.csv', encoding='utf-8')"
      ],
      "execution_count": null,
      "outputs": []
    },
    {
      "cell_type": "markdown",
      "metadata": {
        "id": "P3cs7kXlFxz2"
      },
      "source": [
        "> ### **search_request**"
      ]
    },
    {
      "cell_type": "code",
      "metadata": {
        "colab": {
          "base_uri": "https://localhost:8080/",
          "height": 860
        },
        "id": "h28IrVIdxpUp",
        "outputId": "0fbf6497-b7c6-4698-e2cb-034e00ed9e7d"
      },
      "source": [
        "## Read .csv\n",
        "search_req = pd.read_csv('search_request.csv')\n",
        "print(search_req.shape,'\\n')\n",
        "print('*'*120)\n",
        "print(search_req.isnull().any())\n",
        "print('*'*200)\n",
        "search_req.head()"
      ],
      "execution_count": null,
      "outputs": [
        {
          "output_type": "stream",
          "name": "stderr",
          "text": [
            "/usr/local/lib/python3.7/dist-packages/IPython/core/interactiveshell.py:2882: DtypeWarning: Columns (7,8,9) have mixed types.Specify dtype option on import or set low_memory=False.\n",
            "  exec(code_obj, self.user_global_ns, self.user_ns)\n"
          ]
        },
        {
          "output_type": "stream",
          "name": "stdout",
          "text": [
            "(10004357, 10) \n",
            "\n",
            "************************************************************************************************************************\n",
            "Unnamed: 0          False\n",
            "search_id           False\n",
            "search_timestamp    False\n",
            "user_agent          False\n",
            "q                    True\n",
            "user_id              True\n",
            "session_id          False\n",
            "number_of_result    False\n",
            "lat                  True\n",
            "long                 True\n",
            "dtype: bool\n",
            "********************************************************************************************************************************************************************************************************\n"
          ]
        },
        {
          "output_type": "execute_result",
          "data": {
            "text/plain": [
              "   Unnamed: 0                             search_id         search_timestamp  \\\n",
              "0           0  683de889-f923-494e-9d46-44a3d67b7259  2018-06-14 12:34:35.449   \n",
              "1           1  4a811230-ffa4-4631-a4c8-5d0394137d02  2018-06-14 17:11:19.469   \n",
              "2           2  7ad6ee8e-438e-4bea-9183-74dcef9e358e  2018-06-14 13:22:31.736   \n",
              "3           3  0c17a5f5-fa89-40f4-ae94-a8659268f827  2018-06-02 12:37:27.331   \n",
              "4           4  6870dc3a-5602-44fc-80ed-df0a7783df9d  2018-06-02 11:19:22.404   \n",
              "\n",
              "                                          user_agent    q  user_id  \\\n",
              "0  Wongnai/8.17.3 rv:8.17.3.3921 (iPhone5,4; iOS;...  NaN      NaN   \n",
              "1  Mozilla/5.0 (iPhone; CPU iPhone OS 11_4 like M...  NaN      NaN   \n",
              "2  Mozilla/5.0 (Linux; Android 7.0; SAMSUNG SM-J7...  NaN      NaN   \n",
              "3  Mozilla/5.0 (Linux; Android 7.1.1; SM-N950F Bu...  NaN      NaN   \n",
              "4  Mozilla/5.0 (iPhone; CPU iPhone OS 11_3_1 like...  NaN      NaN   \n",
              "\n",
              "                   session_id number_of_result        lat        long  \n",
              "0  5lqjjikta19d296mo7g2h1k86p               18  12.634739  101.463177  \n",
              "1  1r3iotmp0o9slom91stdt9vivc               10  14.800882  102.533777  \n",
              "2  5ci1eo4v5u9dha4ppgu94ue7p6                8   13.73826  100.371405  \n",
              "3  39n535qgje9kpojp0grhfj8umk               12  12.666877  101.860838  \n",
              "4  5pa03h6lj691to60erver1l8o4               14  12.237242   99.879998  "
            ],
            "text/html": [
              "\n",
              "  <div id=\"df-18513839-b51c-4ef0-b434-270fdae25207\">\n",
              "    <div class=\"colab-df-container\">\n",
              "      <div>\n",
              "<style scoped>\n",
              "    .dataframe tbody tr th:only-of-type {\n",
              "        vertical-align: middle;\n",
              "    }\n",
              "\n",
              "    .dataframe tbody tr th {\n",
              "        vertical-align: top;\n",
              "    }\n",
              "\n",
              "    .dataframe thead th {\n",
              "        text-align: right;\n",
              "    }\n",
              "</style>\n",
              "<table border=\"1\" class=\"dataframe\">\n",
              "  <thead>\n",
              "    <tr style=\"text-align: right;\">\n",
              "      <th></th>\n",
              "      <th>Unnamed: 0</th>\n",
              "      <th>search_id</th>\n",
              "      <th>search_timestamp</th>\n",
              "      <th>user_agent</th>\n",
              "      <th>q</th>\n",
              "      <th>user_id</th>\n",
              "      <th>session_id</th>\n",
              "      <th>number_of_result</th>\n",
              "      <th>lat</th>\n",
              "      <th>long</th>\n",
              "    </tr>\n",
              "  </thead>\n",
              "  <tbody>\n",
              "    <tr>\n",
              "      <th>0</th>\n",
              "      <td>0</td>\n",
              "      <td>683de889-f923-494e-9d46-44a3d67b7259</td>\n",
              "      <td>2018-06-14 12:34:35.449</td>\n",
              "      <td>Wongnai/8.17.3 rv:8.17.3.3921 (iPhone5,4; iOS;...</td>\n",
              "      <td>NaN</td>\n",
              "      <td>NaN</td>\n",
              "      <td>5lqjjikta19d296mo7g2h1k86p</td>\n",
              "      <td>18</td>\n",
              "      <td>12.634739</td>\n",
              "      <td>101.463177</td>\n",
              "    </tr>\n",
              "    <tr>\n",
              "      <th>1</th>\n",
              "      <td>1</td>\n",
              "      <td>4a811230-ffa4-4631-a4c8-5d0394137d02</td>\n",
              "      <td>2018-06-14 17:11:19.469</td>\n",
              "      <td>Mozilla/5.0 (iPhone; CPU iPhone OS 11_4 like M...</td>\n",
              "      <td>NaN</td>\n",
              "      <td>NaN</td>\n",
              "      <td>1r3iotmp0o9slom91stdt9vivc</td>\n",
              "      <td>10</td>\n",
              "      <td>14.800882</td>\n",
              "      <td>102.533777</td>\n",
              "    </tr>\n",
              "    <tr>\n",
              "      <th>2</th>\n",
              "      <td>2</td>\n",
              "      <td>7ad6ee8e-438e-4bea-9183-74dcef9e358e</td>\n",
              "      <td>2018-06-14 13:22:31.736</td>\n",
              "      <td>Mozilla/5.0 (Linux; Android 7.0; SAMSUNG SM-J7...</td>\n",
              "      <td>NaN</td>\n",
              "      <td>NaN</td>\n",
              "      <td>5ci1eo4v5u9dha4ppgu94ue7p6</td>\n",
              "      <td>8</td>\n",
              "      <td>13.73826</td>\n",
              "      <td>100.371405</td>\n",
              "    </tr>\n",
              "    <tr>\n",
              "      <th>3</th>\n",
              "      <td>3</td>\n",
              "      <td>0c17a5f5-fa89-40f4-ae94-a8659268f827</td>\n",
              "      <td>2018-06-02 12:37:27.331</td>\n",
              "      <td>Mozilla/5.0 (Linux; Android 7.1.1; SM-N950F Bu...</td>\n",
              "      <td>NaN</td>\n",
              "      <td>NaN</td>\n",
              "      <td>39n535qgje9kpojp0grhfj8umk</td>\n",
              "      <td>12</td>\n",
              "      <td>12.666877</td>\n",
              "      <td>101.860838</td>\n",
              "    </tr>\n",
              "    <tr>\n",
              "      <th>4</th>\n",
              "      <td>4</td>\n",
              "      <td>6870dc3a-5602-44fc-80ed-df0a7783df9d</td>\n",
              "      <td>2018-06-02 11:19:22.404</td>\n",
              "      <td>Mozilla/5.0 (iPhone; CPU iPhone OS 11_3_1 like...</td>\n",
              "      <td>NaN</td>\n",
              "      <td>NaN</td>\n",
              "      <td>5pa03h6lj691to60erver1l8o4</td>\n",
              "      <td>14</td>\n",
              "      <td>12.237242</td>\n",
              "      <td>99.879998</td>\n",
              "    </tr>\n",
              "  </tbody>\n",
              "</table>\n",
              "</div>\n",
              "      <button class=\"colab-df-convert\" onclick=\"convertToInteractive('df-18513839-b51c-4ef0-b434-270fdae25207')\"\n",
              "              title=\"Convert this dataframe to an interactive table.\"\n",
              "              style=\"display:none;\">\n",
              "        \n",
              "  <svg xmlns=\"http://www.w3.org/2000/svg\" height=\"24px\"viewBox=\"0 0 24 24\"\n",
              "       width=\"24px\">\n",
              "    <path d=\"M0 0h24v24H0V0z\" fill=\"none\"/>\n",
              "    <path d=\"M18.56 5.44l.94 2.06.94-2.06 2.06-.94-2.06-.94-.94-2.06-.94 2.06-2.06.94zm-11 1L8.5 8.5l.94-2.06 2.06-.94-2.06-.94L8.5 2.5l-.94 2.06-2.06.94zm10 10l.94 2.06.94-2.06 2.06-.94-2.06-.94-.94-2.06-.94 2.06-2.06.94z\"/><path d=\"M17.41 7.96l-1.37-1.37c-.4-.4-.92-.59-1.43-.59-.52 0-1.04.2-1.43.59L10.3 9.45l-7.72 7.72c-.78.78-.78 2.05 0 2.83L4 21.41c.39.39.9.59 1.41.59.51 0 1.02-.2 1.41-.59l7.78-7.78 2.81-2.81c.8-.78.8-2.07 0-2.86zM5.41 20L4 18.59l7.72-7.72 1.47 1.35L5.41 20z\"/>\n",
              "  </svg>\n",
              "      </button>\n",
              "      \n",
              "  <style>\n",
              "    .colab-df-container {\n",
              "      display:flex;\n",
              "      flex-wrap:wrap;\n",
              "      gap: 12px;\n",
              "    }\n",
              "\n",
              "    .colab-df-convert {\n",
              "      background-color: #E8F0FE;\n",
              "      border: none;\n",
              "      border-radius: 50%;\n",
              "      cursor: pointer;\n",
              "      display: none;\n",
              "      fill: #1967D2;\n",
              "      height: 32px;\n",
              "      padding: 0 0 0 0;\n",
              "      width: 32px;\n",
              "    }\n",
              "\n",
              "    .colab-df-convert:hover {\n",
              "      background-color: #E2EBFA;\n",
              "      box-shadow: 0px 1px 2px rgba(60, 64, 67, 0.3), 0px 1px 3px 1px rgba(60, 64, 67, 0.15);\n",
              "      fill: #174EA6;\n",
              "    }\n",
              "\n",
              "    [theme=dark] .colab-df-convert {\n",
              "      background-color: #3B4455;\n",
              "      fill: #D2E3FC;\n",
              "    }\n",
              "\n",
              "    [theme=dark] .colab-df-convert:hover {\n",
              "      background-color: #434B5C;\n",
              "      box-shadow: 0px 1px 3px 1px rgba(0, 0, 0, 0.15);\n",
              "      filter: drop-shadow(0px 1px 2px rgba(0, 0, 0, 0.3));\n",
              "      fill: #FFFFFF;\n",
              "    }\n",
              "  </style>\n",
              "\n",
              "      <script>\n",
              "        const buttonEl =\n",
              "          document.querySelector('#df-18513839-b51c-4ef0-b434-270fdae25207 button.colab-df-convert');\n",
              "        buttonEl.style.display =\n",
              "          google.colab.kernel.accessAllowed ? 'block' : 'none';\n",
              "\n",
              "        async function convertToInteractive(key) {\n",
              "          const element = document.querySelector('#df-18513839-b51c-4ef0-b434-270fdae25207');\n",
              "          const dataTable =\n",
              "            await google.colab.kernel.invokeFunction('convertToInteractive',\n",
              "                                                     [key], {});\n",
              "          if (!dataTable) return;\n",
              "\n",
              "          const docLinkHtml = 'Like what you see? Visit the ' +\n",
              "            '<a target=\"_blank\" href=https://colab.research.google.com/notebooks/data_table.ipynb>data table notebook</a>'\n",
              "            + ' to learn more about interactive tables.';\n",
              "          element.innerHTML = '';\n",
              "          dataTable['output_type'] = 'display_data';\n",
              "          await google.colab.output.renderOutput(dataTable, element);\n",
              "          const docLink = document.createElement('div');\n",
              "          docLink.innerHTML = docLinkHtml;\n",
              "          element.appendChild(docLink);\n",
              "        }\n",
              "      </script>\n",
              "    </div>\n",
              "  </div>\n",
              "  "
            ]
          },
          "metadata": {},
          "execution_count": 165
        }
      ]
    },
    {
      "cell_type": "code",
      "source": [
        "len(set(search_req['search_id'].tolist()))"
      ],
      "metadata": {
        "colab": {
          "base_uri": "https://localhost:8080/"
        },
        "id": "RhQTQXAXx_Xr",
        "outputId": "3af00815-ad49-4bf3-8942-472aefc0adcd"
      },
      "execution_count": null,
      "outputs": [
        {
          "output_type": "execute_result",
          "data": {
            "text/plain": [
              "10004357"
            ]
          },
          "metadata": {},
          "execution_count": 166
        }
      ]
    },
    {
      "cell_type": "code",
      "source": [
        "### Drop lat, long **--## ถ้าไม่มีก็ทำ map ไม่ได้  *- ไม่สามารถ Visulization แต่ละพื้นที่ได้\n",
        "search_req2 = search_req.dropna(subset=['lat', 'long','q']).reset_index(drop=True)\n",
        "print(search_req2.shape)\n",
        "print('*'*120)\n",
        "print(search_req2.isnull().any())"
      ],
      "metadata": {
        "colab": {
          "base_uri": "https://localhost:8080/"
        },
        "id": "-JOfbrYqmGHI",
        "outputId": "44bf5ac0-26e3-4549-e52f-4623240cf83f"
      },
      "execution_count": null,
      "outputs": [
        {
          "output_type": "stream",
          "name": "stdout",
          "text": [
            "(402309, 10)\n",
            "************************************************************************************************************************\n",
            "Unnamed: 0          False\n",
            "search_id           False\n",
            "search_timestamp    False\n",
            "user_agent          False\n",
            "q                   False\n",
            "user_id              True\n",
            "session_id          False\n",
            "number_of_result    False\n",
            "lat                 False\n",
            "long                False\n",
            "dtype: bool\n"
          ]
        }
      ]
    },
    {
      "cell_type": "code",
      "source": [
        "#search_req2['user_id'].tolist()"
      ],
      "metadata": {
        "id": "WF0Xf86amGYo"
      },
      "execution_count": null,
      "outputs": []
    },
    {
      "cell_type": "code",
      "metadata": {
        "id": "wfjE1Pjd9aAG",
        "colab": {
          "base_uri": "https://localhost:8080/",
          "height": 704
        },
        "outputId": "d5de2785-beb1-4b83-9c19-559b6e2ac8bd"
      },
      "source": [
        "## Drop Columns ที่จะไม่ใช้ในการ Visulizastion \n",
        "del search_req2['user_id']  ##1.\n",
        "del search_req2['Unnamed: 0']  ##2. \n",
        "print(search_req2.isnull().any())\n",
        "print('*'*120)\n",
        "search_req2.head()  ## จำนวน Row == 402309 "
      ],
      "execution_count": null,
      "outputs": [
        {
          "output_type": "stream",
          "name": "stdout",
          "text": [
            "search_id           False\n",
            "search_timestamp    False\n",
            "user_agent          False\n",
            "q                   False\n",
            "session_id          False\n",
            "number_of_result    False\n",
            "lat                 False\n",
            "long                False\n",
            "dtype: bool\n",
            "************************************************************************************************************************\n"
          ]
        },
        {
          "output_type": "execute_result",
          "data": {
            "text/plain": [
              "                              search_id         search_timestamp  \\\n",
              "0  3ecf13ba-be4d-4eb9-9374-a1cca09d1614  2018-06-22 11:26:40.836   \n",
              "1  02fedb5c-c9cd-46d7-9354-7613ecb7cfdd  2018-06-22 12:22:17.031   \n",
              "2  e215d487-0450-4794-830a-ecfc0ab6493b  2018-06-22 12:15:24.769   \n",
              "3  3a69e702-e54b-497c-9b8f-c3991d4c02ff  2018-06-22 12:12:24.091   \n",
              "4  03cb2585-738e-4000-afed-e976d123a145  2018-06-22 12:04:43.977   \n",
              "\n",
              "                                          user_agent             q  \\\n",
              "0  Wongnai/8.17.3 rv:8.17.3.3921 (iPhone8,4; iOS;...         ผัดไท   \n",
              "1  Wongnai/10.0 (iPhone10,6; iOS; 11.4; en_TH@cal...  vt แหนมเนือง   \n",
              "2  Wongnai/10.0 (iPhone10,6; iOS; 11.4; en_TH@cal...     kuppadeli   \n",
              "3  Wongnai/10.0 (iPhone10,6; iOS; 11.4; en_TH@cal...  ข้าวซอยลำดวน   \n",
              "4  Wongnai/10.0 (iPhone10,6; iOS; 11.4; en_TH@cal...      kagonoya   \n",
              "\n",
              "                   session_id number_of_result        lat        long  \n",
              "0  1m91ertp1g9a09agkl7dqtej30               17  12.451104  102.248522  \n",
              "1  4db1ugh8nj95totfl6dd4q4rb9               14  13.720904  100.527299  \n",
              "2  4orpg6839u93baoa36aicq78iq                9  13.720835  100.527152  \n",
              "3  4orpg6839u93baoa36aicq78iq                9  13.720882  100.527238  \n",
              "4  4orpg6839u93baoa36aicq78iq                8  13.721063  100.527258  "
            ],
            "text/html": [
              "\n",
              "  <div id=\"df-6f0adbf5-3f58-4f30-bc61-3b6a69a7bab2\">\n",
              "    <div class=\"colab-df-container\">\n",
              "      <div>\n",
              "<style scoped>\n",
              "    .dataframe tbody tr th:only-of-type {\n",
              "        vertical-align: middle;\n",
              "    }\n",
              "\n",
              "    .dataframe tbody tr th {\n",
              "        vertical-align: top;\n",
              "    }\n",
              "\n",
              "    .dataframe thead th {\n",
              "        text-align: right;\n",
              "    }\n",
              "</style>\n",
              "<table border=\"1\" class=\"dataframe\">\n",
              "  <thead>\n",
              "    <tr style=\"text-align: right;\">\n",
              "      <th></th>\n",
              "      <th>search_id</th>\n",
              "      <th>search_timestamp</th>\n",
              "      <th>user_agent</th>\n",
              "      <th>q</th>\n",
              "      <th>session_id</th>\n",
              "      <th>number_of_result</th>\n",
              "      <th>lat</th>\n",
              "      <th>long</th>\n",
              "    </tr>\n",
              "  </thead>\n",
              "  <tbody>\n",
              "    <tr>\n",
              "      <th>0</th>\n",
              "      <td>3ecf13ba-be4d-4eb9-9374-a1cca09d1614</td>\n",
              "      <td>2018-06-22 11:26:40.836</td>\n",
              "      <td>Wongnai/8.17.3 rv:8.17.3.3921 (iPhone8,4; iOS;...</td>\n",
              "      <td>ผัดไท</td>\n",
              "      <td>1m91ertp1g9a09agkl7dqtej30</td>\n",
              "      <td>17</td>\n",
              "      <td>12.451104</td>\n",
              "      <td>102.248522</td>\n",
              "    </tr>\n",
              "    <tr>\n",
              "      <th>1</th>\n",
              "      <td>02fedb5c-c9cd-46d7-9354-7613ecb7cfdd</td>\n",
              "      <td>2018-06-22 12:22:17.031</td>\n",
              "      <td>Wongnai/10.0 (iPhone10,6; iOS; 11.4; en_TH@cal...</td>\n",
              "      <td>vt แหนมเนือง</td>\n",
              "      <td>4db1ugh8nj95totfl6dd4q4rb9</td>\n",
              "      <td>14</td>\n",
              "      <td>13.720904</td>\n",
              "      <td>100.527299</td>\n",
              "    </tr>\n",
              "    <tr>\n",
              "      <th>2</th>\n",
              "      <td>e215d487-0450-4794-830a-ecfc0ab6493b</td>\n",
              "      <td>2018-06-22 12:15:24.769</td>\n",
              "      <td>Wongnai/10.0 (iPhone10,6; iOS; 11.4; en_TH@cal...</td>\n",
              "      <td>kuppadeli</td>\n",
              "      <td>4orpg6839u93baoa36aicq78iq</td>\n",
              "      <td>9</td>\n",
              "      <td>13.720835</td>\n",
              "      <td>100.527152</td>\n",
              "    </tr>\n",
              "    <tr>\n",
              "      <th>3</th>\n",
              "      <td>3a69e702-e54b-497c-9b8f-c3991d4c02ff</td>\n",
              "      <td>2018-06-22 12:12:24.091</td>\n",
              "      <td>Wongnai/10.0 (iPhone10,6; iOS; 11.4; en_TH@cal...</td>\n",
              "      <td>ข้าวซอยลำดวน</td>\n",
              "      <td>4orpg6839u93baoa36aicq78iq</td>\n",
              "      <td>9</td>\n",
              "      <td>13.720882</td>\n",
              "      <td>100.527238</td>\n",
              "    </tr>\n",
              "    <tr>\n",
              "      <th>4</th>\n",
              "      <td>03cb2585-738e-4000-afed-e976d123a145</td>\n",
              "      <td>2018-06-22 12:04:43.977</td>\n",
              "      <td>Wongnai/10.0 (iPhone10,6; iOS; 11.4; en_TH@cal...</td>\n",
              "      <td>kagonoya</td>\n",
              "      <td>4orpg6839u93baoa36aicq78iq</td>\n",
              "      <td>8</td>\n",
              "      <td>13.721063</td>\n",
              "      <td>100.527258</td>\n",
              "    </tr>\n",
              "  </tbody>\n",
              "</table>\n",
              "</div>\n",
              "      <button class=\"colab-df-convert\" onclick=\"convertToInteractive('df-6f0adbf5-3f58-4f30-bc61-3b6a69a7bab2')\"\n",
              "              title=\"Convert this dataframe to an interactive table.\"\n",
              "              style=\"display:none;\">\n",
              "        \n",
              "  <svg xmlns=\"http://www.w3.org/2000/svg\" height=\"24px\"viewBox=\"0 0 24 24\"\n",
              "       width=\"24px\">\n",
              "    <path d=\"M0 0h24v24H0V0z\" fill=\"none\"/>\n",
              "    <path d=\"M18.56 5.44l.94 2.06.94-2.06 2.06-.94-2.06-.94-.94-2.06-.94 2.06-2.06.94zm-11 1L8.5 8.5l.94-2.06 2.06-.94-2.06-.94L8.5 2.5l-.94 2.06-2.06.94zm10 10l.94 2.06.94-2.06 2.06-.94-2.06-.94-.94-2.06-.94 2.06-2.06.94z\"/><path d=\"M17.41 7.96l-1.37-1.37c-.4-.4-.92-.59-1.43-.59-.52 0-1.04.2-1.43.59L10.3 9.45l-7.72 7.72c-.78.78-.78 2.05 0 2.83L4 21.41c.39.39.9.59 1.41.59.51 0 1.02-.2 1.41-.59l7.78-7.78 2.81-2.81c.8-.78.8-2.07 0-2.86zM5.41 20L4 18.59l7.72-7.72 1.47 1.35L5.41 20z\"/>\n",
              "  </svg>\n",
              "      </button>\n",
              "      \n",
              "  <style>\n",
              "    .colab-df-container {\n",
              "      display:flex;\n",
              "      flex-wrap:wrap;\n",
              "      gap: 12px;\n",
              "    }\n",
              "\n",
              "    .colab-df-convert {\n",
              "      background-color: #E8F0FE;\n",
              "      border: none;\n",
              "      border-radius: 50%;\n",
              "      cursor: pointer;\n",
              "      display: none;\n",
              "      fill: #1967D2;\n",
              "      height: 32px;\n",
              "      padding: 0 0 0 0;\n",
              "      width: 32px;\n",
              "    }\n",
              "\n",
              "    .colab-df-convert:hover {\n",
              "      background-color: #E2EBFA;\n",
              "      box-shadow: 0px 1px 2px rgba(60, 64, 67, 0.3), 0px 1px 3px 1px rgba(60, 64, 67, 0.15);\n",
              "      fill: #174EA6;\n",
              "    }\n",
              "\n",
              "    [theme=dark] .colab-df-convert {\n",
              "      background-color: #3B4455;\n",
              "      fill: #D2E3FC;\n",
              "    }\n",
              "\n",
              "    [theme=dark] .colab-df-convert:hover {\n",
              "      background-color: #434B5C;\n",
              "      box-shadow: 0px 1px 3px 1px rgba(0, 0, 0, 0.15);\n",
              "      filter: drop-shadow(0px 1px 2px rgba(0, 0, 0, 0.3));\n",
              "      fill: #FFFFFF;\n",
              "    }\n",
              "  </style>\n",
              "\n",
              "      <script>\n",
              "        const buttonEl =\n",
              "          document.querySelector('#df-6f0adbf5-3f58-4f30-bc61-3b6a69a7bab2 button.colab-df-convert');\n",
              "        buttonEl.style.display =\n",
              "          google.colab.kernel.accessAllowed ? 'block' : 'none';\n",
              "\n",
              "        async function convertToInteractive(key) {\n",
              "          const element = document.querySelector('#df-6f0adbf5-3f58-4f30-bc61-3b6a69a7bab2');\n",
              "          const dataTable =\n",
              "            await google.colab.kernel.invokeFunction('convertToInteractive',\n",
              "                                                     [key], {});\n",
              "          if (!dataTable) return;\n",
              "\n",
              "          const docLinkHtml = 'Like what you see? Visit the ' +\n",
              "            '<a target=\"_blank\" href=https://colab.research.google.com/notebooks/data_table.ipynb>data table notebook</a>'\n",
              "            + ' to learn more about interactive tables.';\n",
              "          element.innerHTML = '';\n",
              "          dataTable['output_type'] = 'display_data';\n",
              "          await google.colab.output.renderOutput(dataTable, element);\n",
              "          const docLink = document.createElement('div');\n",
              "          docLink.innerHTML = docLinkHtml;\n",
              "          element.appendChild(docLink);\n",
              "        }\n",
              "      </script>\n",
              "    </div>\n",
              "  </div>\n",
              "  "
            ]
          },
          "metadata": {},
          "execution_count": 168
        }
      ]
    },
    {
      "cell_type": "markdown",
      "source": [
        "> #### Create columns date "
      ],
      "metadata": {
        "id": "1QBE6ivcrlj8"
      }
    },
    {
      "cell_type": "code",
      "metadata": {
        "id": "iWwb2KKVBfSd",
        "colab": {
          "base_uri": "https://localhost:8080/",
          "height": 531
        },
        "outputId": "ad591484-e0ac-429c-8ebc-779c2c4658c5"
      },
      "source": [
        "date_new = []\n",
        "\n",
        "for i in range(len(search_req2)):\n",
        "    date = search_req2['search_timestamp'][i]\t\n",
        "    date = date[:10]\n",
        "    date_new.append(date)\n",
        "\n",
        "idx = 2  ##**กำหนดแทรกที่ Columns ที่ 2  -- ชื่อ \"search_date\"  \n",
        "search_req2.insert(loc=idx, column='search_date', value=date_new)\n",
        "search_req2.head()"
      ],
      "execution_count": null,
      "outputs": [
        {
          "output_type": "execute_result",
          "data": {
            "text/plain": [
              "                              search_id         search_timestamp search_date  \\\n",
              "0  3ecf13ba-be4d-4eb9-9374-a1cca09d1614  2018-06-22 11:26:40.836  2018-06-22   \n",
              "1  02fedb5c-c9cd-46d7-9354-7613ecb7cfdd  2018-06-22 12:22:17.031  2018-06-22   \n",
              "2  e215d487-0450-4794-830a-ecfc0ab6493b  2018-06-22 12:15:24.769  2018-06-22   \n",
              "3  3a69e702-e54b-497c-9b8f-c3991d4c02ff  2018-06-22 12:12:24.091  2018-06-22   \n",
              "4  03cb2585-738e-4000-afed-e976d123a145  2018-06-22 12:04:43.977  2018-06-22   \n",
              "\n",
              "                                          user_agent             q  \\\n",
              "0  Wongnai/8.17.3 rv:8.17.3.3921 (iPhone8,4; iOS;...         ผัดไท   \n",
              "1  Wongnai/10.0 (iPhone10,6; iOS; 11.4; en_TH@cal...  vt แหนมเนือง   \n",
              "2  Wongnai/10.0 (iPhone10,6; iOS; 11.4; en_TH@cal...     kuppadeli   \n",
              "3  Wongnai/10.0 (iPhone10,6; iOS; 11.4; en_TH@cal...  ข้าวซอยลำดวน   \n",
              "4  Wongnai/10.0 (iPhone10,6; iOS; 11.4; en_TH@cal...      kagonoya   \n",
              "\n",
              "                   session_id number_of_result        lat        long  \n",
              "0  1m91ertp1g9a09agkl7dqtej30               17  12.451104  102.248522  \n",
              "1  4db1ugh8nj95totfl6dd4q4rb9               14  13.720904  100.527299  \n",
              "2  4orpg6839u93baoa36aicq78iq                9  13.720835  100.527152  \n",
              "3  4orpg6839u93baoa36aicq78iq                9  13.720882  100.527238  \n",
              "4  4orpg6839u93baoa36aicq78iq                8  13.721063  100.527258  "
            ],
            "text/html": [
              "\n",
              "  <div id=\"df-8961826d-b2fb-4d85-91bc-1cec093336c6\">\n",
              "    <div class=\"colab-df-container\">\n",
              "      <div>\n",
              "<style scoped>\n",
              "    .dataframe tbody tr th:only-of-type {\n",
              "        vertical-align: middle;\n",
              "    }\n",
              "\n",
              "    .dataframe tbody tr th {\n",
              "        vertical-align: top;\n",
              "    }\n",
              "\n",
              "    .dataframe thead th {\n",
              "        text-align: right;\n",
              "    }\n",
              "</style>\n",
              "<table border=\"1\" class=\"dataframe\">\n",
              "  <thead>\n",
              "    <tr style=\"text-align: right;\">\n",
              "      <th></th>\n",
              "      <th>search_id</th>\n",
              "      <th>search_timestamp</th>\n",
              "      <th>search_date</th>\n",
              "      <th>user_agent</th>\n",
              "      <th>q</th>\n",
              "      <th>session_id</th>\n",
              "      <th>number_of_result</th>\n",
              "      <th>lat</th>\n",
              "      <th>long</th>\n",
              "    </tr>\n",
              "  </thead>\n",
              "  <tbody>\n",
              "    <tr>\n",
              "      <th>0</th>\n",
              "      <td>3ecf13ba-be4d-4eb9-9374-a1cca09d1614</td>\n",
              "      <td>2018-06-22 11:26:40.836</td>\n",
              "      <td>2018-06-22</td>\n",
              "      <td>Wongnai/8.17.3 rv:8.17.3.3921 (iPhone8,4; iOS;...</td>\n",
              "      <td>ผัดไท</td>\n",
              "      <td>1m91ertp1g9a09agkl7dqtej30</td>\n",
              "      <td>17</td>\n",
              "      <td>12.451104</td>\n",
              "      <td>102.248522</td>\n",
              "    </tr>\n",
              "    <tr>\n",
              "      <th>1</th>\n",
              "      <td>02fedb5c-c9cd-46d7-9354-7613ecb7cfdd</td>\n",
              "      <td>2018-06-22 12:22:17.031</td>\n",
              "      <td>2018-06-22</td>\n",
              "      <td>Wongnai/10.0 (iPhone10,6; iOS; 11.4; en_TH@cal...</td>\n",
              "      <td>vt แหนมเนือง</td>\n",
              "      <td>4db1ugh8nj95totfl6dd4q4rb9</td>\n",
              "      <td>14</td>\n",
              "      <td>13.720904</td>\n",
              "      <td>100.527299</td>\n",
              "    </tr>\n",
              "    <tr>\n",
              "      <th>2</th>\n",
              "      <td>e215d487-0450-4794-830a-ecfc0ab6493b</td>\n",
              "      <td>2018-06-22 12:15:24.769</td>\n",
              "      <td>2018-06-22</td>\n",
              "      <td>Wongnai/10.0 (iPhone10,6; iOS; 11.4; en_TH@cal...</td>\n",
              "      <td>kuppadeli</td>\n",
              "      <td>4orpg6839u93baoa36aicq78iq</td>\n",
              "      <td>9</td>\n",
              "      <td>13.720835</td>\n",
              "      <td>100.527152</td>\n",
              "    </tr>\n",
              "    <tr>\n",
              "      <th>3</th>\n",
              "      <td>3a69e702-e54b-497c-9b8f-c3991d4c02ff</td>\n",
              "      <td>2018-06-22 12:12:24.091</td>\n",
              "      <td>2018-06-22</td>\n",
              "      <td>Wongnai/10.0 (iPhone10,6; iOS; 11.4; en_TH@cal...</td>\n",
              "      <td>ข้าวซอยลำดวน</td>\n",
              "      <td>4orpg6839u93baoa36aicq78iq</td>\n",
              "      <td>9</td>\n",
              "      <td>13.720882</td>\n",
              "      <td>100.527238</td>\n",
              "    </tr>\n",
              "    <tr>\n",
              "      <th>4</th>\n",
              "      <td>03cb2585-738e-4000-afed-e976d123a145</td>\n",
              "      <td>2018-06-22 12:04:43.977</td>\n",
              "      <td>2018-06-22</td>\n",
              "      <td>Wongnai/10.0 (iPhone10,6; iOS; 11.4; en_TH@cal...</td>\n",
              "      <td>kagonoya</td>\n",
              "      <td>4orpg6839u93baoa36aicq78iq</td>\n",
              "      <td>8</td>\n",
              "      <td>13.721063</td>\n",
              "      <td>100.527258</td>\n",
              "    </tr>\n",
              "  </tbody>\n",
              "</table>\n",
              "</div>\n",
              "      <button class=\"colab-df-convert\" onclick=\"convertToInteractive('df-8961826d-b2fb-4d85-91bc-1cec093336c6')\"\n",
              "              title=\"Convert this dataframe to an interactive table.\"\n",
              "              style=\"display:none;\">\n",
              "        \n",
              "  <svg xmlns=\"http://www.w3.org/2000/svg\" height=\"24px\"viewBox=\"0 0 24 24\"\n",
              "       width=\"24px\">\n",
              "    <path d=\"M0 0h24v24H0V0z\" fill=\"none\"/>\n",
              "    <path d=\"M18.56 5.44l.94 2.06.94-2.06 2.06-.94-2.06-.94-.94-2.06-.94 2.06-2.06.94zm-11 1L8.5 8.5l.94-2.06 2.06-.94-2.06-.94L8.5 2.5l-.94 2.06-2.06.94zm10 10l.94 2.06.94-2.06 2.06-.94-2.06-.94-.94-2.06-.94 2.06-2.06.94z\"/><path d=\"M17.41 7.96l-1.37-1.37c-.4-.4-.92-.59-1.43-.59-.52 0-1.04.2-1.43.59L10.3 9.45l-7.72 7.72c-.78.78-.78 2.05 0 2.83L4 21.41c.39.39.9.59 1.41.59.51 0 1.02-.2 1.41-.59l7.78-7.78 2.81-2.81c.8-.78.8-2.07 0-2.86zM5.41 20L4 18.59l7.72-7.72 1.47 1.35L5.41 20z\"/>\n",
              "  </svg>\n",
              "      </button>\n",
              "      \n",
              "  <style>\n",
              "    .colab-df-container {\n",
              "      display:flex;\n",
              "      flex-wrap:wrap;\n",
              "      gap: 12px;\n",
              "    }\n",
              "\n",
              "    .colab-df-convert {\n",
              "      background-color: #E8F0FE;\n",
              "      border: none;\n",
              "      border-radius: 50%;\n",
              "      cursor: pointer;\n",
              "      display: none;\n",
              "      fill: #1967D2;\n",
              "      height: 32px;\n",
              "      padding: 0 0 0 0;\n",
              "      width: 32px;\n",
              "    }\n",
              "\n",
              "    .colab-df-convert:hover {\n",
              "      background-color: #E2EBFA;\n",
              "      box-shadow: 0px 1px 2px rgba(60, 64, 67, 0.3), 0px 1px 3px 1px rgba(60, 64, 67, 0.15);\n",
              "      fill: #174EA6;\n",
              "    }\n",
              "\n",
              "    [theme=dark] .colab-df-convert {\n",
              "      background-color: #3B4455;\n",
              "      fill: #D2E3FC;\n",
              "    }\n",
              "\n",
              "    [theme=dark] .colab-df-convert:hover {\n",
              "      background-color: #434B5C;\n",
              "      box-shadow: 0px 1px 3px 1px rgba(0, 0, 0, 0.15);\n",
              "      filter: drop-shadow(0px 1px 2px rgba(0, 0, 0, 0.3));\n",
              "      fill: #FFFFFF;\n",
              "    }\n",
              "  </style>\n",
              "\n",
              "      <script>\n",
              "        const buttonEl =\n",
              "          document.querySelector('#df-8961826d-b2fb-4d85-91bc-1cec093336c6 button.colab-df-convert');\n",
              "        buttonEl.style.display =\n",
              "          google.colab.kernel.accessAllowed ? 'block' : 'none';\n",
              "\n",
              "        async function convertToInteractive(key) {\n",
              "          const element = document.querySelector('#df-8961826d-b2fb-4d85-91bc-1cec093336c6');\n",
              "          const dataTable =\n",
              "            await google.colab.kernel.invokeFunction('convertToInteractive',\n",
              "                                                     [key], {});\n",
              "          if (!dataTable) return;\n",
              "\n",
              "          const docLinkHtml = 'Like what you see? Visit the ' +\n",
              "            '<a target=\"_blank\" href=https://colab.research.google.com/notebooks/data_table.ipynb>data table notebook</a>'\n",
              "            + ' to learn more about interactive tables.';\n",
              "          element.innerHTML = '';\n",
              "          dataTable['output_type'] = 'display_data';\n",
              "          await google.colab.output.renderOutput(dataTable, element);\n",
              "          const docLink = document.createElement('div');\n",
              "          docLink.innerHTML = docLinkHtml;\n",
              "          element.appendChild(docLink);\n",
              "        }\n",
              "      </script>\n",
              "    </div>\n",
              "  </div>\n",
              "  "
            ]
          },
          "metadata": {},
          "execution_count": 169
        }
      ]
    },
    {
      "cell_type": "code",
      "metadata": {
        "colab": {
          "base_uri": "https://localhost:8080/"
        },
        "id": "-AZVjoIq_dVK",
        "outputId": "4b164e24-284f-4e53-ccf8-4875b82b3855"
      },
      "source": [
        "search_req2.isnull().any()"
      ],
      "execution_count": null,
      "outputs": [
        {
          "output_type": "execute_result",
          "data": {
            "text/plain": [
              "search_id           False\n",
              "search_timestamp    False\n",
              "search_date         False\n",
              "user_agent          False\n",
              "q                   False\n",
              "session_id          False\n",
              "number_of_result    False\n",
              "lat                 False\n",
              "long                False\n",
              "dtype: bool"
            ]
          },
          "metadata": {},
          "execution_count": 170
        }
      ]
    },
    {
      "cell_type": "code",
      "metadata": {
        "id": "Li1XNkOx_QYE"
      },
      "source": [
        "search_req2.to_csv('search_request_clean.csv', encoding='utf-8')"
      ],
      "execution_count": null,
      "outputs": []
    },
    {
      "cell_type": "markdown",
      "metadata": {
        "id": "3a5bRXen0vw0"
      },
      "source": [
        "### **Merge Dataframe** \n",
        "> ***search_request + search_click***\n",
        "\n",
        "\n",
        "- ใช้ search_id เป็น Key เพื่อเชื่อมตาราง"
      ]
    },
    {
      "cell_type": "code",
      "source": [
        "# merged_search3 = pd.merge(search_req2, search3, how=\"outer\", on=[\"search_id\", \"search_id\"])\n",
        "# print(merged_search3.shape)\n",
        "# print('*'*120)\n",
        "# merged_search3.head()"
      ],
      "metadata": {
        "id": "y4G7M7Wxy-mP"
      },
      "execution_count": null,
      "outputs": []
    },
    {
      "cell_type": "code",
      "metadata": {
        "id": "F1mQ6PDi3O0x"
      },
      "source": [
        "# merged_search3 = search3.merge(search_req,how='left',left_on='search_id',right_on='search_id')\n",
        "# merged_search3.head()"
      ],
      "execution_count": null,
      "outputs": []
    },
    {
      "cell_type": "code",
      "source": [
        "merged_search = search_req2.merge(search3, how='inner', on='search_id')\n",
        "print(merged_search.shape, '\\n')\n",
        "print('*'*120)\n",
        "merged_search.head()"
      ],
      "metadata": {
        "colab": {
          "base_uri": "https://localhost:8080/",
          "height": 583
        },
        "id": "fVhjW7je0YOD",
        "outputId": "21dad564-99aa-492a-d64f-872e7e605510"
      },
      "execution_count": null,
      "outputs": [
        {
          "output_type": "stream",
          "name": "stdout",
          "text": [
            "(26778, 14) \n",
            "\n",
            "************************************************************************************************************************\n"
          ]
        },
        {
          "output_type": "execute_result",
          "data": {
            "text/plain": [
              "                              search_id         search_timestamp search_date  \\\n",
              "0  465dca62-ac52-42e9-9c7b-f28845671c64  2018-06-20 16:07:29.216  2018-06-20   \n",
              "1  4c190356-6433-43fd-89a4-bef1ec1a2c46  2018-06-01 16:26:55.143  2018-06-01   \n",
              "2  d476cba0-feef-404c-bd18-b598cca89ec9  2018-06-01 17:47:04.816  2018-06-01   \n",
              "3  d476cba0-feef-404c-bd18-b598cca89ec9  2018-06-01 17:47:04.816  2018-06-01   \n",
              "4  c7dcf523-31d4-4da9-9b00-309c68cd9125  2018-06-15 14:23:38.514  2018-06-15   \n",
              "\n",
              "                                          user_agent                q  \\\n",
              "0  Wongnai/8.17.5 (iPhone10,6; iOS; 11.4; en_TH@c...             ชานม   \n",
              "1    Wongnai/8.17.1 (iPhone9,4; iOS; 11.3.1; th_TH;)        ทิพย์โอชา   \n",
              "2    okhttp/2.5.0;WongnaiAndroid 4.4;samsung;SM-N900  เซ็นทรัลพระราม9   \n",
              "3    okhttp/2.5.0;WongnaiAndroid 4.4;samsung;SM-N900  เซ็นทรัลพระราม9   \n",
              "4  Wongnai/8.17.3 rv:8.17.3.3921 (iPhone10,5; iOS...            Tenjo   \n",
              "\n",
              "                   session_id number_of_result        lat        long  \\\n",
              "0  63aqja0qpc8aco6ls91a17nt3m               18  13.731447  100.569463   \n",
              "1  3l3tjtc4ud81cq2b48u4atpvj0               12  16.399029  101.124708   \n",
              "2  535vdnpt8t807o66p5qlv91eln               11  13.760898  100.569429   \n",
              "3  535vdnpt8t807o66p5qlv91eln               11  13.760898  100.569429   \n",
              "4   2dkim5lpb9ucrjp01qe65cniq               10  13.650411  100.683212   \n",
              "\n",
              "  click_timestamp  business_id  display_position  time_diff_nanos    ads  \n",
              "0         20:34.6      30001.0                 0     7.853940e+11  False  \n",
              "1         27:05.2     308136.0                 0     1.010046e+10   True  \n",
              "2         47:08.9     287787.0                 1     4.114686e+09  False  \n",
              "3         47:21.8      90089.0                 2     1.692545e+10  False  \n",
              "4         23:46.1      46545.0                 5     7.544787e+09  False  "
            ],
            "text/html": [
              "\n",
              "  <div id=\"df-4e79ad89-7d48-4c5d-aae2-96932647b0d9\">\n",
              "    <div class=\"colab-df-container\">\n",
              "      <div>\n",
              "<style scoped>\n",
              "    .dataframe tbody tr th:only-of-type {\n",
              "        vertical-align: middle;\n",
              "    }\n",
              "\n",
              "    .dataframe tbody tr th {\n",
              "        vertical-align: top;\n",
              "    }\n",
              "\n",
              "    .dataframe thead th {\n",
              "        text-align: right;\n",
              "    }\n",
              "</style>\n",
              "<table border=\"1\" class=\"dataframe\">\n",
              "  <thead>\n",
              "    <tr style=\"text-align: right;\">\n",
              "      <th></th>\n",
              "      <th>search_id</th>\n",
              "      <th>search_timestamp</th>\n",
              "      <th>search_date</th>\n",
              "      <th>user_agent</th>\n",
              "      <th>q</th>\n",
              "      <th>session_id</th>\n",
              "      <th>number_of_result</th>\n",
              "      <th>lat</th>\n",
              "      <th>long</th>\n",
              "      <th>click_timestamp</th>\n",
              "      <th>business_id</th>\n",
              "      <th>display_position</th>\n",
              "      <th>time_diff_nanos</th>\n",
              "      <th>ads</th>\n",
              "    </tr>\n",
              "  </thead>\n",
              "  <tbody>\n",
              "    <tr>\n",
              "      <th>0</th>\n",
              "      <td>465dca62-ac52-42e9-9c7b-f28845671c64</td>\n",
              "      <td>2018-06-20 16:07:29.216</td>\n",
              "      <td>2018-06-20</td>\n",
              "      <td>Wongnai/8.17.5 (iPhone10,6; iOS; 11.4; en_TH@c...</td>\n",
              "      <td>ชานม</td>\n",
              "      <td>63aqja0qpc8aco6ls91a17nt3m</td>\n",
              "      <td>18</td>\n",
              "      <td>13.731447</td>\n",
              "      <td>100.569463</td>\n",
              "      <td>20:34.6</td>\n",
              "      <td>30001.0</td>\n",
              "      <td>0</td>\n",
              "      <td>7.853940e+11</td>\n",
              "      <td>False</td>\n",
              "    </tr>\n",
              "    <tr>\n",
              "      <th>1</th>\n",
              "      <td>4c190356-6433-43fd-89a4-bef1ec1a2c46</td>\n",
              "      <td>2018-06-01 16:26:55.143</td>\n",
              "      <td>2018-06-01</td>\n",
              "      <td>Wongnai/8.17.1 (iPhone9,4; iOS; 11.3.1; th_TH;)</td>\n",
              "      <td>ทิพย์โอชา</td>\n",
              "      <td>3l3tjtc4ud81cq2b48u4atpvj0</td>\n",
              "      <td>12</td>\n",
              "      <td>16.399029</td>\n",
              "      <td>101.124708</td>\n",
              "      <td>27:05.2</td>\n",
              "      <td>308136.0</td>\n",
              "      <td>0</td>\n",
              "      <td>1.010046e+10</td>\n",
              "      <td>True</td>\n",
              "    </tr>\n",
              "    <tr>\n",
              "      <th>2</th>\n",
              "      <td>d476cba0-feef-404c-bd18-b598cca89ec9</td>\n",
              "      <td>2018-06-01 17:47:04.816</td>\n",
              "      <td>2018-06-01</td>\n",
              "      <td>okhttp/2.5.0;WongnaiAndroid 4.4;samsung;SM-N900</td>\n",
              "      <td>เซ็นทรัลพระราม9</td>\n",
              "      <td>535vdnpt8t807o66p5qlv91eln</td>\n",
              "      <td>11</td>\n",
              "      <td>13.760898</td>\n",
              "      <td>100.569429</td>\n",
              "      <td>47:08.9</td>\n",
              "      <td>287787.0</td>\n",
              "      <td>1</td>\n",
              "      <td>4.114686e+09</td>\n",
              "      <td>False</td>\n",
              "    </tr>\n",
              "    <tr>\n",
              "      <th>3</th>\n",
              "      <td>d476cba0-feef-404c-bd18-b598cca89ec9</td>\n",
              "      <td>2018-06-01 17:47:04.816</td>\n",
              "      <td>2018-06-01</td>\n",
              "      <td>okhttp/2.5.0;WongnaiAndroid 4.4;samsung;SM-N900</td>\n",
              "      <td>เซ็นทรัลพระราม9</td>\n",
              "      <td>535vdnpt8t807o66p5qlv91eln</td>\n",
              "      <td>11</td>\n",
              "      <td>13.760898</td>\n",
              "      <td>100.569429</td>\n",
              "      <td>47:21.8</td>\n",
              "      <td>90089.0</td>\n",
              "      <td>2</td>\n",
              "      <td>1.692545e+10</td>\n",
              "      <td>False</td>\n",
              "    </tr>\n",
              "    <tr>\n",
              "      <th>4</th>\n",
              "      <td>c7dcf523-31d4-4da9-9b00-309c68cd9125</td>\n",
              "      <td>2018-06-15 14:23:38.514</td>\n",
              "      <td>2018-06-15</td>\n",
              "      <td>Wongnai/8.17.3 rv:8.17.3.3921 (iPhone10,5; iOS...</td>\n",
              "      <td>Tenjo</td>\n",
              "      <td>2dkim5lpb9ucrjp01qe65cniq</td>\n",
              "      <td>10</td>\n",
              "      <td>13.650411</td>\n",
              "      <td>100.683212</td>\n",
              "      <td>23:46.1</td>\n",
              "      <td>46545.0</td>\n",
              "      <td>5</td>\n",
              "      <td>7.544787e+09</td>\n",
              "      <td>False</td>\n",
              "    </tr>\n",
              "  </tbody>\n",
              "</table>\n",
              "</div>\n",
              "      <button class=\"colab-df-convert\" onclick=\"convertToInteractive('df-4e79ad89-7d48-4c5d-aae2-96932647b0d9')\"\n",
              "              title=\"Convert this dataframe to an interactive table.\"\n",
              "              style=\"display:none;\">\n",
              "        \n",
              "  <svg xmlns=\"http://www.w3.org/2000/svg\" height=\"24px\"viewBox=\"0 0 24 24\"\n",
              "       width=\"24px\">\n",
              "    <path d=\"M0 0h24v24H0V0z\" fill=\"none\"/>\n",
              "    <path d=\"M18.56 5.44l.94 2.06.94-2.06 2.06-.94-2.06-.94-.94-2.06-.94 2.06-2.06.94zm-11 1L8.5 8.5l.94-2.06 2.06-.94-2.06-.94L8.5 2.5l-.94 2.06-2.06.94zm10 10l.94 2.06.94-2.06 2.06-.94-2.06-.94-.94-2.06-.94 2.06-2.06.94z\"/><path d=\"M17.41 7.96l-1.37-1.37c-.4-.4-.92-.59-1.43-.59-.52 0-1.04.2-1.43.59L10.3 9.45l-7.72 7.72c-.78.78-.78 2.05 0 2.83L4 21.41c.39.39.9.59 1.41.59.51 0 1.02-.2 1.41-.59l7.78-7.78 2.81-2.81c.8-.78.8-2.07 0-2.86zM5.41 20L4 18.59l7.72-7.72 1.47 1.35L5.41 20z\"/>\n",
              "  </svg>\n",
              "      </button>\n",
              "      \n",
              "  <style>\n",
              "    .colab-df-container {\n",
              "      display:flex;\n",
              "      flex-wrap:wrap;\n",
              "      gap: 12px;\n",
              "    }\n",
              "\n",
              "    .colab-df-convert {\n",
              "      background-color: #E8F0FE;\n",
              "      border: none;\n",
              "      border-radius: 50%;\n",
              "      cursor: pointer;\n",
              "      display: none;\n",
              "      fill: #1967D2;\n",
              "      height: 32px;\n",
              "      padding: 0 0 0 0;\n",
              "      width: 32px;\n",
              "    }\n",
              "\n",
              "    .colab-df-convert:hover {\n",
              "      background-color: #E2EBFA;\n",
              "      box-shadow: 0px 1px 2px rgba(60, 64, 67, 0.3), 0px 1px 3px 1px rgba(60, 64, 67, 0.15);\n",
              "      fill: #174EA6;\n",
              "    }\n",
              "\n",
              "    [theme=dark] .colab-df-convert {\n",
              "      background-color: #3B4455;\n",
              "      fill: #D2E3FC;\n",
              "    }\n",
              "\n",
              "    [theme=dark] .colab-df-convert:hover {\n",
              "      background-color: #434B5C;\n",
              "      box-shadow: 0px 1px 3px 1px rgba(0, 0, 0, 0.15);\n",
              "      filter: drop-shadow(0px 1px 2px rgba(0, 0, 0, 0.3));\n",
              "      fill: #FFFFFF;\n",
              "    }\n",
              "  </style>\n",
              "\n",
              "      <script>\n",
              "        const buttonEl =\n",
              "          document.querySelector('#df-4e79ad89-7d48-4c5d-aae2-96932647b0d9 button.colab-df-convert');\n",
              "        buttonEl.style.display =\n",
              "          google.colab.kernel.accessAllowed ? 'block' : 'none';\n",
              "\n",
              "        async function convertToInteractive(key) {\n",
              "          const element = document.querySelector('#df-4e79ad89-7d48-4c5d-aae2-96932647b0d9');\n",
              "          const dataTable =\n",
              "            await google.colab.kernel.invokeFunction('convertToInteractive',\n",
              "                                                     [key], {});\n",
              "          if (!dataTable) return;\n",
              "\n",
              "          const docLinkHtml = 'Like what you see? Visit the ' +\n",
              "            '<a target=\"_blank\" href=https://colab.research.google.com/notebooks/data_table.ipynb>data table notebook</a>'\n",
              "            + ' to learn more about interactive tables.';\n",
              "          element.innerHTML = '';\n",
              "          dataTable['output_type'] = 'display_data';\n",
              "          await google.colab.output.renderOutput(dataTable, element);\n",
              "          const docLink = document.createElement('div');\n",
              "          docLink.innerHTML = docLinkHtml;\n",
              "          element.appendChild(docLink);\n",
              "        }\n",
              "      </script>\n",
              "    </div>\n",
              "  </div>\n",
              "  "
            ]
          },
          "metadata": {},
          "execution_count": 171
        }
      ]
    },
    {
      "cell_type": "code",
      "metadata": {
        "colab": {
          "base_uri": "https://localhost:8080/"
        },
        "id": "reZmZjxP5iyE",
        "outputId": "60aad02a-a959-4da9-96af-00362810295a"
      },
      "source": [
        "merged_search.isnull().any()"
      ],
      "execution_count": null,
      "outputs": [
        {
          "output_type": "execute_result",
          "data": {
            "text/plain": [
              "search_id           False\n",
              "search_timestamp    False\n",
              "search_date         False\n",
              "user_agent          False\n",
              "q                   False\n",
              "session_id          False\n",
              "number_of_result    False\n",
              "lat                 False\n",
              "long                False\n",
              "click_timestamp     False\n",
              "business_id         False\n",
              "display_position    False\n",
              "time_diff_nanos     False\n",
              "ads                 False\n",
              "dtype: bool"
            ]
          },
          "metadata": {},
          "execution_count": 172
        }
      ]
    },
    {
      "cell_type": "code",
      "source": [
        "merged_search.to_csv('df_merged_search.csv', encoding='utf-8')"
      ],
      "metadata": {
        "id": "RoJsbeXJ1sTF"
      },
      "execution_count": null,
      "outputs": []
    },
    {
      "cell_type": "markdown",
      "metadata": {
        "id": "OzS5wVYyF2cs"
      },
      "source": [
        "## **w_restaurant**"
      ]
    },
    {
      "cell_type": "code",
      "metadata": {
        "id": "CPAnfNiDEPlF",
        "colab": {
          "base_uri": "https://localhost:8080/",
          "height": 1000
        },
        "outputId": "8669312b-3eef-447f-88b8-e199cd8f6769"
      },
      "source": [
        "w_restaurant = pd.read_csv('w_restaurant.csv')\n",
        "print(w_restaurant.shape,'\\n')\n",
        "print('*'*120)\n",
        "print(w_restaurant.isnull().any())\n",
        "print('*'*200)\n",
        "w_restaurant.head()"
      ],
      "execution_count": null,
      "outputs": [
        {
          "output_type": "stream",
          "name": "stdout",
          "text": [
            "(246847, 32) \n",
            "\n",
            "************************************************************************************************************************\n",
            "id                         False\n",
            "name                       False\n",
            "domain_id                  False\n",
            "closed                     False\n",
            "city_name                  False\n",
            "zipcode                     True\n",
            "geohash                    False\n",
            "new_open                   False\n",
            "weighted_average_rating    False\n",
            "number_of_chains            True\n",
            "number_of_bookmarks         True\n",
            "number_of_reviews          False\n",
            "number_of_product_tags     False\n",
            "total_number_of_views      False\n",
            "number_of_checkins         False\n",
            "number_of_menu_groups      False\n",
            "number_of_menu_photos      False\n",
            "category_name              False\n",
            "price_range                 True\n",
            "avg_price                   True\n",
            "parking                     True\n",
            "credit_card_accepted        True\n",
            "good_for_groups             True\n",
            "good_for_kids               True\n",
            "bookable                    True\n",
            "best_of_wongnai             True\n",
            "wifi                        True\n",
            "number_of_seats             True\n",
            "music_venue                 True\n",
            "hotel_restaurant            True\n",
            "pet_friendly                True\n",
            "delivery                    True\n",
            "dtype: bool\n",
            "********************************************************************************************************************************************************************************************************\n"
          ]
        },
        {
          "output_type": "execute_result",
          "data": {
            "text/plain": [
              "   id              name  domain_id  closed                    city_name  \\\n",
              "0   2  นครินทร์ทันตกรรม          2       0              Samut Songkhram   \n",
              "1   4      Corner House          1       0  Bangkok Metropolitan Region   \n",
              "2   5    วัดโลกยสุธาราม          4       0     Phra Nakhon Si Ayutthaya   \n",
              "3   6    นันท์คาราโอเกะ          1       0  Bangkok Metropolitan Region   \n",
              "4   7       Buono Caffe          1       0  Bangkok Metropolitan Region   \n",
              "\n",
              "  zipcode  geohash  new_open  weighted_average_rating  number_of_chains  ...  \\\n",
              "0   75000  w4rh7g3         0                 5.000000               NaN  ...   \n",
              "1   12150  w4rx73h         0                 2.000000               NaN  ...   \n",
              "2   13000  w4x98jk         0                 4.000000               NaN  ...   \n",
              "3   10700  w4rqw9q         0                 0.000000               NaN  ...   \n",
              "4   10220  w4rx4gd         0                 3.738462               NaN  ...   \n",
              "\n",
              "   good_for_groups  good_for_kids  bookable  best_of_wongnai  wifi  \\\n",
              "0              NaN            NaN       NaN              NaN   NaN   \n",
              "1              NaN            NaN       NaN              NaN   NaN   \n",
              "2              NaN            NaN       NaN              NaN   NaN   \n",
              "3              NaN            NaN       NaN              NaN   NaN   \n",
              "4              NaN            NaN       NaN              NaN   1.0   \n",
              "\n",
              "   number_of_seats  music_venue hotel_restaurant  pet_friendly  delivery  \n",
              "0             13.0          NaN              NaN           NaN       NaN  \n",
              "1              NaN          NaN              NaN           NaN       NaN  \n",
              "2              NaN          NaN              NaN           NaN       NaN  \n",
              "3              NaN          NaN              NaN           NaN       NaN  \n",
              "4              2.0          NaN              NaN           NaN       NaN  \n",
              "\n",
              "[5 rows x 32 columns]"
            ],
            "text/html": [
              "\n",
              "  <div id=\"df-b4386cac-754c-4ac3-9b8a-a9a9a4be91b9\">\n",
              "    <div class=\"colab-df-container\">\n",
              "      <div>\n",
              "<style scoped>\n",
              "    .dataframe tbody tr th:only-of-type {\n",
              "        vertical-align: middle;\n",
              "    }\n",
              "\n",
              "    .dataframe tbody tr th {\n",
              "        vertical-align: top;\n",
              "    }\n",
              "\n",
              "    .dataframe thead th {\n",
              "        text-align: right;\n",
              "    }\n",
              "</style>\n",
              "<table border=\"1\" class=\"dataframe\">\n",
              "  <thead>\n",
              "    <tr style=\"text-align: right;\">\n",
              "      <th></th>\n",
              "      <th>id</th>\n",
              "      <th>name</th>\n",
              "      <th>domain_id</th>\n",
              "      <th>closed</th>\n",
              "      <th>city_name</th>\n",
              "      <th>zipcode</th>\n",
              "      <th>geohash</th>\n",
              "      <th>new_open</th>\n",
              "      <th>weighted_average_rating</th>\n",
              "      <th>number_of_chains</th>\n",
              "      <th>...</th>\n",
              "      <th>good_for_groups</th>\n",
              "      <th>good_for_kids</th>\n",
              "      <th>bookable</th>\n",
              "      <th>best_of_wongnai</th>\n",
              "      <th>wifi</th>\n",
              "      <th>number_of_seats</th>\n",
              "      <th>music_venue</th>\n",
              "      <th>hotel_restaurant</th>\n",
              "      <th>pet_friendly</th>\n",
              "      <th>delivery</th>\n",
              "    </tr>\n",
              "  </thead>\n",
              "  <tbody>\n",
              "    <tr>\n",
              "      <th>0</th>\n",
              "      <td>2</td>\n",
              "      <td>นครินทร์ทันตกรรม</td>\n",
              "      <td>2</td>\n",
              "      <td>0</td>\n",
              "      <td>Samut Songkhram</td>\n",
              "      <td>75000</td>\n",
              "      <td>w4rh7g3</td>\n",
              "      <td>0</td>\n",
              "      <td>5.000000</td>\n",
              "      <td>NaN</td>\n",
              "      <td>...</td>\n",
              "      <td>NaN</td>\n",
              "      <td>NaN</td>\n",
              "      <td>NaN</td>\n",
              "      <td>NaN</td>\n",
              "      <td>NaN</td>\n",
              "      <td>13.0</td>\n",
              "      <td>NaN</td>\n",
              "      <td>NaN</td>\n",
              "      <td>NaN</td>\n",
              "      <td>NaN</td>\n",
              "    </tr>\n",
              "    <tr>\n",
              "      <th>1</th>\n",
              "      <td>4</td>\n",
              "      <td>Corner House</td>\n",
              "      <td>1</td>\n",
              "      <td>0</td>\n",
              "      <td>Bangkok Metropolitan Region</td>\n",
              "      <td>12150</td>\n",
              "      <td>w4rx73h</td>\n",
              "      <td>0</td>\n",
              "      <td>2.000000</td>\n",
              "      <td>NaN</td>\n",
              "      <td>...</td>\n",
              "      <td>NaN</td>\n",
              "      <td>NaN</td>\n",
              "      <td>NaN</td>\n",
              "      <td>NaN</td>\n",
              "      <td>NaN</td>\n",
              "      <td>NaN</td>\n",
              "      <td>NaN</td>\n",
              "      <td>NaN</td>\n",
              "      <td>NaN</td>\n",
              "      <td>NaN</td>\n",
              "    </tr>\n",
              "    <tr>\n",
              "      <th>2</th>\n",
              "      <td>5</td>\n",
              "      <td>วัดโลกยสุธาราม</td>\n",
              "      <td>4</td>\n",
              "      <td>0</td>\n",
              "      <td>Phra Nakhon Si Ayutthaya</td>\n",
              "      <td>13000</td>\n",
              "      <td>w4x98jk</td>\n",
              "      <td>0</td>\n",
              "      <td>4.000000</td>\n",
              "      <td>NaN</td>\n",
              "      <td>...</td>\n",
              "      <td>NaN</td>\n",
              "      <td>NaN</td>\n",
              "      <td>NaN</td>\n",
              "      <td>NaN</td>\n",
              "      <td>NaN</td>\n",
              "      <td>NaN</td>\n",
              "      <td>NaN</td>\n",
              "      <td>NaN</td>\n",
              "      <td>NaN</td>\n",
              "      <td>NaN</td>\n",
              "    </tr>\n",
              "    <tr>\n",
              "      <th>3</th>\n",
              "      <td>6</td>\n",
              "      <td>นันท์คาราโอเกะ</td>\n",
              "      <td>1</td>\n",
              "      <td>0</td>\n",
              "      <td>Bangkok Metropolitan Region</td>\n",
              "      <td>10700</td>\n",
              "      <td>w4rqw9q</td>\n",
              "      <td>0</td>\n",
              "      <td>0.000000</td>\n",
              "      <td>NaN</td>\n",
              "      <td>...</td>\n",
              "      <td>NaN</td>\n",
              "      <td>NaN</td>\n",
              "      <td>NaN</td>\n",
              "      <td>NaN</td>\n",
              "      <td>NaN</td>\n",
              "      <td>NaN</td>\n",
              "      <td>NaN</td>\n",
              "      <td>NaN</td>\n",
              "      <td>NaN</td>\n",
              "      <td>NaN</td>\n",
              "    </tr>\n",
              "    <tr>\n",
              "      <th>4</th>\n",
              "      <td>7</td>\n",
              "      <td>Buono Caffe</td>\n",
              "      <td>1</td>\n",
              "      <td>0</td>\n",
              "      <td>Bangkok Metropolitan Region</td>\n",
              "      <td>10220</td>\n",
              "      <td>w4rx4gd</td>\n",
              "      <td>0</td>\n",
              "      <td>3.738462</td>\n",
              "      <td>NaN</td>\n",
              "      <td>...</td>\n",
              "      <td>NaN</td>\n",
              "      <td>NaN</td>\n",
              "      <td>NaN</td>\n",
              "      <td>NaN</td>\n",
              "      <td>1.0</td>\n",
              "      <td>2.0</td>\n",
              "      <td>NaN</td>\n",
              "      <td>NaN</td>\n",
              "      <td>NaN</td>\n",
              "      <td>NaN</td>\n",
              "    </tr>\n",
              "  </tbody>\n",
              "</table>\n",
              "<p>5 rows × 32 columns</p>\n",
              "</div>\n",
              "      <button class=\"colab-df-convert\" onclick=\"convertToInteractive('df-b4386cac-754c-4ac3-9b8a-a9a9a4be91b9')\"\n",
              "              title=\"Convert this dataframe to an interactive table.\"\n",
              "              style=\"display:none;\">\n",
              "        \n",
              "  <svg xmlns=\"http://www.w3.org/2000/svg\" height=\"24px\"viewBox=\"0 0 24 24\"\n",
              "       width=\"24px\">\n",
              "    <path d=\"M0 0h24v24H0V0z\" fill=\"none\"/>\n",
              "    <path d=\"M18.56 5.44l.94 2.06.94-2.06 2.06-.94-2.06-.94-.94-2.06-.94 2.06-2.06.94zm-11 1L8.5 8.5l.94-2.06 2.06-.94-2.06-.94L8.5 2.5l-.94 2.06-2.06.94zm10 10l.94 2.06.94-2.06 2.06-.94-2.06-.94-.94-2.06-.94 2.06-2.06.94z\"/><path d=\"M17.41 7.96l-1.37-1.37c-.4-.4-.92-.59-1.43-.59-.52 0-1.04.2-1.43.59L10.3 9.45l-7.72 7.72c-.78.78-.78 2.05 0 2.83L4 21.41c.39.39.9.59 1.41.59.51 0 1.02-.2 1.41-.59l7.78-7.78 2.81-2.81c.8-.78.8-2.07 0-2.86zM5.41 20L4 18.59l7.72-7.72 1.47 1.35L5.41 20z\"/>\n",
              "  </svg>\n",
              "      </button>\n",
              "      \n",
              "  <style>\n",
              "    .colab-df-container {\n",
              "      display:flex;\n",
              "      flex-wrap:wrap;\n",
              "      gap: 12px;\n",
              "    }\n",
              "\n",
              "    .colab-df-convert {\n",
              "      background-color: #E8F0FE;\n",
              "      border: none;\n",
              "      border-radius: 50%;\n",
              "      cursor: pointer;\n",
              "      display: none;\n",
              "      fill: #1967D2;\n",
              "      height: 32px;\n",
              "      padding: 0 0 0 0;\n",
              "      width: 32px;\n",
              "    }\n",
              "\n",
              "    .colab-df-convert:hover {\n",
              "      background-color: #E2EBFA;\n",
              "      box-shadow: 0px 1px 2px rgba(60, 64, 67, 0.3), 0px 1px 3px 1px rgba(60, 64, 67, 0.15);\n",
              "      fill: #174EA6;\n",
              "    }\n",
              "\n",
              "    [theme=dark] .colab-df-convert {\n",
              "      background-color: #3B4455;\n",
              "      fill: #D2E3FC;\n",
              "    }\n",
              "\n",
              "    [theme=dark] .colab-df-convert:hover {\n",
              "      background-color: #434B5C;\n",
              "      box-shadow: 0px 1px 3px 1px rgba(0, 0, 0, 0.15);\n",
              "      filter: drop-shadow(0px 1px 2px rgba(0, 0, 0, 0.3));\n",
              "      fill: #FFFFFF;\n",
              "    }\n",
              "  </style>\n",
              "\n",
              "      <script>\n",
              "        const buttonEl =\n",
              "          document.querySelector('#df-b4386cac-754c-4ac3-9b8a-a9a9a4be91b9 button.colab-df-convert');\n",
              "        buttonEl.style.display =\n",
              "          google.colab.kernel.accessAllowed ? 'block' : 'none';\n",
              "\n",
              "        async function convertToInteractive(key) {\n",
              "          const element = document.querySelector('#df-b4386cac-754c-4ac3-9b8a-a9a9a4be91b9');\n",
              "          const dataTable =\n",
              "            await google.colab.kernel.invokeFunction('convertToInteractive',\n",
              "                                                     [key], {});\n",
              "          if (!dataTable) return;\n",
              "\n",
              "          const docLinkHtml = 'Like what you see? Visit the ' +\n",
              "            '<a target=\"_blank\" href=https://colab.research.google.com/notebooks/data_table.ipynb>data table notebook</a>'\n",
              "            + ' to learn more about interactive tables.';\n",
              "          element.innerHTML = '';\n",
              "          dataTable['output_type'] = 'display_data';\n",
              "          await google.colab.output.renderOutput(dataTable, element);\n",
              "          const docLink = document.createElement('div');\n",
              "          docLink.innerHTML = docLinkHtml;\n",
              "          element.appendChild(docLink);\n",
              "        }\n",
              "      </script>\n",
              "    </div>\n",
              "  </div>\n",
              "  "
            ]
          },
          "metadata": {},
          "execution_count": 173
        }
      ]
    },
    {
      "cell_type": "markdown",
      "source": [
        "> #### Columns \n",
        "- zipcode\n",
        "- number_of_chains\n",
        "- number_of_bookmarks\n",
        "- parking\n",
        "- credit_card_accepted\n",
        "- bookable\n",
        "- best_of_wongnai\n",
        "- wifi\n",
        "- number_of_seats\n",
        "- music_venue\n",
        "- hotel_restaurant\n",
        "- pet_friendly\n",
        "- delivery\n",
        "\n",
        "-- จัดการ Missing Value  = 'ไม่ระบุ'"
      ],
      "metadata": {
        "id": "n-IEQmb54C8o"
      }
    },
    {
      "cell_type": "markdown",
      "source": [
        "> #### **Print column name with missing values**"
      ],
      "metadata": {
        "id": "9wO0QPDF6e_L"
      }
    },
    {
      "cell_type": "code",
      "source": [
        "col_mis = w_restaurant.columns[w_restaurant.isnull().any()].tolist()\n",
        "print(len(col_mis))\n",
        "col_mis"
      ],
      "metadata": {
        "colab": {
          "base_uri": "https://localhost:8080/"
        },
        "id": "YO6rWEYo6anB",
        "outputId": "62ba2d98-11ca-4025-85da-a6871f47e0f2"
      },
      "execution_count": null,
      "outputs": [
        {
          "output_type": "stream",
          "name": "stdout",
          "text": [
            "17\n"
          ]
        },
        {
          "output_type": "execute_result",
          "data": {
            "text/plain": [
              "['zipcode',\n",
              " 'number_of_chains',\n",
              " 'number_of_bookmarks',\n",
              " 'price_range',\n",
              " 'avg_price',\n",
              " 'parking',\n",
              " 'credit_card_accepted',\n",
              " 'good_for_groups',\n",
              " 'good_for_kids',\n",
              " 'bookable',\n",
              " 'best_of_wongnai',\n",
              " 'wifi',\n",
              " 'number_of_seats',\n",
              " 'music_venue',\n",
              " 'hotel_restaurant',\n",
              " 'pet_friendly',\n",
              " 'delivery']"
            ]
          },
          "metadata": {},
          "execution_count": 174
        }
      ]
    },
    {
      "cell_type": "code",
      "source": [
        "col_mis = ['zipcode',\n",
        " 'number_of_chains',\n",
        " 'number_of_bookmarks',\n",
        " #'price_range',\n",
        " #'avg_price',\n",
        " 'parking',\n",
        " 'credit_card_accepted',\n",
        " 'good_for_groups',\n",
        " 'good_for_kids',\n",
        " 'bookable',\n",
        " 'best_of_wongnai',\n",
        " 'wifi',\n",
        " 'number_of_seats',\n",
        " 'music_venue',\n",
        " 'hotel_restaurant',\n",
        " 'pet_friendly',\n",
        " 'delivery']\n",
        "\n",
        "for c in col_mis:\n",
        "  w_restaurant[c] = w_restaurant[c].fillna('ไม่ระบุ')\n",
        "\n",
        "print('*'*120)\n",
        "print(w_restaurant.isnull().any())"
      ],
      "metadata": {
        "colab": {
          "base_uri": "https://localhost:8080/"
        },
        "id": "_Y8T2JXF59xZ",
        "outputId": "a8565f6d-f8da-4b6c-e298-c05022dd6fd3"
      },
      "execution_count": null,
      "outputs": [
        {
          "output_type": "stream",
          "name": "stdout",
          "text": [
            "************************************************************************************************************************\n",
            "id                         False\n",
            "name                       False\n",
            "domain_id                  False\n",
            "closed                     False\n",
            "city_name                  False\n",
            "zipcode                    False\n",
            "geohash                    False\n",
            "new_open                   False\n",
            "weighted_average_rating    False\n",
            "number_of_chains           False\n",
            "number_of_bookmarks        False\n",
            "number_of_reviews          False\n",
            "number_of_product_tags     False\n",
            "total_number_of_views      False\n",
            "number_of_checkins         False\n",
            "number_of_menu_groups      False\n",
            "number_of_menu_photos      False\n",
            "category_name              False\n",
            "price_range                 True\n",
            "avg_price                   True\n",
            "parking                    False\n",
            "credit_card_accepted       False\n",
            "good_for_groups            False\n",
            "good_for_kids              False\n",
            "bookable                   False\n",
            "best_of_wongnai            False\n",
            "wifi                       False\n",
            "number_of_seats            False\n",
            "music_venue                False\n",
            "hotel_restaurant           False\n",
            "pet_friendly               False\n",
            "delivery                   False\n",
            "dtype: bool\n"
          ]
        }
      ]
    },
    {
      "cell_type": "markdown",
      "source": [
        "> #### **Columns ที่มี Value เป็น 0, 1** --> เปลี่ยนเป็น  \n",
        "- 0 คือ 'no'\n",
        "- 1 คือ 'yes'"
      ],
      "metadata": {
        "id": "2rfwy8u_-Ma-"
      }
    },
    {
      "cell_type": "code",
      "source": [
        "col_bol = ['credit_card_accepted', 'good_for_groups', 'good_for_kids', 'hotel_restaurant', 'bookable', 'music_venue',\n",
        "            'pet_friendly', 'delivery']\n",
        "print(f'จำนวน Columns :{len(col_bol)}')\n",
        "print('*'* 100)\n",
        "\n",
        "for c in col_bol:\n",
        "    print(w_restaurant[c].value_counts())\n",
        "    print('*'* 100)"
      ],
      "metadata": {
        "colab": {
          "base_uri": "https://localhost:8080/"
        },
        "id": "NbeDyiZI-sHq",
        "outputId": "ed3a4f8c-3802-4f4e-b591-e1daa7dd7ce5"
      },
      "execution_count": null,
      "outputs": [
        {
          "output_type": "stream",
          "name": "stdout",
          "text": [
            "จำนวน Columns :8\n",
            "****************************************************************************************************\n",
            "ไม่ระบุ    154746\n",
            "0.0         66324\n",
            "1.0         25777\n",
            "Name: credit_card_accepted, dtype: int64\n",
            "****************************************************************************************************\n",
            "ไม่ระบุ    195383\n",
            "1.0         47745\n",
            "0.0          3719\n",
            "Name: good_for_groups, dtype: int64\n",
            "****************************************************************************************************\n",
            "ไม่ระบุ    200465\n",
            "1.0         42211\n",
            "0.0          4171\n",
            "Name: good_for_kids, dtype: int64\n",
            "****************************************************************************************************\n",
            "ไม่ระบุ    236930\n",
            "1.0          5976\n",
            "0.0          3941\n",
            "Name: hotel_restaurant, dtype: int64\n",
            "****************************************************************************************************\n",
            "ไม่ระบุ    211422\n",
            "1.0         22379\n",
            "0.0         13046\n",
            "Name: bookable, dtype: int64\n",
            "****************************************************************************************************\n",
            "ไม่ระบุ    241360\n",
            "0.0          3633\n",
            "1.0          1854\n",
            "Name: music_venue, dtype: int64\n",
            "****************************************************************************************************\n",
            "ไม่ระบุ    238510\n",
            "0.0          7090\n",
            "1.0          1247\n",
            "Name: pet_friendly, dtype: int64\n",
            "****************************************************************************************************\n",
            "ไม่ระบุ    236796\n",
            "1.0          7673\n",
            "0.0          2378\n",
            "Name: delivery, dtype: int64\n",
            "****************************************************************************************************\n"
          ]
        }
      ]
    },
    {
      "cell_type": "code",
      "source": [
        "## -- 0 == 'no', 1 == 'yes'\n",
        "\n",
        "for c in col_bol:\n",
        "  for i in range(len(w_restaurant)):\n",
        "      if w_restaurant[c][i] == 0:\n",
        "        w_restaurant[c][i] = 'no'\n",
        "      elif w_restaurant[c][i] == 1:\n",
        "          w_restaurant[c][i] = 'yes'\n",
        "    \n",
        "  print(w_restaurant[c].value_counts())\n",
        "  print('*'* 100)"
      ],
      "metadata": {
        "colab": {
          "base_uri": "https://localhost:8080/"
        },
        "id": "pApMTfXI599v",
        "outputId": "413714e9-b41d-40a3-b66e-02b5a1ca450e"
      },
      "execution_count": null,
      "outputs": [
        {
          "output_type": "stream",
          "name": "stderr",
          "text": [
            "/usr/local/lib/python3.7/dist-packages/ipykernel_launcher.py:6: SettingWithCopyWarning: \n",
            "A value is trying to be set on a copy of a slice from a DataFrame\n",
            "\n",
            "See the caveats in the documentation: https://pandas.pydata.org/pandas-docs/stable/user_guide/indexing.html#returning-a-view-versus-a-copy\n",
            "  \n",
            "/usr/local/lib/python3.7/dist-packages/ipykernel_launcher.py:8: SettingWithCopyWarning: \n",
            "A value is trying to be set on a copy of a slice from a DataFrame\n",
            "\n",
            "See the caveats in the documentation: https://pandas.pydata.org/pandas-docs/stable/user_guide/indexing.html#returning-a-view-versus-a-copy\n",
            "  \n"
          ]
        },
        {
          "output_type": "stream",
          "name": "stdout",
          "text": [
            "ไม่ระบุ    154746\n",
            "no          66324\n",
            "yes         25777\n",
            "Name: credit_card_accepted, dtype: int64\n",
            "****************************************************************************************************\n",
            "ไม่ระบุ    195383\n",
            "yes         47745\n",
            "no           3719\n",
            "Name: good_for_groups, dtype: int64\n",
            "****************************************************************************************************\n",
            "ไม่ระบุ    200465\n",
            "yes         42211\n",
            "no           4171\n",
            "Name: good_for_kids, dtype: int64\n",
            "****************************************************************************************************\n",
            "ไม่ระบุ    236930\n",
            "yes          5976\n",
            "no           3941\n",
            "Name: hotel_restaurant, dtype: int64\n",
            "****************************************************************************************************\n",
            "ไม่ระบุ    211422\n",
            "yes         22379\n",
            "no          13046\n",
            "Name: bookable, dtype: int64\n",
            "****************************************************************************************************\n",
            "ไม่ระบุ    241360\n",
            "no           3633\n",
            "yes          1854\n",
            "Name: music_venue, dtype: int64\n",
            "****************************************************************************************************\n",
            "ไม่ระบุ    238510\n",
            "no           7090\n",
            "yes          1247\n",
            "Name: pet_friendly, dtype: int64\n",
            "****************************************************************************************************\n",
            "ไม่ระบุ    236796\n",
            "yes          7673\n",
            "no           2378\n",
            "Name: delivery, dtype: int64\n",
            "****************************************************************************************************\n"
          ]
        }
      ]
    },
    {
      "cell_type": "markdown",
      "source": [
        "> #### **Columns 'parking'**\n",
        "\n",
        "ที่จอดรถ\n",
        "- 0 คือ ไม่มีที่จอดรถ\n",
        "- 1 คือ จอดข้างทาง\n",
        "- 2 คือ valet\n",
        "- 3 คือ มีที่จอดรถ\n",
        "\n"
      ],
      "metadata": {
        "id": "qSspOJD9Av-d"
      }
    },
    {
      "cell_type": "code",
      "source": [
        "dict_st = {0:'ไม่มีที่จอดรถ', 1:'จอดรถข้างทาง', 2:'valet', 3:'มีที่จอดรถ' ,'ไม่ระบุ':'ไม่ระบุ'}\n",
        "\n",
        "for i in range(len(w_restaurant)):\n",
        "    parking = w_restaurant['parking'][i]\n",
        "    w_restaurant['parking'][i] = dict_st[parking]\n",
        "\n",
        "print('*'* 100)\n",
        "print(w_restaurant['parking'].value_counts())  "
      ],
      "metadata": {
        "colab": {
          "base_uri": "https://localhost:8080/"
        },
        "id": "2pSNXs5BOTWi",
        "outputId": "f89c8e1c-3626-4f1c-88fd-dce0567e6e5e"
      },
      "execution_count": null,
      "outputs": [
        {
          "output_type": "stream",
          "name": "stderr",
          "text": [
            "/usr/local/lib/python3.7/dist-packages/ipykernel_launcher.py:5: SettingWithCopyWarning: \n",
            "A value is trying to be set on a copy of a slice from a DataFrame\n",
            "\n",
            "See the caveats in the documentation: https://pandas.pydata.org/pandas-docs/stable/user_guide/indexing.html#returning-a-view-versus-a-copy\n",
            "  \"\"\"\n"
          ]
        },
        {
          "output_type": "stream",
          "name": "stdout",
          "text": [
            "****************************************************************************************************\n",
            "ไม่ระบุ          107371\n",
            "มีที่จอดรถ        74130\n",
            "จอดรถข้างทาง      49914\n",
            "ไม่มีที่จอดรถ     14444\n",
            "valet               988\n",
            "Name: parking, dtype: int64\n"
          ]
        }
      ]
    },
    {
      "cell_type": "markdown",
      "source": [
        "> #### **Columns 'best_of_wongnai'**\n",
        "\n",
        "สถานะ users' choice\n",
        "- 0 คือ ไม่เป็นร้าน users' choice\n",
        "- 2018 คือ เป็นร้าน users' choice ปี 2018\n",
        "\n",
        "\n"
      ],
      "metadata": {
        "id": "lg8WrVVZFLIp"
      }
    },
    {
      "cell_type": "code",
      "source": [
        "for i in range(len(w_restaurant)):\n",
        "    if w_restaurant['best_of_wongnai'][i] == 2018:\n",
        "       w_restaurant['best_of_wongnai'][i] = 'เป็นร้าน users choice ปี 2018'\n",
        "    elif w_restaurant['best_of_wongnai'][i] == 0:\n",
        "         w_restaurant['best_of_wongnai'][i] = 'ไม่เป็นร้าน users choice'\n",
        "\n",
        "print('*'* 100)\n",
        "print(w_restaurant['best_of_wongnai'].value_counts())"
      ],
      "metadata": {
        "colab": {
          "base_uri": "https://localhost:8080/"
        },
        "id": "9_U6_zJ8FKpX",
        "outputId": "a6047d7e-98dc-405d-a521-7e7271b88df1"
      },
      "execution_count": null,
      "outputs": [
        {
          "output_type": "stream",
          "name": "stderr",
          "text": [
            "/usr/local/lib/python3.7/dist-packages/ipykernel_launcher.py:3: SettingWithCopyWarning: \n",
            "A value is trying to be set on a copy of a slice from a DataFrame\n",
            "\n",
            "See the caveats in the documentation: https://pandas.pydata.org/pandas-docs/stable/user_guide/indexing.html#returning-a-view-versus-a-copy\n",
            "  This is separate from the ipykernel package so we can avoid doing imports until\n",
            "/usr/local/lib/python3.7/dist-packages/ipykernel_launcher.py:5: SettingWithCopyWarning: \n",
            "A value is trying to be set on a copy of a slice from a DataFrame\n",
            "\n",
            "See the caveats in the documentation: https://pandas.pydata.org/pandas-docs/stable/user_guide/indexing.html#returning-a-view-versus-a-copy\n",
            "  \"\"\"\n"
          ]
        },
        {
          "output_type": "stream",
          "name": "stdout",
          "text": [
            "****************************************************************************************************\n",
            "ไม่ระบุ                          246169\n",
            "เป็นร้าน users choice ปี 2018       595\n",
            "ไม่เป็นร้าน users choice             83\n",
            "Name: best_of_wongnai, dtype: int64\n"
          ]
        }
      ]
    },
    {
      "cell_type": "markdown",
      "source": [
        "> #### **Columns 'wifi'**\n",
        "\n",
        "การให้บริการ Wi-Fi\n",
        "- 0 คือ ไม่มี Wi-Fi บริการ\n",
        "- 1 คือ มี Wi-Fi บริการฟรี\n",
        "- 2 คือ มี Wi-Fi บริการ\n",
        "\n",
        "\n",
        "\n"
      ],
      "metadata": {
        "id": "cKB0eSUzFxTe"
      }
    },
    {
      "cell_type": "code",
      "source": [
        "dict_st = {0:'ไม่มี Wi-Fi บริการ', 1:'Wi-Fi บริการฟรี', 2:'มี Wi-Fi บริการ', 'ไม่ระบุ':'ไม่ระบุ'}\n",
        "\n",
        "for i in range(len(w_restaurant)):\n",
        "    wifi = w_restaurant['wifi'][i]\n",
        "    w_restaurant['wifi'][i] = dict_st[wifi]\n",
        "\n",
        "print('*'* 100)\n",
        "print(w_restaurant['wifi'].value_counts())  "
      ],
      "metadata": {
        "colab": {
          "base_uri": "https://localhost:8080/"
        },
        "id": "64upqpiGNxen",
        "outputId": "05daaafd-5a57-4dd3-eaf8-9a8a212f92bf"
      },
      "execution_count": null,
      "outputs": [
        {
          "output_type": "stream",
          "name": "stderr",
          "text": [
            "/usr/local/lib/python3.7/dist-packages/ipykernel_launcher.py:5: SettingWithCopyWarning: \n",
            "A value is trying to be set on a copy of a slice from a DataFrame\n",
            "\n",
            "See the caveats in the documentation: https://pandas.pydata.org/pandas-docs/stable/user_guide/indexing.html#returning-a-view-versus-a-copy\n",
            "  \"\"\"\n"
          ]
        },
        {
          "output_type": "stream",
          "name": "stdout",
          "text": [
            "****************************************************************************************************\n",
            "ไม่ระบุ               196309\n",
            "Wi-Fi บริการฟรี        29431\n",
            "ไม่มี Wi-Fi บริการ     17133\n",
            "มี Wi-Fi บริการ         3974\n",
            "Name: wifi, dtype: int64\n"
          ]
        }
      ]
    },
    {
      "cell_type": "markdown",
      "source": [
        "> #### **Columns 'number_of_seats'**\n",
        "\n",
        "การให้บริการ Wi-Fi\n",
        "จำนวนที่นั่ง\n",
        "- 0 คือ ไม่มีที่นั่ง/จัดส่งเท่านั้น\n",
        "- 1 คือ ไม่เกิน 10 ที่นั่ง\n",
        "- 2 คือ 11-40 ที่นั่ง\n",
        "- 3 คือ 41-80 ที่นั่ง\n",
        "- 4 คือ 81-150 ที่นั่ง\n",
        "- 5 คือ มากกว่า 150 ที่นั่ง\n",
        "- 11 คือ 1-10 ที่นั่ง\n",
        "- 12 คือ 11-25 ที่นั่ง\n",
        "- 13 คือ 26-50 ที่นั่ง\n",
        "- 14 คือ มากกว่า 50 ที่นั่ง\n",
        "\n",
        "\n",
        "\n",
        "\n"
      ],
      "metadata": {
        "id": "NwjxCthAGKjD"
      }
    },
    {
      "cell_type": "code",
      "source": [
        "dict_st = {0:'ไม่มีที่นั่ง/จัดส่งเท่านั้น', 1:'ไม่เกิน 10 ที่นั่ง', 2:'11-40 ที่นั่ง', 3:'41-80 ที่นั่ง', 4:' 81-150 ที่นั่ง',\n",
        "              5:' มากกว่า 150 ที่นั่ง', 11:'1-10 ที่นั่ง', 12:'11-25 ที่นั่ง', 13:'26-50 ที่นั่ง', 14: 'มากกว่า 50 ที่นั่ง', \n",
        "                'ไม่ระบุ':'ไม่ระบุ'}\n",
        "\n",
        "for i in range(len(w_restaurant)):\n",
        "    #w_restaurant['number_of_seats'][i] = dict_sr[w_restaurant['number_of_seats'][i]]\n",
        "    nofs = w_restaurant['number_of_seats'][i]\n",
        "    w_restaurant['number_of_seats'][i] = dict_st[nofs]\n",
        "\n",
        "print('*'* 100)\n",
        "print(w_restaurant['number_of_seats'].value_counts())  "
      ],
      "metadata": {
        "colab": {
          "base_uri": "https://localhost:8080/"
        },
        "id": "z1cg4WV_EB-9",
        "outputId": "d0973028-154a-4264-f0e9-e9cf8429ea4d"
      },
      "execution_count": null,
      "outputs": [
        {
          "output_type": "stream",
          "name": "stderr",
          "text": [
            "/usr/local/lib/python3.7/dist-packages/ipykernel_launcher.py:8: SettingWithCopyWarning: \n",
            "A value is trying to be set on a copy of a slice from a DataFrame\n",
            "\n",
            "See the caveats in the documentation: https://pandas.pydata.org/pandas-docs/stable/user_guide/indexing.html#returning-a-view-versus-a-copy\n",
            "  \n"
          ]
        },
        {
          "output_type": "stream",
          "name": "stdout",
          "text": [
            "****************************************************************************************************\n",
            "ไม่ระบุ                        188780\n",
            "11-40 ที่นั่ง                   29231\n",
            "41-80 ที่นั่ง                   10106\n",
            "ไม่เกิน 10 ที่นั่ง               6746\n",
            "ไม่มีที่นั่ง/จัดส่งเท่านั้น      3842\n",
            " 81-150 ที่นั่ง                  3401\n",
            " มากกว่า 150 ที่นั่ง             2172\n",
            "1-10 ที่นั่ง                     1584\n",
            "11-25 ที่นั่ง                     682\n",
            "26-50 ที่นั่ง                     193\n",
            "มากกว่า 50 ที่นั่ง                110\n",
            "Name: number_of_seats, dtype: int64\n"
          ]
        }
      ]
    },
    {
      "cell_type": "markdown",
      "source": [
        "> #### **Columns 'domain_id'**\n",
        "\n",
        "กลุ่มธุรกิจ\n",
        "- 1 คือ ร้านอาหาร\n",
        "- 2 คือ ร้านเสริมสวย\n",
        "- 3 คือ ที่พัก\n",
        "- 4 คือ สถานที่ท่องเที่ยว\n",
        "\n",
        "\n",
        "\n",
        "\n"
      ],
      "metadata": {
        "id": "Y9RRvtelSpW9"
      }
    },
    {
      "cell_type": "code",
      "source": [
        "dict_st = {1:'ร้านอาหาร', 2:'ร้านเสริมสวย', 3:'ที่พัก', 4:'สถานที่ท่องเที่ยว'}\n",
        "\n",
        "for i in range(len(w_restaurant)):\n",
        "    mid = w_restaurant['domain_id'][i]\n",
        "    w_restaurant['domain_id'][i] = dict_st[mid]\n",
        "\n",
        "print('*'* 100)\n",
        "print(w_restaurant['domain_id'].value_counts())  "
      ],
      "metadata": {
        "colab": {
          "base_uri": "https://localhost:8080/"
        },
        "id": "gP2h76vtPlJR",
        "outputId": "d62ff467-eb90-4b24-fa73-b539f69bf094"
      },
      "execution_count": null,
      "outputs": [
        {
          "output_type": "stream",
          "name": "stderr",
          "text": [
            "/usr/local/lib/python3.7/dist-packages/ipykernel_launcher.py:5: SettingWithCopyWarning: \n",
            "A value is trying to be set on a copy of a slice from a DataFrame\n",
            "\n",
            "See the caveats in the documentation: https://pandas.pydata.org/pandas-docs/stable/user_guide/indexing.html#returning-a-view-versus-a-copy\n",
            "  \"\"\"\n",
            "/usr/local/lib/python3.7/dist-packages/pandas/core/indexing.py:1732: SettingWithCopyWarning: \n",
            "A value is trying to be set on a copy of a slice from a DataFrame\n",
            "\n",
            "See the caveats in the documentation: https://pandas.pydata.org/pandas-docs/stable/user_guide/indexing.html#returning-a-view-versus-a-copy\n",
            "  self._setitem_single_block(indexer, value, name)\n"
          ]
        },
        {
          "output_type": "stream",
          "name": "stdout",
          "text": [
            "****************************************************************************************************\n",
            "ร้านอาหาร            227902\n",
            "ร้านเสริมสวย          11602\n",
            "ที่พัก                 4836\n",
            "สถานที่ท่องเที่ยว      2507\n",
            "Name: domain_id, dtype: int64\n"
          ]
        }
      ]
    },
    {
      "cell_type": "markdown",
      "source": [
        "> #### **Columns 'closed'**\n",
        "\n",
        "สถานะการให้บริการของธุรกิจ\n",
        "- 0 คือ ร้านเปิดให้บริการอยู่\n",
        "- 1 คือ ร้านปิดให้บริการแล้ว (permanently closed)\n",
        "\n",
        "\n",
        "\n",
        "\n"
      ],
      "metadata": {
        "id": "nsLbgSQeTeNe"
      }
    },
    {
      "cell_type": "code",
      "source": [
        "dict_st = {0:'เปิดให้บริการอยู่', 1:'ปิดให้บริการแล้ว (permanently closed)'}\n",
        "\n",
        "for i in range(len(w_restaurant)):\n",
        "    close = w_restaurant['closed'][i]\n",
        "    w_restaurant['closed'][i] = dict_st[close]\n",
        "\n",
        "print('*'* 100)\n",
        "print(w_restaurant['closed'].value_counts())  "
      ],
      "metadata": {
        "colab": {
          "base_uri": "https://localhost:8080/"
        },
        "id": "gVjReHJ9PlOG",
        "outputId": "a5564371-bc2a-4444-b389-95657253fcf5"
      },
      "execution_count": null,
      "outputs": [
        {
          "output_type": "stream",
          "name": "stderr",
          "text": [
            "/usr/local/lib/python3.7/dist-packages/ipykernel_launcher.py:5: SettingWithCopyWarning: \n",
            "A value is trying to be set on a copy of a slice from a DataFrame\n",
            "\n",
            "See the caveats in the documentation: https://pandas.pydata.org/pandas-docs/stable/user_guide/indexing.html#returning-a-view-versus-a-copy\n",
            "  \"\"\"\n",
            "/usr/local/lib/python3.7/dist-packages/pandas/core/indexing.py:1732: SettingWithCopyWarning: \n",
            "A value is trying to be set on a copy of a slice from a DataFrame\n",
            "\n",
            "See the caveats in the documentation: https://pandas.pydata.org/pandas-docs/stable/user_guide/indexing.html#returning-a-view-versus-a-copy\n",
            "  self._setitem_single_block(indexer, value, name)\n"
          ]
        },
        {
          "output_type": "stream",
          "name": "stdout",
          "text": [
            "****************************************************************************************************\n",
            "เปิดให้บริการอยู่                        243434\n",
            "ปิดให้บริการแล้ว (permanently closed)      3413\n",
            "Name: closed, dtype: int64\n"
          ]
        }
      ]
    },
    {
      "cell_type": "markdown",
      "source": [
        "> #### **Columns 'new_open'**\n",
        "\n",
        "สถานะเป็นร้านเปิดใหม่\n",
        "- 0 คือ ไม่เป็นร้านเปิดใหม่\n",
        "- 1 คือ เป็นร้านเปิดใหม่\n",
        "\n",
        "\n",
        "\n",
        "\n"
      ],
      "metadata": {
        "id": "YNvFiIFYUTD7"
      }
    },
    {
      "cell_type": "code",
      "source": [
        "dict_st = {0:'ไม่เป็นร้านเปิดใหม่', 1:'เป็นร้านเปิดใหม่'}\n",
        "\n",
        "for i in range(len(w_restaurant)):\n",
        "    new_open = w_restaurant['new_open'][i]\n",
        "    w_restaurant['new_open'][i] = dict_st[new_open]\n",
        "\n",
        "print('*'* 100)\n",
        "print(w_restaurant['new_open'].value_counts())  "
      ],
      "metadata": {
        "colab": {
          "base_uri": "https://localhost:8080/"
        },
        "id": "HM0ZsewwPlRW",
        "outputId": "80dfa3b0-13b2-49b6-d6d9-cacaec9eee97"
      },
      "execution_count": null,
      "outputs": [
        {
          "output_type": "stream",
          "name": "stderr",
          "text": [
            "/usr/local/lib/python3.7/dist-packages/ipykernel_launcher.py:5: SettingWithCopyWarning: \n",
            "A value is trying to be set on a copy of a slice from a DataFrame\n",
            "\n",
            "See the caveats in the documentation: https://pandas.pydata.org/pandas-docs/stable/user_guide/indexing.html#returning-a-view-versus-a-copy\n",
            "  \"\"\"\n",
            "/usr/local/lib/python3.7/dist-packages/pandas/core/indexing.py:1732: SettingWithCopyWarning: \n",
            "A value is trying to be set on a copy of a slice from a DataFrame\n",
            "\n",
            "See the caveats in the documentation: https://pandas.pydata.org/pandas-docs/stable/user_guide/indexing.html#returning-a-view-versus-a-copy\n",
            "  self._setitem_single_block(indexer, value, name)\n"
          ]
        },
        {
          "output_type": "stream",
          "name": "stdout",
          "text": [
            "****************************************************************************************************\n",
            "ไม่เป็นร้านเปิดใหม่    235192\n",
            "เป็นร้านเปิดใหม่        11655\n",
            "Name: new_open, dtype: int64\n"
          ]
        }
      ]
    },
    {
      "cell_type": "markdown",
      "source": [
        "> #### **Columns 'avg_price'** \n",
        "- ราคาเฉลี่ย (บาท)"
      ],
      "metadata": {
        "id": "ha0_xij1UtUh"
      }
    },
    {
      "cell_type": "code",
      "source": [
        "def groupMeanValue(group):\n",
        "    w_restaurant['avg_price'] = w_restaurant['avg_price'].fillna(w_restaurant['avg_price'].mean())\n",
        "    return group"
      ],
      "metadata": {
        "id": "NsC6vZGUf6yU"
      },
      "execution_count": null,
      "outputs": []
    },
    {
      "cell_type": "code",
      "source": [
        "w_restaurant.groupby(\"city_name\").transform(groupMeanValue).inplace=True"
      ],
      "metadata": {
        "id": "TpRZ76lshBy5"
      },
      "execution_count": null,
      "outputs": []
    },
    {
      "cell_type": "code",
      "source": [
        "print(w_restaurant['avg_price'].isnull().any())"
      ],
      "metadata": {
        "colab": {
          "base_uri": "https://localhost:8080/"
        },
        "id": "1EfiME2Ygyjn",
        "outputId": "2e1cb507-c385-4df2-d595-e99f9b24af15"
      },
      "execution_count": null,
      "outputs": [
        {
          "output_type": "stream",
          "name": "stdout",
          "text": [
            "False\n"
          ]
        }
      ]
    },
    {
      "cell_type": "code",
      "source": [
        "#w_restaurant['avg_price'].tolist()"
      ],
      "metadata": {
        "id": "KzyY5d4KhlSz"
      },
      "execution_count": null,
      "outputs": []
    },
    {
      "cell_type": "code",
      "metadata": {
        "id": "xtydRYzZFOjL"
      },
      "source": [
        "# df_city = w_restaurant[['city_name', 'avg_price']]\n",
        "# df_city0 = df_city.dropna(subset=['avg_price']).reset_index(drop=True)   \n",
        "# print(df_city0.shape)\n",
        "# df_city0.head()"
      ],
      "execution_count": null,
      "outputs": []
    },
    {
      "cell_type": "code",
      "source": [
        "# lst_city = list(set(df_city0['city_name']))\n",
        "# print(len(lst_city))\n",
        "# lst_city"
      ],
      "metadata": {
        "id": "cHXJOA93WqLk"
      },
      "execution_count": null,
      "outputs": []
    },
    {
      "cell_type": "code",
      "source": [
        "# lst_mean = list()\n",
        "# for c in lst_city:\n",
        "#     city_i = df_city0[df_city0['city_name'] == c]\n",
        "#     m_city_i = city_i['avg_price'].mean()\n",
        "#     lst_mean.append(m_city_i)\n",
        "\n",
        "# print(len(lst_mean))\n",
        "# lst_mean"
      ],
      "metadata": {
        "id": "sf_IcIabWxMN"
      },
      "execution_count": null,
      "outputs": []
    },
    {
      "cell_type": "markdown",
      "source": [
        "> #### **Columns 'price_range'** \n",
        "ช่วงราคา\n",
        "- 1 คือ ต่ำกว่า 100 บาท\n",
        "- 2 คือ 101-250 บาท\n",
        "- 3 คือ 251-500 บาท\n",
        "- 4 คือ 501-1000 บาท\n",
        "- 5 คือ มากกว่า 1000 บาท\n"
      ],
      "metadata": {
        "id": "lBULTpnRjpu7"
      }
    },
    {
      "cell_type": "code",
      "source": [
        "def groupMeanValue2(group):\n",
        "    w_restaurant['price_range'] = w_restaurant['price_range'].fillna(w_restaurant['price_range'].median())\n",
        "    return group"
      ],
      "metadata": {
        "id": "1GD2Ze6sqGJb"
      },
      "execution_count": null,
      "outputs": []
    },
    {
      "cell_type": "code",
      "source": [
        "w_restaurant.groupby(\"city_name\").transform(groupMeanValue2).inplace=True"
      ],
      "metadata": {
        "id": "kkVzlR9fqVVH"
      },
      "execution_count": null,
      "outputs": []
    },
    {
      "cell_type": "code",
      "source": [
        "print(w_restaurant['price_range'].isnull().any())"
      ],
      "metadata": {
        "colab": {
          "base_uri": "https://localhost:8080/"
        },
        "id": "UhArKu2oqcLq",
        "outputId": "45341960-d212-4a47-94e2-0d32cc77644d"
      },
      "execution_count": null,
      "outputs": [
        {
          "output_type": "stream",
          "name": "stdout",
          "text": [
            "False\n"
          ]
        }
      ]
    },
    {
      "cell_type": "code",
      "source": [
        "print('*'*120)\n",
        "print(w_restaurant.isnull().any())"
      ],
      "metadata": {
        "colab": {
          "base_uri": "https://localhost:8080/"
        },
        "id": "C6xqIl64mgdS",
        "outputId": "6ce9f400-49d1-4c23-beb3-41a5205b14bc"
      },
      "execution_count": null,
      "outputs": [
        {
          "output_type": "stream",
          "name": "stdout",
          "text": [
            "************************************************************************************************************************\n",
            "id                         False\n",
            "name                       False\n",
            "domain_id                  False\n",
            "closed                     False\n",
            "city_name                  False\n",
            "zipcode                    False\n",
            "geohash                    False\n",
            "new_open                   False\n",
            "weighted_average_rating    False\n",
            "number_of_chains           False\n",
            "number_of_bookmarks        False\n",
            "number_of_reviews          False\n",
            "number_of_product_tags     False\n",
            "total_number_of_views      False\n",
            "number_of_checkins         False\n",
            "number_of_menu_groups      False\n",
            "number_of_menu_photos      False\n",
            "category_name              False\n",
            "price_range                False\n",
            "avg_price                  False\n",
            "parking                    False\n",
            "credit_card_accepted       False\n",
            "good_for_groups            False\n",
            "good_for_kids              False\n",
            "bookable                   False\n",
            "best_of_wongnai            False\n",
            "wifi                       False\n",
            "number_of_seats            False\n",
            "music_venue                False\n",
            "hotel_restaurant           False\n",
            "pet_friendly               False\n",
            "delivery                   False\n",
            "dtype: bool\n"
          ]
        }
      ]
    },
    {
      "cell_type": "markdown",
      "source": [
        "### ***search_request + search_click + w_rastaurant***"
      ],
      "metadata": {
        "id": "XxmPpIitrBDJ"
      }
    },
    {
      "cell_type": "code",
      "metadata": {
        "id": "8vXS0t6jSrjb"
      },
      "source": [
        "w_restaurant2 = w_restaurant.reset_index(drop=True)"
      ],
      "execution_count": null,
      "outputs": []
    },
    {
      "cell_type": "code",
      "metadata": {
        "id": "opweZpdBPDun"
      },
      "source": [
        "w_restaurant2.to_csv('w_restaurant_clean.csv', encoding='utf-8')"
      ],
      "execution_count": null,
      "outputs": []
    },
    {
      "cell_type": "markdown",
      "metadata": {
        "id": "E0sKma9b5ztj"
      },
      "source": [
        "### **Merge Dataframe** \n",
        "> ***search_request + (search_click + w_rastaurant)***\n",
        "\n",
        "- ใช้ business_id เป็น Key เพื่อเชื่อมตาราง\n"
      ]
    },
    {
      "cell_type": "code",
      "metadata": {
        "id": "4bC7g1fQHG4Q",
        "colab": {
          "base_uri": "https://localhost:8080/",
          "height": 612
        },
        "outputId": "c9cc9da8-5f36-4f78-a5ba-a3fea63fd01a"
      },
      "source": [
        "merged_wongnai = merged_search.merge(w_restaurant2,how='left',left_on='business_id',right_on='id')\n",
        "print(merged_wongnai.shape, '\\n')\n",
        "print('*'*120)\n",
        "merged_wongnai.head()"
      ],
      "execution_count": null,
      "outputs": [
        {
          "output_type": "stream",
          "name": "stdout",
          "text": [
            "(26778, 46) \n",
            "\n",
            "************************************************************************************************************************\n"
          ]
        },
        {
          "output_type": "execute_result",
          "data": {
            "text/plain": [
              "                              search_id         search_timestamp search_date  \\\n",
              "0  465dca62-ac52-42e9-9c7b-f28845671c64  2018-06-20 16:07:29.216  2018-06-20   \n",
              "1  4c190356-6433-43fd-89a4-bef1ec1a2c46  2018-06-01 16:26:55.143  2018-06-01   \n",
              "2  d476cba0-feef-404c-bd18-b598cca89ec9  2018-06-01 17:47:04.816  2018-06-01   \n",
              "3  d476cba0-feef-404c-bd18-b598cca89ec9  2018-06-01 17:47:04.816  2018-06-01   \n",
              "4  c7dcf523-31d4-4da9-9b00-309c68cd9125  2018-06-15 14:23:38.514  2018-06-15   \n",
              "\n",
              "                                          user_agent                q  \\\n",
              "0  Wongnai/8.17.5 (iPhone10,6; iOS; 11.4; en_TH@c...             ชานม   \n",
              "1    Wongnai/8.17.1 (iPhone9,4; iOS; 11.3.1; th_TH;)        ทิพย์โอชา   \n",
              "2    okhttp/2.5.0;WongnaiAndroid 4.4;samsung;SM-N900  เซ็นทรัลพระราม9   \n",
              "3    okhttp/2.5.0;WongnaiAndroid 4.4;samsung;SM-N900  เซ็นทรัลพระราม9   \n",
              "4  Wongnai/8.17.3 rv:8.17.3.3921 (iPhone10,5; iOS...            Tenjo   \n",
              "\n",
              "                   session_id number_of_result        lat        long  \\\n",
              "0  63aqja0qpc8aco6ls91a17nt3m               18  13.731447  100.569463   \n",
              "1  3l3tjtc4ud81cq2b48u4atpvj0               12  16.399029  101.124708   \n",
              "2  535vdnpt8t807o66p5qlv91eln               11  13.760898  100.569429   \n",
              "3  535vdnpt8t807o66p5qlv91eln               11  13.760898  100.569429   \n",
              "4   2dkim5lpb9ucrjp01qe65cniq               10  13.650411  100.683212   \n",
              "\n",
              "  click_timestamp  ...  good_for_groups  good_for_kids  bookable  \\\n",
              "0         20:34.6  ...          ไม่ระบุ        ไม่ระบุ   ไม่ระบุ   \n",
              "1         27:05.2  ...              yes            yes        no   \n",
              "2         47:08.9  ...          ไม่ระบุ        ไม่ระบุ   ไม่ระบุ   \n",
              "3         47:21.8  ...              yes            yes   ไม่ระบุ   \n",
              "4         23:46.1  ...          ไม่ระบุ        ไม่ระบุ   ไม่ระบุ   \n",
              "\n",
              "   best_of_wongnai                wifi number_of_seats music_venue  \\\n",
              "0          ไม่ระบุ  ไม่มี Wi-Fi บริการ   11-40 ที่นั่ง     ไม่ระบุ   \n",
              "1          ไม่ระบุ  ไม่มี Wi-Fi บริการ   11-40 ที่นั่ง     ไม่ระบุ   \n",
              "2          ไม่ระบุ             ไม่ระบุ         ไม่ระบุ     ไม่ระบุ   \n",
              "3          ไม่ระบุ             ไม่ระบุ         ไม่ระบุ     ไม่ระบุ   \n",
              "4          ไม่ระบุ             ไม่ระบุ         ไม่ระบุ     ไม่ระบุ   \n",
              "\n",
              "  hotel_restaurant pet_friendly delivery  \n",
              "0          ไม่ระบุ      ไม่ระบุ      yes  \n",
              "1          ไม่ระบุ      ไม่ระบุ  ไม่ระบุ  \n",
              "2          ไม่ระบุ      ไม่ระบุ  ไม่ระบุ  \n",
              "3          ไม่ระบุ      ไม่ระบุ  ไม่ระบุ  \n",
              "4          ไม่ระบุ      ไม่ระบุ  ไม่ระบุ  \n",
              "\n",
              "[5 rows x 46 columns]"
            ],
            "text/html": [
              "\n",
              "  <div id=\"df-815823ae-afb0-4e18-897e-ea2db768b95a\">\n",
              "    <div class=\"colab-df-container\">\n",
              "      <div>\n",
              "<style scoped>\n",
              "    .dataframe tbody tr th:only-of-type {\n",
              "        vertical-align: middle;\n",
              "    }\n",
              "\n",
              "    .dataframe tbody tr th {\n",
              "        vertical-align: top;\n",
              "    }\n",
              "\n",
              "    .dataframe thead th {\n",
              "        text-align: right;\n",
              "    }\n",
              "</style>\n",
              "<table border=\"1\" class=\"dataframe\">\n",
              "  <thead>\n",
              "    <tr style=\"text-align: right;\">\n",
              "      <th></th>\n",
              "      <th>search_id</th>\n",
              "      <th>search_timestamp</th>\n",
              "      <th>search_date</th>\n",
              "      <th>user_agent</th>\n",
              "      <th>q</th>\n",
              "      <th>session_id</th>\n",
              "      <th>number_of_result</th>\n",
              "      <th>lat</th>\n",
              "      <th>long</th>\n",
              "      <th>click_timestamp</th>\n",
              "      <th>...</th>\n",
              "      <th>good_for_groups</th>\n",
              "      <th>good_for_kids</th>\n",
              "      <th>bookable</th>\n",
              "      <th>best_of_wongnai</th>\n",
              "      <th>wifi</th>\n",
              "      <th>number_of_seats</th>\n",
              "      <th>music_venue</th>\n",
              "      <th>hotel_restaurant</th>\n",
              "      <th>pet_friendly</th>\n",
              "      <th>delivery</th>\n",
              "    </tr>\n",
              "  </thead>\n",
              "  <tbody>\n",
              "    <tr>\n",
              "      <th>0</th>\n",
              "      <td>465dca62-ac52-42e9-9c7b-f28845671c64</td>\n",
              "      <td>2018-06-20 16:07:29.216</td>\n",
              "      <td>2018-06-20</td>\n",
              "      <td>Wongnai/8.17.5 (iPhone10,6; iOS; 11.4; en_TH@c...</td>\n",
              "      <td>ชานม</td>\n",
              "      <td>63aqja0qpc8aco6ls91a17nt3m</td>\n",
              "      <td>18</td>\n",
              "      <td>13.731447</td>\n",
              "      <td>100.569463</td>\n",
              "      <td>20:34.6</td>\n",
              "      <td>...</td>\n",
              "      <td>ไม่ระบุ</td>\n",
              "      <td>ไม่ระบุ</td>\n",
              "      <td>ไม่ระบุ</td>\n",
              "      <td>ไม่ระบุ</td>\n",
              "      <td>ไม่มี Wi-Fi บริการ</td>\n",
              "      <td>11-40 ที่นั่ง</td>\n",
              "      <td>ไม่ระบุ</td>\n",
              "      <td>ไม่ระบุ</td>\n",
              "      <td>ไม่ระบุ</td>\n",
              "      <td>yes</td>\n",
              "    </tr>\n",
              "    <tr>\n",
              "      <th>1</th>\n",
              "      <td>4c190356-6433-43fd-89a4-bef1ec1a2c46</td>\n",
              "      <td>2018-06-01 16:26:55.143</td>\n",
              "      <td>2018-06-01</td>\n",
              "      <td>Wongnai/8.17.1 (iPhone9,4; iOS; 11.3.1; th_TH;)</td>\n",
              "      <td>ทิพย์โอชา</td>\n",
              "      <td>3l3tjtc4ud81cq2b48u4atpvj0</td>\n",
              "      <td>12</td>\n",
              "      <td>16.399029</td>\n",
              "      <td>101.124708</td>\n",
              "      <td>27:05.2</td>\n",
              "      <td>...</td>\n",
              "      <td>yes</td>\n",
              "      <td>yes</td>\n",
              "      <td>no</td>\n",
              "      <td>ไม่ระบุ</td>\n",
              "      <td>ไม่มี Wi-Fi บริการ</td>\n",
              "      <td>11-40 ที่นั่ง</td>\n",
              "      <td>ไม่ระบุ</td>\n",
              "      <td>ไม่ระบุ</td>\n",
              "      <td>ไม่ระบุ</td>\n",
              "      <td>ไม่ระบุ</td>\n",
              "    </tr>\n",
              "    <tr>\n",
              "      <th>2</th>\n",
              "      <td>d476cba0-feef-404c-bd18-b598cca89ec9</td>\n",
              "      <td>2018-06-01 17:47:04.816</td>\n",
              "      <td>2018-06-01</td>\n",
              "      <td>okhttp/2.5.0;WongnaiAndroid 4.4;samsung;SM-N900</td>\n",
              "      <td>เซ็นทรัลพระราม9</td>\n",
              "      <td>535vdnpt8t807o66p5qlv91eln</td>\n",
              "      <td>11</td>\n",
              "      <td>13.760898</td>\n",
              "      <td>100.569429</td>\n",
              "      <td>47:08.9</td>\n",
              "      <td>...</td>\n",
              "      <td>ไม่ระบุ</td>\n",
              "      <td>ไม่ระบุ</td>\n",
              "      <td>ไม่ระบุ</td>\n",
              "      <td>ไม่ระบุ</td>\n",
              "      <td>ไม่ระบุ</td>\n",
              "      <td>ไม่ระบุ</td>\n",
              "      <td>ไม่ระบุ</td>\n",
              "      <td>ไม่ระบุ</td>\n",
              "      <td>ไม่ระบุ</td>\n",
              "      <td>ไม่ระบุ</td>\n",
              "    </tr>\n",
              "    <tr>\n",
              "      <th>3</th>\n",
              "      <td>d476cba0-feef-404c-bd18-b598cca89ec9</td>\n",
              "      <td>2018-06-01 17:47:04.816</td>\n",
              "      <td>2018-06-01</td>\n",
              "      <td>okhttp/2.5.0;WongnaiAndroid 4.4;samsung;SM-N900</td>\n",
              "      <td>เซ็นทรัลพระราม9</td>\n",
              "      <td>535vdnpt8t807o66p5qlv91eln</td>\n",
              "      <td>11</td>\n",
              "      <td>13.760898</td>\n",
              "      <td>100.569429</td>\n",
              "      <td>47:21.8</td>\n",
              "      <td>...</td>\n",
              "      <td>yes</td>\n",
              "      <td>yes</td>\n",
              "      <td>ไม่ระบุ</td>\n",
              "      <td>ไม่ระบุ</td>\n",
              "      <td>ไม่ระบุ</td>\n",
              "      <td>ไม่ระบุ</td>\n",
              "      <td>ไม่ระบุ</td>\n",
              "      <td>ไม่ระบุ</td>\n",
              "      <td>ไม่ระบุ</td>\n",
              "      <td>ไม่ระบุ</td>\n",
              "    </tr>\n",
              "    <tr>\n",
              "      <th>4</th>\n",
              "      <td>c7dcf523-31d4-4da9-9b00-309c68cd9125</td>\n",
              "      <td>2018-06-15 14:23:38.514</td>\n",
              "      <td>2018-06-15</td>\n",
              "      <td>Wongnai/8.17.3 rv:8.17.3.3921 (iPhone10,5; iOS...</td>\n",
              "      <td>Tenjo</td>\n",
              "      <td>2dkim5lpb9ucrjp01qe65cniq</td>\n",
              "      <td>10</td>\n",
              "      <td>13.650411</td>\n",
              "      <td>100.683212</td>\n",
              "      <td>23:46.1</td>\n",
              "      <td>...</td>\n",
              "      <td>ไม่ระบุ</td>\n",
              "      <td>ไม่ระบุ</td>\n",
              "      <td>ไม่ระบุ</td>\n",
              "      <td>ไม่ระบุ</td>\n",
              "      <td>ไม่ระบุ</td>\n",
              "      <td>ไม่ระบุ</td>\n",
              "      <td>ไม่ระบุ</td>\n",
              "      <td>ไม่ระบุ</td>\n",
              "      <td>ไม่ระบุ</td>\n",
              "      <td>ไม่ระบุ</td>\n",
              "    </tr>\n",
              "  </tbody>\n",
              "</table>\n",
              "<p>5 rows × 46 columns</p>\n",
              "</div>\n",
              "      <button class=\"colab-df-convert\" onclick=\"convertToInteractive('df-815823ae-afb0-4e18-897e-ea2db768b95a')\"\n",
              "              title=\"Convert this dataframe to an interactive table.\"\n",
              "              style=\"display:none;\">\n",
              "        \n",
              "  <svg xmlns=\"http://www.w3.org/2000/svg\" height=\"24px\"viewBox=\"0 0 24 24\"\n",
              "       width=\"24px\">\n",
              "    <path d=\"M0 0h24v24H0V0z\" fill=\"none\"/>\n",
              "    <path d=\"M18.56 5.44l.94 2.06.94-2.06 2.06-.94-2.06-.94-.94-2.06-.94 2.06-2.06.94zm-11 1L8.5 8.5l.94-2.06 2.06-.94-2.06-.94L8.5 2.5l-.94 2.06-2.06.94zm10 10l.94 2.06.94-2.06 2.06-.94-2.06-.94-.94-2.06-.94 2.06-2.06.94z\"/><path d=\"M17.41 7.96l-1.37-1.37c-.4-.4-.92-.59-1.43-.59-.52 0-1.04.2-1.43.59L10.3 9.45l-7.72 7.72c-.78.78-.78 2.05 0 2.83L4 21.41c.39.39.9.59 1.41.59.51 0 1.02-.2 1.41-.59l7.78-7.78 2.81-2.81c.8-.78.8-2.07 0-2.86zM5.41 20L4 18.59l7.72-7.72 1.47 1.35L5.41 20z\"/>\n",
              "  </svg>\n",
              "      </button>\n",
              "      \n",
              "  <style>\n",
              "    .colab-df-container {\n",
              "      display:flex;\n",
              "      flex-wrap:wrap;\n",
              "      gap: 12px;\n",
              "    }\n",
              "\n",
              "    .colab-df-convert {\n",
              "      background-color: #E8F0FE;\n",
              "      border: none;\n",
              "      border-radius: 50%;\n",
              "      cursor: pointer;\n",
              "      display: none;\n",
              "      fill: #1967D2;\n",
              "      height: 32px;\n",
              "      padding: 0 0 0 0;\n",
              "      width: 32px;\n",
              "    }\n",
              "\n",
              "    .colab-df-convert:hover {\n",
              "      background-color: #E2EBFA;\n",
              "      box-shadow: 0px 1px 2px rgba(60, 64, 67, 0.3), 0px 1px 3px 1px rgba(60, 64, 67, 0.15);\n",
              "      fill: #174EA6;\n",
              "    }\n",
              "\n",
              "    [theme=dark] .colab-df-convert {\n",
              "      background-color: #3B4455;\n",
              "      fill: #D2E3FC;\n",
              "    }\n",
              "\n",
              "    [theme=dark] .colab-df-convert:hover {\n",
              "      background-color: #434B5C;\n",
              "      box-shadow: 0px 1px 3px 1px rgba(0, 0, 0, 0.15);\n",
              "      filter: drop-shadow(0px 1px 2px rgba(0, 0, 0, 0.3));\n",
              "      fill: #FFFFFF;\n",
              "    }\n",
              "  </style>\n",
              "\n",
              "      <script>\n",
              "        const buttonEl =\n",
              "          document.querySelector('#df-815823ae-afb0-4e18-897e-ea2db768b95a button.colab-df-convert');\n",
              "        buttonEl.style.display =\n",
              "          google.colab.kernel.accessAllowed ? 'block' : 'none';\n",
              "\n",
              "        async function convertToInteractive(key) {\n",
              "          const element = document.querySelector('#df-815823ae-afb0-4e18-897e-ea2db768b95a');\n",
              "          const dataTable =\n",
              "            await google.colab.kernel.invokeFunction('convertToInteractive',\n",
              "                                                     [key], {});\n",
              "          if (!dataTable) return;\n",
              "\n",
              "          const docLinkHtml = 'Like what you see? Visit the ' +\n",
              "            '<a target=\"_blank\" href=https://colab.research.google.com/notebooks/data_table.ipynb>data table notebook</a>'\n",
              "            + ' to learn more about interactive tables.';\n",
              "          element.innerHTML = '';\n",
              "          dataTable['output_type'] = 'display_data';\n",
              "          await google.colab.output.renderOutput(dataTable, element);\n",
              "          const docLink = document.createElement('div');\n",
              "          docLink.innerHTML = docLinkHtml;\n",
              "          element.appendChild(docLink);\n",
              "        }\n",
              "      </script>\n",
              "    </div>\n",
              "  </div>\n",
              "  "
            ]
          },
          "metadata": {},
          "execution_count": 193
        }
      ]
    },
    {
      "cell_type": "code",
      "metadata": {
        "colab": {
          "base_uri": "https://localhost:8080/"
        },
        "id": "A9x3L7KJDEBV",
        "outputId": "dab1e950-8a57-432c-c666-ddec5d7251da"
      },
      "source": [
        "merged_wongnai.isnull().any()"
      ],
      "execution_count": null,
      "outputs": [
        {
          "output_type": "execute_result",
          "data": {
            "text/plain": [
              "search_id                  False\n",
              "search_timestamp           False\n",
              "search_date                False\n",
              "user_agent                 False\n",
              "q                          False\n",
              "session_id                 False\n",
              "number_of_result           False\n",
              "lat                        False\n",
              "long                       False\n",
              "click_timestamp            False\n",
              "business_id                False\n",
              "display_position           False\n",
              "time_diff_nanos            False\n",
              "ads                        False\n",
              "id                         False\n",
              "name                       False\n",
              "domain_id                  False\n",
              "closed                     False\n",
              "city_name                  False\n",
              "zipcode                    False\n",
              "geohash                    False\n",
              "new_open                   False\n",
              "weighted_average_rating    False\n",
              "number_of_chains           False\n",
              "number_of_bookmarks        False\n",
              "number_of_reviews          False\n",
              "number_of_product_tags     False\n",
              "total_number_of_views      False\n",
              "number_of_checkins         False\n",
              "number_of_menu_groups      False\n",
              "number_of_menu_photos      False\n",
              "category_name              False\n",
              "price_range                False\n",
              "avg_price                  False\n",
              "parking                    False\n",
              "credit_card_accepted       False\n",
              "good_for_groups            False\n",
              "good_for_kids              False\n",
              "bookable                   False\n",
              "best_of_wongnai            False\n",
              "wifi                       False\n",
              "number_of_seats            False\n",
              "music_venue                False\n",
              "hotel_restaurant           False\n",
              "pet_friendly               False\n",
              "delivery                   False\n",
              "avg_price_new              False\n",
              "dtype: bool"
            ]
          },
          "metadata": {},
          "execution_count": 158
        }
      ]
    },
    {
      "cell_type": "code",
      "metadata": {
        "id": "V1im1cVsJdWJ"
      },
      "source": [
        "merged_wongnai.to_csv('df_wongnai.csv', encoding='utf-8')"
      ],
      "execution_count": null,
      "outputs": []
    },
    {
      "cell_type": "code",
      "metadata": {
        "id": "DlT9F39FU7Kx"
      },
      "source": [
        ""
      ],
      "execution_count": null,
      "outputs": []
    },
    {
      "cell_type": "code",
      "metadata": {
        "id": "v8VQrdVeU7M3"
      },
      "source": [
        ""
      ],
      "execution_count": null,
      "outputs": []
    },
    {
      "cell_type": "code",
      "metadata": {
        "id": "a0VEhYeYU7O1"
      },
      "source": [
        ""
      ],
      "execution_count": null,
      "outputs": []
    }
  ]
}
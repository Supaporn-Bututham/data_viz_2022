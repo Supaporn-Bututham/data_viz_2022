{
  "nbformat": 4,
  "nbformat_minor": 0,
  "metadata": {
    "colab": {
      "name": "Basic_Programming_Concepts.ipynb",
      "provenance": [],
      "include_colab_link": true
    },
    "kernelspec": {
      "name": "python3",
      "display_name": "Python 3"
    },
    "language_info": {
      "name": "python"
    }
  },
  "cells": [
    {
      "cell_type": "markdown",
      "metadata": {
        "id": "view-in-github",
        "colab_type": "text"
      },
      "source": [
        "<a href=\"https://colab.research.google.com/github/Supaporn-Bututham/data_viz_2022/blob/main/Basic_Programming_Concepts.ipynb\" target=\"_parent\"><img src=\"https://colab.research.google.com/assets/colab-badge.svg\" alt=\"Open In Colab\"/></a>"
      ]
    },
    {
      "cell_type": "markdown",
      "source": [
        "# Functions ($f(x) = y$)"
      ],
      "metadata": {
        "id": "vM5NEE1bDiSe"
      }
    },
    {
      "cell_type": "markdown",
      "source": [
        "```python\n",
        "def function_name(input_x):\n",
        "    # do something with input_x to get output_y\n",
        "    return output_y\n",
        "```"
      ],
      "metadata": {
        "id": "x5BwuYGxEJ5c"
      }
    },
    {
      "cell_type": "markdown",
      "source": [
        "$f_1(x)=x^2 + 75$"
      ],
      "metadata": {
        "id": "H_VO5zZeG2O5"
      }
    },
    {
      "cell_type": "code",
      "source": [
        "def function_f1(x):\n",
        "    a = x**2           #บรรทัดที่เยื้องเข้าไปจะเป็นส่วนหนึ่งของบรรทัดก่อนหน้า #ยกกำลังสองใช้ ** สองตัว\n",
        "    y = a + 75\n",
        "    return y\n",
        "\n",
        "print('done!')\n",
        "#function ที่สมบูรณ์จะต้องมีชื่อฟังชั่นก์ มี input process output"
      ],
      "metadata": {
        "colab": {
          "base_uri": "https://localhost:8080/"
        },
        "id": "5s7IW5oFEJTP",
        "outputId": "9ce9f57c-7f31-48e9-c09d-96263ec80917"
      },
      "execution_count": null,
      "outputs": [
        {
          "output_type": "stream",
          "name": "stdout",
          "text": [
            "done!\n"
          ]
        }
      ]
    },
    {
      "cell_type": "code",
      "source": [
        "function_f1(3)"
      ],
      "metadata": {
        "colab": {
          "base_uri": "https://localhost:8080/"
        },
        "id": "Hmn8kuNoLLyw",
        "outputId": "35ae6b57-4e7d-4963-dc1c-7e685c5d1813"
      },
      "execution_count": null,
      "outputs": [
        {
          "output_type": "execute_result",
          "data": {
            "text/plain": [
              "84"
            ]
          },
          "metadata": {},
          "execution_count": 2
        }
      ]
    },
    {
      "cell_type": "markdown",
      "source": [
        "function มีส่วนสำคัญทั้งหมด 4 ส่วน\n",
        "\n",
        "1. บอก python ว่าเราจะเขียนฟังก์ชั่น ชื่ออะไร  `def function_name()`: (ขาดไม่ได้)\n",
        "2. กำหนดตัวแปรที่จะเป็น input  _Input_ (ขาดได้)\n",
        "3. ส่วนประมวลผล do_something with _Input_ to get _Output_ (ขาดไม่ได้)\n",
        "4. ส่วน output `return` _Output_(ขาดได้)"
      ],
      "metadata": {
        "id": "LZJaTVgjLPQ5"
      }
    },
    {
      "cell_type": "markdown",
      "source": [
        "### ตัวอย่าง function ที่มีส่วนประกอบครบ\n"
      ],
      "metadata": {
        "id": "IBhlie98LTpa"
      }
    },
    {
      "cell_type": "code",
      "source": [
        "def function_f1(x):\n",
        "    a = x**2           #บรรทัดที่เยื้องเข้าไปจะเป็นส่วนหนึ่งของบรรทัดก่อนหน้า #ยกกำลังสองใช้ ** สองตัว\n",
        "    y = a + 75\n",
        "    return y"
      ],
      "metadata": {
        "id": "ykREIhLbLVt0"
      },
      "execution_count": null,
      "outputs": []
    },
    {
      "cell_type": "markdown",
      "source": [
        "### ตัวอย่าง function ที่ ไม่มี input"
      ],
      "metadata": {
        "id": "kimTlxfKLX-i"
      }
    },
    {
      "cell_type": "code",
      "source": [
        "def pi_v():\n",
        "    y = 3.14159265359\n",
        "    return y"
      ],
      "metadata": {
        "id": "NVJVmlOwLY0Z"
      },
      "execution_count": null,
      "outputs": []
    },
    {
      "cell_type": "code",
      "source": [
        "piv = pi_v()\n",
        "circle_area_r2 = piv*(2**2)\n",
        "print(circle_area_r2) "
      ],
      "metadata": {
        "colab": {
          "base_uri": "https://localhost:8080/"
        },
        "id": "euY6oWDgLdAL",
        "outputId": "31a47fc5-edd4-4c21-f861-5a50a9e17015"
      },
      "execution_count": null,
      "outputs": [
        {
          "output_type": "stream",
          "name": "stdout",
          "text": [
            "12.56637061436\n"
          ]
        }
      ]
    },
    {
      "cell_type": "markdown",
      "source": [
        "### Function ไม่มี process ไม่ได้"
      ],
      "metadata": {
        "id": "GUsOCiNeLfXW"
      }
    },
    {
      "cell_type": "code",
      "source": [
        "def function_a():      # Function ไม่มี process ไม่ได้ โดยจะรันไม่ได้"
      ],
      "metadata": {
        "colab": {
          "base_uri": "https://localhost:8080/",
          "height": 132
        },
        "id": "sBk5-9OCLf4u",
        "outputId": "e0907fd1-df07-4e88-9f0d-ddd501fc85e6"
      },
      "execution_count": null,
      "outputs": [
        {
          "output_type": "error",
          "ename": "SyntaxError",
          "evalue": "ignored",
          "traceback": [
            "\u001b[0;36m  File \u001b[0;32m\"<ipython-input-6-07a0750214a8>\"\u001b[0;36m, line \u001b[0;32m1\u001b[0m\n\u001b[0;31m    def function_a():\u001b[0m\n\u001b[0m                     ^\u001b[0m\n\u001b[0;31mSyntaxError\u001b[0m\u001b[0;31m:\u001b[0m unexpected EOF while parsing\n"
          ]
        }
      ]
    },
    {
      "cell_type": "markdown",
      "source": [
        "ตัวอย่าง Function ที่ไม่มี output"
      ],
      "metadata": {
        "id": "jzd2u-PjLoQw"
      }
    },
    {
      "cell_type": "code",
      "source": [
        "def print_name_id(name,id):\n",
        "    print(f'ชื่อ {name} รหัสประจำตัว {id}')"
      ],
      "metadata": {
        "id": "9FzBCkTOLrCP"
      },
      "execution_count": null,
      "outputs": []
    },
    {
      "cell_type": "code",
      "source": [
        "print_name_id('จิราพร','623020762-6')"
      ],
      "metadata": {
        "colab": {
          "base_uri": "https://localhost:8080/"
        },
        "id": "yq2sY3deLuPq",
        "outputId": "a9dcf7e8-628c-43ee-f64a-c83f19768f11"
      },
      "execution_count": null,
      "outputs": [
        {
          "output_type": "stream",
          "name": "stdout",
          "text": [
            "ชื่อ จิราพร รหัสประจำตัว 623020762-6\n"
          ]
        }
      ]
    },
    {
      "cell_type": "code",
      "source": [
        "a = print_name_id('จิราพร','623020762-6')"
      ],
      "metadata": {
        "colab": {
          "base_uri": "https://localhost:8080/"
        },
        "id": "ZX9W0XFNL2FC",
        "outputId": "ea873ffb-22c7-4b5c-b43f-94d92b85fef2"
      },
      "execution_count": null,
      "outputs": [
        {
          "output_type": "stream",
          "name": "stdout",
          "text": [
            "ชื่อ จิราพร รหัสประจำตัว 623020762-6\n"
          ]
        }
      ]
    },
    {
      "cell_type": "code",
      "source": [
        "a"
      ],
      "metadata": {
        "id": "xb9n2qa2L5Zc"
      },
      "execution_count": null,
      "outputs": []
    },
    {
      "cell_type": "markdown",
      "source": [
        "ตัวอย่าง function `print` https://www.programiz.com/python-programming/methods/built-in/print"
      ],
      "metadata": {
        "id": "x-uuZR6vPL_M"
      }
    },
    {
      "cell_type": "markdown",
      "source": [
        "![image.png](data:image/png;base64,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)"
      ],
      "metadata": {
        "id": "15AGKq3YS0l5"
      }
    },
    {
      "cell_type": "code",
      "source": [
        "print('จิราพร')\n",
        "print('623020762-6')"
      ],
      "metadata": {
        "colab": {
          "base_uri": "https://localhost:8080/"
        },
        "id": "9PgK7PHQPLo1",
        "outputId": "4279c589-c680-4355-91ac-a4c6447cd4f9"
      },
      "execution_count": null,
      "outputs": [
        {
          "output_type": "stream",
          "name": "stdout",
          "text": [
            "จิราพร\n",
            "623020762-6\n"
          ]
        }
      ]
    },
    {
      "cell_type": "code",
      "source": [
        "print('จิราพร',end='->')\n",
        "print('623020762-6')"
      ],
      "metadata": {
        "colab": {
          "base_uri": "https://localhost:8080/"
        },
        "id": "t6cWzGN1THkd",
        "outputId": "50fd3da5-7bd4-4b9c-c3e5-65c6c351f2b6"
      },
      "execution_count": null,
      "outputs": [
        {
          "output_type": "stream",
          "name": "stdout",
          "text": [
            "จิราพร->623020762-6\n"
          ]
        }
      ]
    },
    {
      "cell_type": "code",
      "source": [
        "print('จิราพร','623020762-6')"
      ],
      "metadata": {
        "colab": {
          "base_uri": "https://localhost:8080/"
        },
        "id": "ln_IQNn7Uwdw",
        "outputId": "3d8df449-58e5-4658-faec-d13312fb3a0d"
      },
      "execution_count": null,
      "outputs": [
        {
          "output_type": "stream",
          "name": "stdout",
          "text": [
            "จิราพร 623020762-6\n"
          ]
        }
      ]
    },
    {
      "cell_type": "code",
      "source": [
        "print('จิราพร','623020762-6',sep=' & ')"
      ],
      "metadata": {
        "colab": {
          "base_uri": "https://localhost:8080/"
        },
        "id": "SIGa50jaU2Pe",
        "outputId": "31ca2f9b-b780-4139-dae2-6ce806991bec"
      },
      "execution_count": null,
      "outputs": [
        {
          "output_type": "stream",
          "name": "stdout",
          "text": [
            "จิราพร & 623020762-6\n"
          ]
        }
      ]
    },
    {
      "cell_type": "markdown",
      "source": [
        "## input ของ function แบ่งเป็น 2 ชนิด (จำเป็นต้องใส่ กับ ไม่จำเป็นต้องใส่)"
      ],
      "metadata": {
        "id": "VTYoUh3hU8Ks"
      }
    },
    {
      "cell_type": "markdown",
      "source": [
        "ตัวอย่าง function `print_grade()` มี input 3 ตัว จำเป็นต้องใส่ 2 ตัว คือ name กับ id และไม่จำเป็นต้องใส่ 1 ตัว คือเกรด ซึ่งมีค่า default เป็น F"
      ],
      "metadata": {
        "id": "Idub7a5qVCLX"
      }
    },
    {
      "cell_type": "code",
      "source": [
        "def print_grade(name,id,grade = 'F'):      #กำหนดเกรดให้เป็น F ถ้าเราไม่กำหนดเกรดจะรันออกมาเป็น F\n",
        "    print(f'รหัสประจำตัว {id} ชื่อ {name}')\n",
        "    print(f'ได้เกรด {grade}')"
      ],
      "metadata": {
        "id": "7y1C8AWyVE0J"
      },
      "execution_count": null,
      "outputs": []
    },
    {
      "cell_type": "code",
      "source": [
        "print_grade('นางสาวจิราพร กลบรัตน์','623020762-6')    #กำหนดเกรดให้เป็น F ถ้าเราไม่กำหนดเกรดจะรันออกมาเป็น F"
      ],
      "metadata": {
        "colab": {
          "base_uri": "https://localhost:8080/"
        },
        "id": "HrPAKyHOVG8K",
        "outputId": "e3bfe540-3f43-4ee7-a7af-f57b36858d10"
      },
      "execution_count": null,
      "outputs": [
        {
          "output_type": "stream",
          "name": "stdout",
          "text": [
            "รหัสประจำตัว 623020762-6 ชื่อ นางสาวจิราพร กลบรัตน์\n",
            "ได้เกรด F\n"
          ]
        }
      ]
    },
    {
      "cell_type": "code",
      "source": [
        "print_grade('นางสาวจิราพร กลบรัตน์','623020762-6','A')    #กำหนดเกรดให้เป็น A"
      ],
      "metadata": {
        "colab": {
          "base_uri": "https://localhost:8080/"
        },
        "id": "X3vTaOSkVPT1",
        "outputId": "66cfda47-d1e8-462e-ec74-fa009c24602a"
      },
      "execution_count": null,
      "outputs": [
        {
          "output_type": "stream",
          "name": "stdout",
          "text": [
            "รหัสประจำตัว 623020762-6 ชื่อ นางสาวจิราพร กลบรัตน์\n",
            "ได้เกรด A\n"
          ]
        }
      ]
    },
    {
      "cell_type": "code",
      "source": [
        "print_grade(id='นางสาวจิราพร กลบรัตน์',name='623020762-6',grade='B+')    #กำหนดตัวแปลตามด้วยสิ่งที่จะแสดงผล"
      ],
      "metadata": {
        "colab": {
          "base_uri": "https://localhost:8080/"
        },
        "id": "bsYqQF21VUlG",
        "outputId": "bfe763fe-5b69-4a44-8d23-dcd0d402f30d"
      },
      "execution_count": null,
      "outputs": [
        {
          "output_type": "stream",
          "name": "stdout",
          "text": [
            "รหัสประจำตัว นางสาวจิราพร กลบรัตน์ ชื่อ 623020762-6\n",
            "ได้เกรด B+\n"
          ]
        }
      ]
    },
    {
      "cell_type": "markdown",
      "source": [
        "# Looping (for)"
      ],
      "metadata": {
        "id": "4XHh85YsDnoK"
      }
    },
    {
      "cell_type": "markdown",
      "source": [
        "```python\n",
        "for member in listEx:\n",
        "    do_something()\n",
        "```"
      ],
      "metadata": {
        "id": "vYKR2Tv2TZPO"
      }
    },
    {
      "cell_type": "code",
      "source": [
        "for member in [1,2,3,4,5,6]:\n",
        "    print(member)"
      ],
      "metadata": {
        "colab": {
          "base_uri": "https://localhost:8080/"
        },
        "id": "tFBbmOSHT9A1",
        "outputId": "b7383bbe-22ca-41d0-e921-b6b8b1671d66"
      },
      "execution_count": null,
      "outputs": [
        {
          "output_type": "stream",
          "name": "stdout",
          "text": [
            "1\n",
            "2\n",
            "3\n",
            "4\n",
            "5\n",
            "6\n"
          ]
        }
      ]
    },
    {
      "cell_type": "code",
      "source": [
        "def print_name(name):\n",
        "    print(f'ฉันชื่อ {name}')"
      ],
      "metadata": {
        "id": "L_8tWx36U3pH"
      },
      "execution_count": null,
      "outputs": []
    },
    {
      "cell_type": "code",
      "source": [
        "for name in ['วัชราภรณ์', 'จุฑากาญจน์', 'ชลธิชา', 'ญาดา', 'กิตติคุณ']:\n",
        "    N = name\n",
        "    print_name(N)"
      ],
      "metadata": {
        "colab": {
          "base_uri": "https://localhost:8080/"
        },
        "id": "qFJOSz2fVIV7",
        "outputId": "da68be6c-ae0c-4442-debc-ce792fdfd0e1"
      },
      "execution_count": null,
      "outputs": [
        {
          "output_type": "stream",
          "name": "stdout",
          "text": [
            "ฉันชื่อ วัชราภรณ์\n",
            "ฉันชื่อ จุฑากาญจน์\n",
            "ฉันชื่อ ชลธิชา\n",
            "ฉันชื่อ ญาดา\n",
            "ฉันชื่อ กิตติคุณ\n"
          ]
        }
      ]
    },
    {
      "cell_type": "code",
      "source": [
        "list_name_id_grade = [['นางสาวเบญญาภา ระภูเขียว', '623020527-6', 'B'], \n",
        "                      ['นางสาวทักษิณา ราชหุ่น', '623021000-1', 'A'],\n",
        "                      ['นางสาวปลายฟ้า คำเพ็ง', '623021005-1', 'C']]"
      ],
      "metadata": {
        "id": "voSiLgemWXK2"
      },
      "execution_count": null,
      "outputs": []
    },
    {
      "cell_type": "code",
      "source": [
        "for each in list_name_id_grade:\n",
        "    name = each[0]\n",
        "    id = each[1]\n",
        "    grade = each[2]\n",
        "    print_grade(name,id,grade)"
      ],
      "metadata": {
        "colab": {
          "base_uri": "https://localhost:8080/"
        },
        "id": "F70LL4FZXcYf",
        "outputId": "323deeb3-f971-4f8e-ac68-620b3741e0de"
      },
      "execution_count": null,
      "outputs": [
        {
          "output_type": "stream",
          "name": "stdout",
          "text": [
            "รหัสประจำตัว 623020527-6 ชื่อ นางสาวเบญญาภา ระภูเขียว\n",
            "ได้เกรด B\n",
            "รหัสประจำตัว 623021000-1 ชื่อ นางสาวทักษิณา ราชหุ่น\n",
            "ได้เกรด A\n",
            "รหัสประจำตัว 623021005-1 ชื่อ นางสาวปลายฟ้า คำเพ็ง\n",
            "ได้เกรด C\n"
          ]
        }
      ]
    },
    {
      "cell_type": "code",
      "source": [
        "for each in list_name_id_grade:\n",
        "    name = each[0]\n",
        "    id = each[1]\n",
        "    grade = each[2]\n",
        "    print_grade(name,id,grade)\n",
        "    print('--------------------')"
      ],
      "metadata": {
        "colab": {
          "base_uri": "https://localhost:8080/"
        },
        "id": "OqxIc_EfX2ng",
        "outputId": "d6444360-db2e-46cc-860d-0b3819188bcd"
      },
      "execution_count": null,
      "outputs": [
        {
          "output_type": "stream",
          "name": "stdout",
          "text": [
            "รหัสประจำตัว 623020527-6 ชื่อ นางสาวเบญญาภา ระภูเขียว\n",
            "ได้เกรด B\n",
            "--------------------\n",
            "รหัสประจำตัว 623021000-1 ชื่อ นางสาวทักษิณา ราชหุ่น\n",
            "ได้เกรด A\n",
            "--------------------\n",
            "รหัสประจำตัว 623021005-1 ชื่อ นางสาวปลายฟ้า คำเพ็ง\n",
            "ได้เกรด C\n",
            "--------------------\n"
          ]
        }
      ]
    },
    {
      "cell_type": "markdown",
      "source": [
        "## ใช้ for loop เพิ่มสมาชิกใน list"
      ],
      "metadata": {
        "id": "PMqXuq6rYWPo"
      }
    },
    {
      "cell_type": "code",
      "source": [
        "list_name = []\n",
        "list_id = []\n",
        "list_grade = []\n",
        "for each in list_name_id_grade:\n",
        "    list_name.append(each[0])\n",
        "    list_id.append(each[1])\n",
        "    list_grade.append(each[2])"
      ],
      "metadata": {
        "id": "JEQp5mWgYeqL"
      },
      "execution_count": null,
      "outputs": []
    },
    {
      "cell_type": "code",
      "source": [
        "list_name"
      ],
      "metadata": {
        "colab": {
          "base_uri": "https://localhost:8080/"
        },
        "id": "D6qG8sWvZsvH",
        "outputId": "87226d79-9446-4197-8358-92f34622ac05"
      },
      "execution_count": null,
      "outputs": [
        {
          "output_type": "execute_result",
          "data": {
            "text/plain": [
              "['นางสาวเบญญาภา ระภูเขียว', 'นางสาวทักษิณา ราชหุ่น', 'นางสาวปลายฟ้า คำเพ็ง']"
            ]
          },
          "metadata": {},
          "execution_count": 10
        }
      ]
    },
    {
      "cell_type": "markdown",
      "source": [
        "## การวนลูปด้วย `range()`"
      ],
      "metadata": {
        "id": "5DxtT55ObYUo"
      }
    },
    {
      "cell_type": "code",
      "source": [
        "for i in range(100):\n",
        "    print('งง', end = ' ')"
      ],
      "metadata": {
        "colab": {
          "base_uri": "https://localhost:8080/"
        },
        "id": "dH8urfscbUf9",
        "outputId": "76adcf20-67d5-4111-b642-52bbeda97aa0"
      },
      "execution_count": null,
      "outputs": [
        {
          "output_type": "stream",
          "name": "stdout",
          "text": [
            "งง งง งง งง งง งง งง งง งง งง งง งง งง งง งง งง งง งง งง งง งง งง งง งง งง งง งง งง งง งง งง งง งง งง งง งง งง งง งง งง งง งง งง งง งง งง งง งง งง งง งง งง งง งง งง งง งง งง งง งง งง งง งง งง งง งง งง งง งง งง งง งง งง งง งง งง งง งง งง งง งง งง งง งง งง งง งง งง งง งง งง งง งง งง งง งง งง งง งง งง "
          ]
        }
      ]
    },
    {
      "cell_type": "markdown",
      "source": [
        "## Loop ซ้อน Loop"
      ],
      "metadata": {
        "id": "5dCYb7ipcidB"
      }
    },
    {
      "cell_type": "code",
      "source": [
        "for mem1 in range(2,5):             #[2,3,4]    #แม่สูตรคูณ\n",
        "    print(f'now mem1 = {mem1}')\n",
        "    for mem2 in range(1,13):       #[1,2,3,4,5,6,7,8,9,10,11,12]\n",
        "        print(f'{mem1} x {mem2} = {mem1*mem2}')\n",
        "    print('end inner')"
      ],
      "metadata": {
        "id": "wtq_Pgoecnqc",
        "outputId": "dcec29a3-88cb-40ba-f4a6-2cf7c7f26a5e",
        "colab": {
          "base_uri": "https://localhost:8080/"
        }
      },
      "execution_count": null,
      "outputs": [
        {
          "output_type": "stream",
          "name": "stdout",
          "text": [
            "now mem1 = 2\n",
            "2 x 1 = 2\n",
            "2 x 2 = 4\n",
            "2 x 3 = 6\n",
            "2 x 4 = 8\n",
            "2 x 5 = 10\n",
            "2 x 6 = 12\n",
            "2 x 7 = 14\n",
            "2 x 8 = 16\n",
            "2 x 9 = 18\n",
            "2 x 10 = 20\n",
            "2 x 11 = 22\n",
            "2 x 12 = 24\n",
            "end inner\n",
            "now mem1 = 3\n",
            "3 x 1 = 3\n",
            "3 x 2 = 6\n",
            "3 x 3 = 9\n",
            "3 x 4 = 12\n",
            "3 x 5 = 15\n",
            "3 x 6 = 18\n",
            "3 x 7 = 21\n",
            "3 x 8 = 24\n",
            "3 x 9 = 27\n",
            "3 x 10 = 30\n",
            "3 x 11 = 33\n",
            "3 x 12 = 36\n",
            "end inner\n",
            "now mem1 = 4\n",
            "4 x 1 = 4\n",
            "4 x 2 = 8\n",
            "4 x 3 = 12\n",
            "4 x 4 = 16\n",
            "4 x 5 = 20\n",
            "4 x 6 = 24\n",
            "4 x 7 = 28\n",
            "4 x 8 = 32\n",
            "4 x 9 = 36\n",
            "4 x 10 = 40\n",
            "4 x 11 = 44\n",
            "4 x 12 = 48\n",
            "end inner\n"
          ]
        }
      ]
    },
    {
      "cell_type": "code",
      "source": [
        "for mem1 in range(2,5):             #[2,3,4]    #แม่สูตรคูณ\n",
        "    print(f'now mem1 = {mem1}')\n",
        "    for mem2 in range(1,13):       #[1,2,3,4,5,6,7,8,9,10,11,12]\n",
        "        print(f'{mem1} x {mem2} = {mem1*mem2}')\n",
        "    print(f'end inner for men1 = {mem1}')"
      ],
      "metadata": {
        "id": "qCW6wl6qdi4M",
        "outputId": "9220e5aa-ed5a-444a-c21e-adae409e69fa",
        "colab": {
          "base_uri": "https://localhost:8080/"
        }
      },
      "execution_count": null,
      "outputs": [
        {
          "output_type": "stream",
          "name": "stdout",
          "text": [
            "now mem1 = 2\n",
            "2 x 1 = 2\n",
            "2 x 2 = 4\n",
            "2 x 3 = 6\n",
            "2 x 4 = 8\n",
            "2 x 5 = 10\n",
            "2 x 6 = 12\n",
            "2 x 7 = 14\n",
            "2 x 8 = 16\n",
            "2 x 9 = 18\n",
            "2 x 10 = 20\n",
            "2 x 11 = 22\n",
            "2 x 12 = 24\n",
            "end inner for men1 = 2\n",
            "now mem1 = 3\n",
            "3 x 1 = 3\n",
            "3 x 2 = 6\n",
            "3 x 3 = 9\n",
            "3 x 4 = 12\n",
            "3 x 5 = 15\n",
            "3 x 6 = 18\n",
            "3 x 7 = 21\n",
            "3 x 8 = 24\n",
            "3 x 9 = 27\n",
            "3 x 10 = 30\n",
            "3 x 11 = 33\n",
            "3 x 12 = 36\n",
            "end inner for men1 = 3\n",
            "now mem1 = 4\n",
            "4 x 1 = 4\n",
            "4 x 2 = 8\n",
            "4 x 3 = 12\n",
            "4 x 4 = 16\n",
            "4 x 5 = 20\n",
            "4 x 6 = 24\n",
            "4 x 7 = 28\n",
            "4 x 8 = 32\n",
            "4 x 9 = 36\n",
            "4 x 10 = 40\n",
            "4 x 11 = 44\n",
            "4 x 12 = 48\n",
            "end inner for men1 = 4\n"
          ]
        }
      ]
    },
    {
      "cell_type": "markdown",
      "source": [
        "## Loop in Function"
      ],
      "metadata": {
        "id": "Ar3kxXocf9zR"
      }
    },
    {
      "cell_type": "code",
      "source": [
        "def print_grade_loop(names,grades):\n",
        "    for n,g in zip(names,grades):\n",
        "        print(f'{n} ได้เกรด {g}')"
      ],
      "metadata": {
        "id": "okutuiJ0gPRa"
      },
      "execution_count": null,
      "outputs": []
    },
    {
      "cell_type": "code",
      "source": [
        "print_grade_loop(list_name,list_grade)"
      ],
      "metadata": {
        "id": "bwWbJF2wgsVG",
        "outputId": "1c6acf3a-9df8-4a13-c3fb-a1e220e032ba",
        "colab": {
          "base_uri": "https://localhost:8080/"
        }
      },
      "execution_count": null,
      "outputs": [
        {
          "output_type": "stream",
          "name": "stdout",
          "text": [
            "นางสาวเบญญาภา ระภูเขียว ได้เกรด B\n",
            "นางสาวทักษิณา ราชหุ่น ได้เกรด A\n",
            "นางสาวปลายฟ้า คำเพ็ง ได้เกรด C\n"
          ]
        }
      ]
    },
    {
      "cell_type": "markdown",
      "source": [
        "# Conditional Statement (if)"
      ],
      "metadata": {
        "id": "qMElB0srEGxE"
      }
    },
    {
      "cell_type": "markdown",
      "source": [
        "```python\n",
        "if condition1:\n",
        "    do_something()       ## ถ้า condition1 เป็นจริง ทำ do_something()\n",
        "elif condition2:\n",
        "    do_another_thine()  ## ถ้า condition1 ไม่เป็นจริงแต่ condition2 เป็นจริง ทำ do_another_thine()\n",
        "else:\n",
        "    do_the_last_thing()  ## ถ้าไม่มี condition ไหนเป็นจริงเลย ทำ do_the_last_thing()\n",
        "```"
      ],
      "metadata": {
        "id": "NDyYm_oBh9XC"
      }
    },
    {
      "cell_type": "code",
      "execution_count": null,
      "metadata": {
        "id": "uXkSa5jIDXHh",
        "colab": {
          "base_uri": "https://localhost:8080/"
        },
        "outputId": "776021c2-978f-4177-a6a8-ff6eb5507630"
      },
      "outputs": [
        {
          "output_type": "stream",
          "name": "stdout",
          "text": [
            "นางสาวเบญญาภา ระภูเขียว ได้เกรด A\n",
            "นางสาวทักษิณา ราชหุ่น ได้เกรด A\n",
            "นางสาวปลายฟ้า คำเพ็ง ได้เกรด F\n"
          ]
        }
      ],
      "source": [
        "for n in list_name:\n",
        "    if len(n)>20:\n",
        "        print(f'{n} ได้เกรด A')\n",
        "    else:\n",
        "        print(f'{n} ได้เกรด F')"
      ]
    },
    {
      "cell_type": "markdown",
      "source": [
        "### oprater ที่ใช้ตรวจสอบ condition\n",
        "\n",
        "==, !=, >=, <=, <, >, and, or"
      ],
      "metadata": {
        "id": "zcn1vEzIkJ3v"
      }
    },
    {
      "cell_type": "code",
      "source": [
        "10 == 20"
      ],
      "metadata": {
        "id": "TFDjgK6mkH_I",
        "outputId": "b18722f4-7e7a-4306-8a6a-975db51e6628",
        "colab": {
          "base_uri": "https://localhost:8080/"
        }
      },
      "execution_count": null,
      "outputs": [
        {
          "output_type": "execute_result",
          "data": {
            "text/plain": [
              "False"
            ]
          },
          "metadata": {},
          "execution_count": 22
        }
      ]
    },
    {
      "cell_type": "code",
      "source": [
        "a = 10 == 20      #เช็คว่า a เท่ากับ 10 == 20 หรือเปล่า ถ้าไม่จะรันออกมาเป็น false \n",
        "print(a)"
      ],
      "metadata": {
        "id": "c0SK8mIskigM",
        "outputId": "1f0e08a6-3eff-45d1-edb5-56df930f3a5a",
        "colab": {
          "base_uri": "https://localhost:8080/"
        }
      },
      "execution_count": null,
      "outputs": [
        {
          "output_type": "stream",
          "name": "stdout",
          "text": [
            "False\n"
          ]
        }
      ]
    },
    {
      "cell_type": "code",
      "source": [
        "b =15 <= 20    #ถ้าเท่าจะรันออกมาเป็น True\n",
        "print(b)"
      ],
      "metadata": {
        "id": "SwKJYy0OkoOs",
        "outputId": "226ac1b8-be4a-4ccd-af4f-3bbcf89db99f",
        "colab": {
          "base_uri": "https://localhost:8080/"
        }
      },
      "execution_count": null,
      "outputs": [
        {
          "output_type": "stream",
          "name": "stdout",
          "text": [
            "True\n"
          ]
        }
      ]
    },
    {
      "cell_type": "code",
      "source": [
        "if a:\n",
        "    print('x')"
      ],
      "metadata": {
        "id": "APMMw4Z-lF5Q"
      },
      "execution_count": null,
      "outputs": []
    },
    {
      "cell_type": "code",
      "source": [
        "if True:\n",
        "    print('x')"
      ],
      "metadata": {
        "id": "Hhfu560glTDZ",
        "outputId": "2cf36b50-8d87-4180-a6dc-9d4adef3eab6",
        "colab": {
          "base_uri": "https://localhost:8080/"
        }
      },
      "execution_count": null,
      "outputs": [
        {
          "output_type": "stream",
          "name": "stdout",
          "text": [
            "x\n"
          ]
        }
      ]
    },
    {
      "cell_type": "code",
      "source": [
        "if a and b:\n",
        "    print('x')"
      ],
      "metadata": {
        "id": "2T0j089KlaOQ"
      },
      "execution_count": null,
      "outputs": []
    },
    {
      "cell_type": "code",
      "source": [
        "if a or b:\n",
        "    print('x')"
      ],
      "metadata": {
        "id": "Mo9VuvnZlff-",
        "outputId": "82334a71-c19b-4407-9366-7677df871e36",
        "colab": {
          "base_uri": "https://localhost:8080/"
        }
      },
      "execution_count": null,
      "outputs": [
        {
          "output_type": "stream",
          "name": "stdout",
          "text": [
            "x\n"
          ]
        }
      ]
    },
    {
      "cell_type": "markdown",
      "source": [
        "# HW4\n",
        "\n",
        "เขียน function ตัดเกรด โดยที่ input เป็นคะแนน(0-100) , output เป็นเกรด (F-A) หรือ 'ไม่สามารถตัดเกรดได้'\n",
        "\n",
        "วนลูปตัดเกรด input = [1,50,65,90,101,-5,49,'ก',80]\n",
        "\n",
        "กำหนด\n",
        "\n",
        "* ถ้าคะแนนอยู่ระหว่างมากกว่าหรือเท่ากับ 0 แต่น้อยกว่า 50 จะได้เกรด F\n",
        "* ถ้าคะแนนอยู่ระหว่างมากกว่าหรือเท่ากับ 50 แต่น้อยกว่า 55 จะได้เกรด D\n",
        "* ถ้าคะแนนอยู่ระหว่างมากกว่าหรือเท่ากับ 55 แต่น้อยกว่า 60 จะได้เกรด D+\n",
        "* ถ้าคะแนนอยู่ระหว่างมากกว่าหรือเท่ากับ 60 แต่น้อยกว่า 65 จะได้เกรด C\n",
        "* ถ้าคะแนนอยู่ระหว่างมากกว่าหรือเท่ากับ 65 แต่น้อยกว่า 70 จะได้เกรด C+\n",
        "* ถ้าคะแนนอยู่ระหว่างมากกว่าหรือเท่ากับ 70 แต่น้อยกว่า 75 จะได้เกรด B\n",
        "* ถ้าคะแนนอยู่ระหว่างมากกว่าหรือเท่ากับ 75 แต่น้อยกว่า 80 จะได้เกรด B+\n",
        "* ถ้าคะแนนอยู่ระหว่างมากกว่าหรือเท่ากับ 80 จะได้เกรด A\n",
        "* ถ้าคะแนนไม่อยู่ในช่วง 0-100 ให้ return 'ไม่สามารถตัดเกรดได้'"
      ],
      "metadata": {
        "id": "U9Le2cg_luEC"
      }
    },
    {
      "cell_type": "code",
      "source": [
        "score = [1,50,65,90,101,-5,49,'ก',80]\n",
        "\n",
        "print(score)\n",
        "for i in score:\n",
        "    if type(i) == type(\"\"):\n",
        "        print (f'คะแนน {i} ไม่สามารถตัดเกรดได้')\n",
        "    else:\n",
        "        if i >= 101:\n",
        "            print(f'คะแนน {i} ไม่สามารถตัดเกรดได้')\n",
        "        elif i >= 80:\n",
        "            print(f'คะแนน {i} ได้เกรด  A')\n",
        "        elif i >= 75:   \n",
        "            print(f'คะแนน {i} ได้เกรด  B+')\n",
        "        elif i >= 70:   \n",
        "            print(f'คะแนน {i} ได้เกรด  B')\n",
        "        elif i >= 65:   \n",
        "            print(f'คะแนน {i} ได้เกรด  C+')\n",
        "        elif i >= 60:   \n",
        "            print(f'คะแนน {i} ได้เกรด  C')\n",
        "        elif i >= 55:   \n",
        "            print(f'คะแนน {i} ได้เกรด  D+')\n",
        "        elif i >= 50:   \n",
        "            print(f'คะแนน {i} ได้เกรด  D')\n",
        "        elif i >= 0:   \n",
        "            print(f'คะแนน {i} ได้เกรด  F')\n",
        "        else :   \n",
        "            print(f'คะแนน {i} ไม่สามารถตัดเกรดได้')"
      ],
      "metadata": {
        "id": "V8wavbrdloPU",
        "outputId": "d53ecb92-cd56-4555-8bad-0404757af3bb",
        "colab": {
          "base_uri": "https://localhost:8080/"
        }
      },
      "execution_count": null,
      "outputs": [
        {
          "output_type": "stream",
          "name": "stdout",
          "text": [
            "[1, 50, 65, 90, 101, -5, 49, 'ก', 80]\n",
            "คะแนน 1 ได้เกรด  F\n",
            "คะแนน 50 ได้เกรด  D\n",
            "คะแนน 65 ได้เกรด  C+\n",
            "คะแนน 90 ได้เกรด  A\n",
            "คะแนน 101 ไม่สามารถตัดเกรดได้\n",
            "คะแนน -5 ไม่สามารถตัดเกรดได้\n",
            "คะแนน 49 ได้เกรด  F\n",
            "คะแนน ก ไม่สามารถตัดเกรดได้\n",
            "คะแนน 80 ได้เกรด  A\n"
          ]
        }
      ]
    },
    {
      "cell_type": "markdown",
      "source": [
        "# เฉลย HW4"
      ],
      "metadata": {
        "id": "_L5etxxJ-8ii"
      }
    },
    {
      "cell_type": "code",
      "source": [
        "input = [1,50,65,90,101,-5,49,'ก',80]"
      ],
      "metadata": {
        "id": "l5jflct9mg3p"
      },
      "execution_count": null,
      "outputs": []
    },
    {
      "cell_type": "code",
      "source": [
        "'ก' is not int()"
      ],
      "metadata": {
        "id": "dbcQgW6M_raJ",
        "outputId": "76b48f8a-2653-4567-b959-8736208a36f1",
        "colab": {
          "base_uri": "https://localhost:8080/"
        }
      },
      "execution_count": null,
      "outputs": [
        {
          "output_type": "execute_result",
          "data": {
            "text/plain": [
              "True"
            ]
          },
          "metadata": {},
          "execution_count": 3
        }
      ]
    },
    {
      "cell_type": "code",
      "source": [
        "type('')"
      ],
      "metadata": {
        "id": "XY3b9njmAGNy",
        "outputId": "5a1f66ee-cd6b-4b03-cf80-d207c3c11793",
        "colab": {
          "base_uri": "https://localhost:8080/"
        }
      },
      "execution_count": null,
      "outputs": [
        {
          "output_type": "execute_result",
          "data": {
            "text/plain": [
              "str"
            ]
          },
          "metadata": {},
          "execution_count": 4
        }
      ]
    },
    {
      "cell_type": "code",
      "source": [
        "# เขียน function ตัดเกรด\n",
        "def grading(x):\n",
        "    if type(x) is int():\n",
        "        if x < 0:\n",
        "            y =f'คะแนน {x} ไม่สามารถตัดเกรดได้'\n",
        "        elif x < 50:\n",
        "            y = f'คะแนน {x} ได้เกรด F'\n",
        "        elif x < 55:\n",
        "            y = f'คะแนน {x} ได้เกรด D'\n",
        "        elif x < 60:\n",
        "            y = f'คะแนน {x} ได้เกรด D+'\n",
        "        elif x < 65:\n",
        "            y = f'คะแนน {x} ได้เกรด C'\n",
        "        elif x < 70:\n",
        "            y = f'คะแนน {x} ได้เกรด C+'\n",
        "        elif x < 75:\n",
        "            y = f'คะแนน {x} ได้เกรด B'\n",
        "        elif x < 80:\n",
        "            y = f'คะแนน {x} ได้เกรด B+'\n",
        "        elif x < 100:\n",
        "            y = f'คะแนน {x} ได้เกรด A'\n",
        "        else:\n",
        "            y =f'คะแนน {x} ไม่สามารถตัดเกรดได้'\n",
        "    else:\n",
        "        y =f'คะแนน {x} ไม่สามารถตัดเกรดได้'\n",
        "\n",
        "    return y"
      ],
      "metadata": {
        "id": "VeWx-Zfr_fjx"
      },
      "execution_count": null,
      "outputs": []
    },
    {
      "cell_type": "code",
      "source": [
        "type(1) is int"
      ],
      "metadata": {
        "id": "Xy6WGQldCZVJ",
        "outputId": "2e71510b-7c7f-453b-a54b-7ba99c647319",
        "colab": {
          "base_uri": "https://localhost:8080/"
        }
      },
      "execution_count": null,
      "outputs": [
        {
          "output_type": "execute_result",
          "data": {
            "text/plain": [
              "True"
            ]
          },
          "metadata": {},
          "execution_count": 14
        }
      ]
    },
    {
      "cell_type": "code",
      "source": [
        "grading(1)"
      ],
      "metadata": {
        "id": "eOJ98QM5D7lb",
        "outputId": "b245996b-7868-4689-8d57-8bde8a1be609",
        "colab": {
          "base_uri": "https://localhost:8080/",
          "height": 35
        }
      },
      "execution_count": null,
      "outputs": [
        {
          "output_type": "execute_result",
          "data": {
            "application/vnd.google.colaboratory.intrinsic+json": {
              "type": "string"
            },
            "text/plain": [
              "'คะแนน 1 ไม่สามารถตัดเกรดได้'"
            ]
          },
          "metadata": {},
          "execution_count": 15
        }
      ]
    },
    {
      "cell_type": "code",
      "source": [
        "for i in input:\n",
        "    print(grading(i))"
      ],
      "metadata": {
        "id": "PeHsFiWiHxBq",
        "outputId": "1ed8e61b-0032-4352-c8c2-a49d3de2a4a1",
        "colab": {
          "base_uri": "https://localhost:8080/"
        }
      },
      "execution_count": null,
      "outputs": [
        {
          "output_type": "stream",
          "name": "stdout",
          "text": [
            "คะแนน 1 ไม่สามารถตัดเกรดได้\n",
            "คะแนน 50 ไม่สามารถตัดเกรดได้\n",
            "คะแนน 65 ไม่สามารถตัดเกรดได้\n",
            "คะแนน 90 ไม่สามารถตัดเกรดได้\n",
            "คะแนน 101 ไม่สามารถตัดเกรดได้\n",
            "คะแนน -5 ไม่สามารถตัดเกรดได้\n",
            "คะแนน 49 ไม่สามารถตัดเกรดได้\n",
            "คะแนน ก ไม่สามารถตัดเกรดได้\n",
            "คะแนน 80 ไม่สามารถตัดเกรดได้\n"
          ]
        }
      ]
    },
    {
      "cell_type": "code",
      "source": [
        ""
      ],
      "metadata": {
        "id": "OVa1rknpH0d1"
      },
      "execution_count": null,
      "outputs": []
    }
  ]
}
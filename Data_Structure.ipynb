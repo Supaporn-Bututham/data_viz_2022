{
  "nbformat": 4,
  "nbformat_minor": 0,
  "metadata": {
    "colab": {
      "name": "Data_Structure.ipynb",
      "provenance": [],
      "collapsed_sections": [
        "skocdiEHQ6Bk",
        "pJYkdkhAYInH",
        "NmXgY3huYCdh",
        "Y0KOschnZdPi",
        "5r5E4nNmcFHg"
      ],
      "toc_visible": true,
      "include_colab_link": true
    },
    "kernelspec": {
      "name": "python3",
      "display_name": "Python 3"
    },
    "language_info": {
      "name": "python"
    }
  },
  "cells": [
    {
      "cell_type": "markdown",
      "metadata": {
        "id": "view-in-github",
        "colab_type": "text"
      },
      "source": [
        "<a href=\"https://colab.research.google.com/github/Supaporn-Bututham/data_viz_2022/blob/main/Data_Structure.ipynb\" target=\"_parent\"><img src=\"https://colab.research.google.com/assets/colab-badge.svg\" alt=\"Open In Colab\"/></a>"
      ]
    },
    {
      "cell_type": "markdown",
      "source": [
        "# Data Structure (โครงสร้างข้อมูล)\n",
        "การเก็บข้อมูลหลาย ๆ ตัวไว้ด้วยกันอย่างเป็นระเบียบ"
      ],
      "metadata": {
        "id": "pYx8QpBU54NV"
      }
    },
    {
      "cell_type": "markdown",
      "source": [
        "## ```list()```\n",
        "- เก็บอะไรก็ได้\n",
        "- ลำดับในการเก็บ มีความสำคัญ"
      ],
      "metadata": {
        "id": "P0bwB-q96b9u"
      }
    },
    {
      "cell_type": "code",
      "execution_count": null,
      "metadata": {
        "id": "biiEUcUn4xOj"
      },
      "outputs": [],
      "source": [
        "list_a = [1,2,3,4,5,6] # [ ] square brackets"
      ]
    },
    {
      "cell_type": "code",
      "source": [
        "list_a"
      ],
      "metadata": {
        "colab": {
          "base_uri": "https://localhost:8080/"
        },
        "id": "0sXfKFLP6o-V",
        "outputId": "625b5a32-95e2-4795-cc4c-4ea8b28941de"
      },
      "execution_count": null,
      "outputs": [
        {
          "output_type": "execute_result",
          "data": {
            "text/plain": [
              "[1, 2, 3, 4, 5, 6]"
            ]
          },
          "metadata": {},
          "execution_count": 96
        }
      ]
    },
    {
      "cell_type": "code",
      "source": [
        "list_b = ['ab',2,3.14,list_a] # list สามารภเก็บตัวแปร string, int, float และ list ได้"
      ],
      "metadata": {
        "id": "sRklAJc96rlL"
      },
      "execution_count": null,
      "outputs": []
    },
    {
      "cell_type": "code",
      "source": [
        "list_b"
      ],
      "metadata": {
        "colab": {
          "base_uri": "https://localhost:8080/"
        },
        "id": "kdyMt7yl7BO7",
        "outputId": "c4842e3a-1a4b-4563-87a5-909ca44bcbac"
      },
      "execution_count": null,
      "outputs": [
        {
          "output_type": "execute_result",
          "data": {
            "text/plain": [
              "['ab', 2, 3.14, [1, 2, 3, 4, 5, 6]]"
            ]
          },
          "metadata": {},
          "execution_count": 98
        }
      ]
    },
    {
      "cell_type": "markdown",
      "source": [
        "### indexing การชี้สมาชิกใน list ด้วย เลขลำดับของ list"
      ],
      "metadata": {
        "id": "kdqOOmw88LbV"
      }
    },
    {
      "cell_type": "code",
      "source": [
        "list_a[3] # เริ่มนับจาก 0,1,2,3,.... แล้วลำดับที่ 3 คือเลข 4"
      ],
      "metadata": {
        "colab": {
          "base_uri": "https://localhost:8080/"
        },
        "id": "X_nERj0K7OCi",
        "outputId": "f5a81fbc-2678-497c-f479-d68874305275"
      },
      "execution_count": null,
      "outputs": [
        {
          "output_type": "execute_result",
          "data": {
            "text/plain": [
              "4"
            ]
          },
          "metadata": {},
          "execution_count": 99
        }
      ]
    },
    {
      "cell_type": "code",
      "source": [
        "list_b[3] # ลำดับที่ 3 ของ list_b คือ list_a"
      ],
      "metadata": {
        "colab": {
          "base_uri": "https://localhost:8080/"
        },
        "id": "fvpvLdLT7qij",
        "outputId": "bfbb4ea8-7ef3-4ee7-f0c7-c90ae1462202"
      },
      "execution_count": null,
      "outputs": [
        {
          "output_type": "execute_result",
          "data": {
            "text/plain": [
              "[1, 2, 3, 4, 5, 6]"
            ]
          },
          "metadata": {},
          "execution_count": 100
        }
      ]
    },
    {
      "cell_type": "code",
      "source": [
        "list_b[3][4] # ชี้เลขใน list_a ที่อยู่ใน list_b"
      ],
      "metadata": {
        "colab": {
          "base_uri": "https://localhost:8080/"
        },
        "id": "68JxY-7k7tjo",
        "outputId": "2d5d614d-cdea-4715-acce-deed17a663b0"
      },
      "execution_count": null,
      "outputs": [
        {
          "output_type": "execute_result",
          "data": {
            "text/plain": [
              "5"
            ]
          },
          "metadata": {},
          "execution_count": 101
        }
      ]
    },
    {
      "cell_type": "code",
      "source": [
        "list_a[6] # ถ้าลำดับเกินจะเกิด error"
      ],
      "metadata": {
        "colab": {
          "base_uri": "https://localhost:8080/",
          "height": 166
        },
        "id": "0IOSyq-M79ny",
        "outputId": "c13f8910-cbc3-44ca-f1eb-24d917ed9f99"
      },
      "execution_count": null,
      "outputs": [
        {
          "output_type": "error",
          "ename": "IndexError",
          "evalue": "ignored",
          "traceback": [
            "\u001b[0;31m---------------------------------------------------------------------------\u001b[0m",
            "\u001b[0;31mIndexError\u001b[0m                                Traceback (most recent call last)",
            "\u001b[0;32m<ipython-input-102-e93e5dc8fd0a>\u001b[0m in \u001b[0;36m<module>\u001b[0;34m()\u001b[0m\n\u001b[0;32m----> 1\u001b[0;31m \u001b[0mlist_a\u001b[0m\u001b[0;34m[\u001b[0m\u001b[0;36m6\u001b[0m\u001b[0;34m]\u001b[0m \u001b[0;31m# ถ้าลำดับเกินจะเกิด error\u001b[0m\u001b[0;34m\u001b[0m\u001b[0;34m\u001b[0m\u001b[0m\n\u001b[0m",
            "\u001b[0;31mIndexError\u001b[0m: list index out of range"
          ]
        }
      ]
    },
    {
      "cell_type": "code",
      "source": [
        "list_a[-1] # index -1 คือตัวสุดท้ายของ list"
      ],
      "metadata": {
        "id": "oa-qF2368kgK",
        "colab": {
          "base_uri": "https://localhost:8080/"
        },
        "outputId": "30e9df3f-d570-4b21-e643-73d1473914f0"
      },
      "execution_count": null,
      "outputs": [
        {
          "output_type": "execute_result",
          "data": {
            "text/plain": [
              "6"
            ]
          },
          "metadata": {},
          "execution_count": 103
        }
      ]
    },
    {
      "cell_type": "code",
      "source": [
        "list_a[-4] # ตัวที่ 3 นับจากตัวสุดท้าย"
      ],
      "metadata": {
        "id": "PC0DMsvv9E8w",
        "colab": {
          "base_uri": "https://localhost:8080/"
        },
        "outputId": "54bfec0c-a1c3-4975-ee33-df4511371a2a"
      },
      "execution_count": null,
      "outputs": [
        {
          "output_type": "execute_result",
          "data": {
            "text/plain": [
              "3"
            ]
          },
          "metadata": {},
          "execution_count": 104
        }
      ]
    },
    {
      "cell_type": "markdown",
      "source": [
        "### การสร้าง `list()`"
      ],
      "metadata": {
        "id": "OITed9TT9dx1"
      }
    },
    {
      "cell_type": "code",
      "source": [
        "list_x1 = [] # แบบที่ 1\n",
        "list_x2 = list() # แบบที่ 2"
      ],
      "metadata": {
        "id": "XxKA6mc29Jfe"
      },
      "execution_count": null,
      "outputs": []
    },
    {
      "cell_type": "code",
      "source": [
        "print(list_x1)\n",
        "print(list_x2)"
      ],
      "metadata": {
        "id": "A9C3YgFU91k_",
        "colab": {
          "base_uri": "https://localhost:8080/"
        },
        "outputId": "b0ec7d1d-23cd-41b7-e84a-8c90979ade2d"
      },
      "execution_count": null,
      "outputs": [
        {
          "output_type": "stream",
          "name": "stdout",
          "text": [
            "[]\n",
            "[]\n"
          ]
        }
      ]
    },
    {
      "cell_type": "markdown",
      "source": [
        "### เพื่อสมาชิกเข้าไปใน list ด้วย `append()`"
      ],
      "metadata": {
        "id": "-GF7huo8-OLl"
      }
    },
    {
      "cell_type": "code",
      "source": [
        "list_x1.append(2) # เพิ่มเลข 2 เข้าใน list"
      ],
      "metadata": {
        "id": "uQNqU_3d-HZ4"
      },
      "execution_count": null,
      "outputs": []
    },
    {
      "cell_type": "code",
      "source": [
        "list_x1"
      ],
      "metadata": {
        "id": "4BfZhs62-nke",
        "colab": {
          "base_uri": "https://localhost:8080/"
        },
        "outputId": "c9d3d546-f640-423b-8052-e650b32712cc"
      },
      "execution_count": null,
      "outputs": [
        {
          "output_type": "execute_result",
          "data": {
            "text/plain": [
              "[2]"
            ]
          },
          "metadata": {},
          "execution_count": 108
        }
      ]
    },
    {
      "cell_type": "code",
      "source": [
        "list_x1.append(4) # เพิ่มเลข 4 เข้าไปใน list\n",
        "print(list_x1)"
      ],
      "metadata": {
        "id": "QVMtb9cU-o9X",
        "colab": {
          "base_uri": "https://localhost:8080/"
        },
        "outputId": "3c93ba0c-de3f-4c71-899d-55ab3aa24ee9"
      },
      "execution_count": null,
      "outputs": [
        {
          "output_type": "stream",
          "name": "stdout",
          "text": [
            "[2, 4]\n"
          ]
        }
      ]
    },
    {
      "cell_type": "code",
      "source": [
        "list_x1[0]"
      ],
      "metadata": {
        "id": "EVva4DDE_BNa",
        "colab": {
          "base_uri": "https://localhost:8080/"
        },
        "outputId": "9e956609-8703-4131-f11c-07ba1814234d"
      },
      "execution_count": null,
      "outputs": [
        {
          "output_type": "execute_result",
          "data": {
            "text/plain": [
              "2"
            ]
          },
          "metadata": {},
          "execution_count": 110
        }
      ]
    },
    {
      "cell_type": "code",
      "source": [
        "list_x1[-1]"
      ],
      "metadata": {
        "id": "H_NbCkv0_IRj",
        "colab": {
          "base_uri": "https://localhost:8080/"
        },
        "outputId": "41de9459-c377-420d-aa5c-20913306e21b"
      },
      "execution_count": null,
      "outputs": [
        {
          "output_type": "execute_result",
          "data": {
            "text/plain": [
              "4"
            ]
          },
          "metadata": {},
          "execution_count": 111
        }
      ]
    },
    {
      "cell_type": "code",
      "source": [
        "list_x2"
      ],
      "metadata": {
        "id": "JyolXP39_cFB",
        "colab": {
          "base_uri": "https://localhost:8080/"
        },
        "outputId": "2ade143a-be75-4a4a-c9bc-88351e0c28bb"
      },
      "execution_count": null,
      "outputs": [
        {
          "output_type": "execute_result",
          "data": {
            "text/plain": [
              "[]"
            ]
          },
          "metadata": {},
          "execution_count": 112
        }
      ]
    },
    {
      "cell_type": "code",
      "source": [
        "list_x2.append('ha')"
      ],
      "metadata": {
        "id": "sPP0mg7c_hCh"
      },
      "execution_count": null,
      "outputs": []
    },
    {
      "cell_type": "code",
      "source": [
        "list_x2"
      ],
      "metadata": {
        "id": "M9PyYtMc_kx-",
        "colab": {
          "base_uri": "https://localhost:8080/"
        },
        "outputId": "728f2c07-1be9-4e28-b6d0-62fe2bbed637"
      },
      "execution_count": null,
      "outputs": [
        {
          "output_type": "execute_result",
          "data": {
            "text/plain": [
              "['ha']"
            ]
          },
          "metadata": {},
          "execution_count": 114
        }
      ]
    },
    {
      "cell_type": "markdown",
      "source": [
        "### ลบสมาชิกจาก list"
      ],
      "metadata": {
        "id": "5Q20cX8_APFW"
      }
    },
    {
      "cell_type": "code",
      "source": [
        "list_x1.append('ha')"
      ],
      "metadata": {
        "id": "kj0YNNon_ocD"
      },
      "execution_count": null,
      "outputs": []
    },
    {
      "cell_type": "code",
      "source": [
        "list_x1 # มี ha เข้ามาใน list แล้วเราอยากลบออก ลบยังไง?"
      ],
      "metadata": {
        "id": "4JA2QknhADjW",
        "colab": {
          "base_uri": "https://localhost:8080/"
        },
        "outputId": "52b658d5-e24c-4694-cbe5-28f4b988147b"
      },
      "execution_count": null,
      "outputs": [
        {
          "output_type": "execute_result",
          "data": {
            "text/plain": [
              "[2, 4, 'ha']"
            ]
          },
          "metadata": {},
          "execution_count": 116
        }
      ]
    },
    {
      "cell_type": "code",
      "source": [
        "list_x1.pop() # ใช้คำสั่ง pop มันจะลบตัวสุดท้ายของ list ออก"
      ],
      "metadata": {
        "id": "U1Z1QvCkAL-a",
        "colab": {
          "base_uri": "https://localhost:8080/",
          "height": 35
        },
        "outputId": "3991c74a-f43c-48b0-b9e1-42d816433bef"
      },
      "execution_count": null,
      "outputs": [
        {
          "output_type": "execute_result",
          "data": {
            "application/vnd.google.colaboratory.intrinsic+json": {
              "type": "string"
            },
            "text/plain": [
              "'ha'"
            ]
          },
          "metadata": {},
          "execution_count": 117
        }
      ]
    },
    {
      "cell_type": "code",
      "source": [
        "list_x1"
      ],
      "metadata": {
        "id": "Fch-yfs6Af3L",
        "colab": {
          "base_uri": "https://localhost:8080/"
        },
        "outputId": "c6e59484-10ea-4401-97c4-83f42b2dbd92"
      },
      "execution_count": null,
      "outputs": [
        {
          "output_type": "execute_result",
          "data": {
            "text/plain": [
              "[2, 4]"
            ]
          },
          "metadata": {},
          "execution_count": 118
        }
      ]
    },
    {
      "cell_type": "code",
      "source": [
        "list_x1.pop() # ใช้คำสั่ง pop อีกครั้งมันจะลบตัวสุดท้ายออก ทำให้ ha ha หายหมด\n",
        "print(list_x1)"
      ],
      "metadata": {
        "id": "PWHUT664AiBD",
        "colab": {
          "base_uri": "https://localhost:8080/"
        },
        "outputId": "43f6d385-7d03-487c-81b0-5cdefef1c45d"
      },
      "execution_count": null,
      "outputs": [
        {
          "output_type": "stream",
          "name": "stdout",
          "text": [
            "[2]\n"
          ]
        }
      ]
    },
    {
      "cell_type": "markdown",
      "source": [
        "### `len()` ตรวจสอบจำนวนสมาชิกของ list"
      ],
      "metadata": {
        "id": "jfSoWokbCAUO"
      }
    },
    {
      "cell_type": "code",
      "source": [
        "print(list_b)\n",
        "print(len(list_b)) # นับจำนวนสมาชิกใน list_b"
      ],
      "metadata": {
        "id": "l67IhMHoAnR-",
        "colab": {
          "base_uri": "https://localhost:8080/"
        },
        "outputId": "5d9d0d10-41bb-4c82-9705-4ec042490e6e"
      },
      "execution_count": null,
      "outputs": [
        {
          "output_type": "stream",
          "name": "stdout",
          "text": [
            "['ab', 2, 3.14, [1, 2, 3, 4, 5, 6]]\n",
            "4\n"
          ]
        }
      ]
    },
    {
      "cell_type": "code",
      "source": [
        "len(list_a)"
      ],
      "metadata": {
        "id": "g14leIkACMJF",
        "colab": {
          "base_uri": "https://localhost:8080/"
        },
        "outputId": "e9c0e25b-b407-4f4a-edc8-8a462d148140"
      },
      "execution_count": null,
      "outputs": [
        {
          "output_type": "execute_result",
          "data": {
            "text/plain": [
              "6"
            ]
          },
          "metadata": {},
          "execution_count": 121
        }
      ]
    },
    {
      "cell_type": "markdown",
      "source": [
        "### String is list of characters"
      ],
      "metadata": {
        "id": "1vhqtdvqCeCf"
      }
    },
    {
      "cell_type": "code",
      "source": [
        "st_stat = 'Department of Statistics, Faculty of Science'"
      ],
      "metadata": {
        "id": "weBq28a-CS7j"
      },
      "execution_count": null,
      "outputs": []
    },
    {
      "cell_type": "code",
      "source": [
        "st_stat[10] # ตำแหน่งที่ 10 คือช่องว่างพอดี (นับจาก 0,1,2,...)"
      ],
      "metadata": {
        "id": "mwjem_SIDBAJ",
        "colab": {
          "base_uri": "https://localhost:8080/"
        },
        "outputId": "9e285432-b80c-4f64-92fe-6f51af274d53"
      },
      "execution_count": null,
      "outputs": [
        {
          "output_type": "execute_result",
          "data": {
            "application/vnd.google.colaboratory.intrinsic+json": {
              "type": "string"
            },
            "text/plain": [
              "' '"
            ]
          },
          "metadata": {},
          "execution_count": 123
        }
      ]
    },
    {
      "cell_type": "code",
      "source": [
        "len(st_stat)"
      ],
      "metadata": {
        "id": "JcpARAFpDGX3",
        "colab": {
          "base_uri": "https://localhost:8080/"
        },
        "outputId": "21d69cce-baae-4326-d57e-a92c46b622a4"
      },
      "execution_count": null,
      "outputs": [
        {
          "output_type": "execute_result",
          "data": {
            "text/plain": [
              "44"
            ]
          },
          "metadata": {},
          "execution_count": 124
        }
      ]
    },
    {
      "cell_type": "markdown",
      "source": [
        "### List Slicing `:`"
      ],
      "metadata": {
        "id": "qKYmXp3tDYcI"
      }
    },
    {
      "cell_type": "markdown",
      "source": [
        "`list [จุดเริ่มต้น (ทึบ):จุดสุดท้าย (โปร่ง)]`\n",
        "\n",
        "`list [จุดเริ่มต้น (ทึบ):จุดสุดท้าย (โปร่ง):step]`"
      ],
      "metadata": {
        "id": "pMLqc6_VEXrw"
      }
    },
    {
      "cell_type": "code",
      "source": [
        "list_a"
      ],
      "metadata": {
        "id": "fPy5P7wsDTC4",
        "colab": {
          "base_uri": "https://localhost:8080/"
        },
        "outputId": "7955a9d4-5718-4114-e21c-123e9040ee6a"
      },
      "execution_count": null,
      "outputs": [
        {
          "output_type": "execute_result",
          "data": {
            "text/plain": [
              "[1, 2, 3, 4, 5, 6]"
            ]
          },
          "metadata": {},
          "execution_count": 125
        }
      ]
    },
    {
      "cell_type": "code",
      "source": [
        "list_a[2]"
      ],
      "metadata": {
        "id": "sVugMQMBDwG-",
        "colab": {
          "base_uri": "https://localhost:8080/"
        },
        "outputId": "14a88dfd-0c3e-4a1d-a0de-b1b871799daa"
      },
      "execution_count": null,
      "outputs": [
        {
          "output_type": "execute_result",
          "data": {
            "text/plain": [
              "3"
            ]
          },
          "metadata": {},
          "execution_count": 126
        }
      ]
    },
    {
      "cell_type": "markdown",
      "source": [
        "#### `:` colon"
      ],
      "metadata": {
        "id": "zK0XvRlzG1_B"
      }
    },
    {
      "cell_type": "code",
      "source": [
        "list_a[-3:] # : colon คือ list สามตัวสุดท้ายของ list มา"
      ],
      "metadata": {
        "id": "FmsthJaXD3cW",
        "colab": {
          "base_uri": "https://localhost:8080/"
        },
        "outputId": "a660ceb7-6d4a-456f-fbe2-8d36160591d9"
      },
      "execution_count": null,
      "outputs": [
        {
          "output_type": "execute_result",
          "data": {
            "text/plain": [
              "[4, 5, 6]"
            ]
          },
          "metadata": {},
          "execution_count": 127
        }
      ]
    },
    {
      "cell_type": "code",
      "source": [
        "list_a[1:4] # เริ่มเอาตัวที่ 1 ไปถึงตัวที่ 3 (ตัวที่ 4 ไม่นับเพราะโปร่ง)"
      ],
      "metadata": {
        "id": "ePAg4g30EQ07",
        "colab": {
          "base_uri": "https://localhost:8080/"
        },
        "outputId": "1c421005-8657-4df8-cf75-266b2170acc8"
      },
      "execution_count": null,
      "outputs": [
        {
          "output_type": "execute_result",
          "data": {
            "text/plain": [
              "[2, 3, 4]"
            ]
          },
          "metadata": {},
          "execution_count": 128
        }
      ]
    },
    {
      "cell_type": "code",
      "source": [
        "list_a[:]"
      ],
      "metadata": {
        "id": "do-fHawSFte3",
        "colab": {
          "base_uri": "https://localhost:8080/"
        },
        "outputId": "ee889831-c9a0-45be-e5db-cf6f843ea061"
      },
      "execution_count": null,
      "outputs": [
        {
          "output_type": "execute_result",
          "data": {
            "text/plain": [
              "[1, 2, 3, 4, 5, 6]"
            ]
          },
          "metadata": {},
          "execution_count": 129
        }
      ]
    },
    {
      "cell_type": "markdown",
      "source": [
        "#### step"
      ],
      "metadata": {
        "id": "5KfSNPPdG5XB"
      }
    },
    {
      "cell_type": "code",
      "source": [
        "list_c = [1,2,3,4,5,6,7,8,9,10,11,12,13]"
      ],
      "metadata": {
        "id": "V0hAMMJWG0LC"
      },
      "execution_count": null,
      "outputs": []
    },
    {
      "cell_type": "code",
      "source": [
        "list_c[:10:]"
      ],
      "metadata": {
        "id": "psM9_qpIG_Su",
        "colab": {
          "base_uri": "https://localhost:8080/"
        },
        "outputId": "cbb71b09-8821-489a-b5b7-d9d507a6f9f4"
      },
      "execution_count": null,
      "outputs": [
        {
          "output_type": "execute_result",
          "data": {
            "text/plain": [
              "[1, 2, 3, 4, 5, 6, 7, 8, 9, 10]"
            ]
          },
          "metadata": {},
          "execution_count": 131
        }
      ]
    },
    {
      "cell_type": "code",
      "source": [
        "list_c[:10:2] # step = 2 คือนับทีละสอง"
      ],
      "metadata": {
        "id": "X1HweJrXHLXL",
        "colab": {
          "base_uri": "https://localhost:8080/"
        },
        "outputId": "1dc15693-d46f-4f31-84f2-4a92a2d02979"
      },
      "execution_count": null,
      "outputs": [
        {
          "output_type": "execute_result",
          "data": {
            "text/plain": [
              "[1, 3, 5, 7, 9]"
            ]
          },
          "metadata": {},
          "execution_count": 132
        }
      ]
    },
    {
      "cell_type": "code",
      "source": [
        "list_c[::-1] # step = -1 คือเริ่มจากด้านหลังทีละหนึ่ง"
      ],
      "metadata": {
        "id": "38NsVb1BHVLC",
        "colab": {
          "base_uri": "https://localhost:8080/"
        },
        "outputId": "00b85454-891f-4c80-eb6f-672f3d82eb6e"
      },
      "execution_count": null,
      "outputs": [
        {
          "output_type": "execute_result",
          "data": {
            "text/plain": [
              "[13, 12, 11, 10, 9, 8, 7, 6, 5, 4, 3, 2, 1]"
            ]
          },
          "metadata": {},
          "execution_count": 133
        }
      ]
    },
    {
      "cell_type": "markdown",
      "source": [
        "### `range()`"
      ],
      "metadata": {
        "id": "UAQGZfBcH2mo"
      }
    },
    {
      "cell_type": "code",
      "source": [
        "range(21) # รู้ว่าเริ่มที่ 0 ถึง 20"
      ],
      "metadata": {
        "id": "7YyNwn2qILp4",
        "colab": {
          "base_uri": "https://localhost:8080/"
        },
        "outputId": "cbd418c0-2b33-44fb-c26b-1b560b4a5298"
      },
      "execution_count": null,
      "outputs": [
        {
          "output_type": "execute_result",
          "data": {
            "text/plain": [
              "range(0, 21)"
            ]
          },
          "metadata": {},
          "execution_count": 134
        }
      ]
    },
    {
      "cell_type": "code",
      "source": [
        "a = list(range(21)) # สั่งให้มัน list ออกมา"
      ],
      "metadata": {
        "id": "clAQhTyJHhFa"
      },
      "execution_count": null,
      "outputs": []
    },
    {
      "cell_type": "code",
      "source": [
        "a"
      ],
      "metadata": {
        "id": "IHuBEkHzIHEl",
        "colab": {
          "base_uri": "https://localhost:8080/"
        },
        "outputId": "6eb39c4c-3843-4b3c-90d2-8467aa770f69"
      },
      "execution_count": null,
      "outputs": [
        {
          "output_type": "execute_result",
          "data": {
            "text/plain": [
              "[0, 1, 2, 3, 4, 5, 6, 7, 8, 9, 10, 11, 12, 13, 14, 15, 16, 17, 18, 19, 20]"
            ]
          },
          "metadata": {},
          "execution_count": 136
        }
      ]
    },
    {
      "cell_type": "code",
      "source": [
        "list(range(1,21)) # สามารถกำเนิดได้ว่าให้ list ตั้งแต่ไหนถึงไหน"
      ],
      "metadata": {
        "id": "eE7SShYOIHil",
        "colab": {
          "base_uri": "https://localhost:8080/"
        },
        "outputId": "dada8614-e447-4108-d15a-180f36d734d5"
      },
      "execution_count": null,
      "outputs": [
        {
          "output_type": "execute_result",
          "data": {
            "text/plain": [
              "[1, 2, 3, 4, 5, 6, 7, 8, 9, 10, 11, 12, 13, 14, 15, 16, 17, 18, 19, 20]"
            ]
          },
          "metadata": {},
          "execution_count": 137
        }
      ]
    },
    {
      "cell_type": "markdown",
      "source": [
        "## HW2"
      ],
      "metadata": {
        "id": "W2v76jyRSEq4"
      }
    },
    {
      "cell_type": "markdown",
      "source": [
        "HW2 คำนวณเวลาเป็นวินาทีของเวลาต่อไปนี้โดยใช้คำสั่ง split() ช่วย (print ออกมาให้สวยงาม)\n",
        "\n",
        "- 12:30:15\n",
        "- 13:41:07\n",
        "- 09:11:50\n",
        "- 21:30:15\n",
        "- 03:10:15"
      ],
      "metadata": {
        "id": "JfzMdZylI-y5"
      }
    },
    {
      "cell_type": "code",
      "source": [
        "# 01:02:03\n",
        "\n",
        "a = (1*60*60) + (2*60) + 3\n",
        "print(f'01:02:03 แปลงเป็นวินาที ได้ {a} วินาที')"
      ],
      "metadata": {
        "id": "_1i9HY9LIc2Z",
        "colab": {
          "base_uri": "https://localhost:8080/"
        },
        "outputId": "98c3dc03-53df-4bd9-a676-18d50d6ec36c"
      },
      "execution_count": null,
      "outputs": [
        {
          "output_type": "stream",
          "name": "stdout",
          "text": [
            "01:02:03 แปลงเป็นวินาที ได้ 3723 วินาที\n"
          ]
        }
      ]
    },
    {
      "cell_type": "code",
      "source": [
        "# 12:30:15\n",
        "\n",
        "a = (12*60*60) + (30*60) +15\n",
        "print(f'12:30:15 แปลงเป็นวินาที ได้ {a} วินาที')"
      ],
      "metadata": {
        "id": "wUEmHyhpJw9a",
        "colab": {
          "base_uri": "https://localhost:8080/"
        },
        "outputId": "59230ec1-50ea-4da6-8d8b-da051c7745c2"
      },
      "execution_count": null,
      "outputs": [
        {
          "output_type": "stream",
          "name": "stdout",
          "text": [
            "12:30:15 แปลงเป็นวินาที ได้ 45015 วินาที\n"
          ]
        }
      ]
    },
    {
      "cell_type": "code",
      "source": [
        "# 13:41:07\n",
        "\n",
        "b = (13*60*60) + (41*60) + 7\n",
        "print(f'13:41:07 แปลงเป็นวินาที ได้ {b} วินาที')"
      ],
      "metadata": {
        "id": "kj2GH3sbMMWN",
        "colab": {
          "base_uri": "https://localhost:8080/"
        },
        "outputId": "6fb6e402-5f59-48e0-c5ec-5706f09ee74b"
      },
      "execution_count": null,
      "outputs": [
        {
          "output_type": "stream",
          "name": "stdout",
          "text": [
            "13:41:07 แปลงเป็นวินาที ได้ 49267 วินาที\n"
          ]
        }
      ]
    },
    {
      "cell_type": "code",
      "source": [
        "# 09:11:50\n",
        "\n",
        "c = (9*60*60) + (11*60) + 50\n",
        "print(f'09:11:50 แปลงเป็นวินาที ได้ {c} วินาที')"
      ],
      "metadata": {
        "id": "GqMUhdeBMXSl",
        "colab": {
          "base_uri": "https://localhost:8080/"
        },
        "outputId": "955e38b6-3058-42d7-8dc7-40c1fbe6ad80"
      },
      "execution_count": null,
      "outputs": [
        {
          "output_type": "stream",
          "name": "stdout",
          "text": [
            "09:11:50 แปลงเป็นวินาที ได้ 33110 วินาที\n"
          ]
        }
      ]
    },
    {
      "cell_type": "code",
      "source": [
        "# 21:30:15\n",
        "\n",
        "d = (21*60*60) + (30*60) + 15\n",
        "print(f'21:30:15 แปลงเป็นวินาที ได้ {d} วินาที')"
      ],
      "metadata": {
        "id": "cJITeFf5MjMW",
        "colab": {
          "base_uri": "https://localhost:8080/"
        },
        "outputId": "b685beed-6bd6-41b8-8906-eae83426ce5c"
      },
      "execution_count": null,
      "outputs": [
        {
          "output_type": "stream",
          "name": "stdout",
          "text": [
            "21:30:15 แปลงเป็นวินาที ได้ 77415 วินาที\n"
          ]
        }
      ]
    },
    {
      "cell_type": "code",
      "source": [
        "# 03:10:15\n",
        "\n",
        "e = (3*60*60) + (10*60) + 15\n",
        "print(f'03:10:15 แปลงเป็นวินาที ได้ {e} วินาที')"
      ],
      "metadata": {
        "id": "JYCWAFBYMrGx",
        "colab": {
          "base_uri": "https://localhost:8080/"
        },
        "outputId": "c67b9f52-dcb3-468c-fec6-2049d36f7cd8"
      },
      "execution_count": null,
      "outputs": [
        {
          "output_type": "stream",
          "name": "stdout",
          "text": [
            "03:10:15 แปลงเป็นวินาที ได้ 11415 วินาที\n"
          ]
        }
      ]
    },
    {
      "cell_type": "markdown",
      "source": [
        "## Dictionary"
      ],
      "metadata": {
        "id": "CvLLXbOnOt0b"
      }
    },
    {
      "cell_type": "markdown",
      "source": [
        "- คล้าย list()\n",
        "- index เป็นอะไรก็ได้ ไม่จำเป็นต้องเป็นตัวเลขลำดับ\n",
        "- ลำดับไม่มีความสำคัญ"
      ],
      "metadata": {
        "id": "RbbWHmkGPcls"
      }
    },
    {
      "cell_type": "markdown",
      "source": [
        "### สร้าง Dictionary"
      ],
      "metadata": {
        "id": "skocdiEHQ6Bk"
      }
    },
    {
      "cell_type": "markdown",
      "source": [
        "### การชี้ สมาชิกใน Dictionary"
      ],
      "metadata": {
        "id": "jqxv1PN_Q_MR"
      }
    },
    {
      "cell_type": "code",
      "source": [
        "dict_a = {1 : 'Happy' , 'N' : 'New' , '2022' : 'Year'} # { } เรียกว่า culry brackets , 1 จะชี้ไปที่คำว่า happy , N จะชี้ไปที่คำว่า New , 2022 จะชี้ไปที่คำว่า Year"
      ],
      "metadata": {
        "id": "YfnVW8nEPDE7"
      },
      "execution_count": null,
      "outputs": []
    },
    {
      "cell_type": "code",
      "source": [
        "dict_a[1]"
      ],
      "metadata": {
        "id": "_JtT3lrzQa5M",
        "colab": {
          "base_uri": "https://localhost:8080/"
        },
        "outputId": "3bc3869f-f9db-425c-faaa-ccc18852d1d7"
      },
      "execution_count": null,
      "outputs": [
        {
          "output_type": "execute_result",
          "data": {
            "application/vnd.google.colaboratory.intrinsic+json": {
              "type": "string"
            },
            "text/plain": [
              "'Happy'"
            ]
          },
          "metadata": {},
          "execution_count": 145
        }
      ]
    },
    {
      "cell_type": "code",
      "source": [
        "dict_a['N']"
      ],
      "metadata": {
        "id": "ebnr-oWcQeGb",
        "colab": {
          "base_uri": "https://localhost:8080/"
        },
        "outputId": "4a016805-a894-4afe-a358-8f29e138b5fd"
      },
      "execution_count": null,
      "outputs": [
        {
          "output_type": "execute_result",
          "data": {
            "application/vnd.google.colaboratory.intrinsic+json": {
              "type": "string"
            },
            "text/plain": [
              "'New'"
            ]
          },
          "metadata": {},
          "execution_count": 146
        }
      ]
    },
    {
      "cell_type": "code",
      "source": [
        "dict_a.keys()"
      ],
      "metadata": {
        "id": "xZ1i5Mi2Qg4z",
        "colab": {
          "base_uri": "https://localhost:8080/"
        },
        "outputId": "0474077c-6a1b-4cd0-b405-f1cb80682da3"
      },
      "execution_count": null,
      "outputs": [
        {
          "output_type": "execute_result",
          "data": {
            "text/plain": [
              "dict_keys([1, 'N', '2022'])"
            ]
          },
          "metadata": {},
          "execution_count": 147
        }
      ]
    },
    {
      "cell_type": "code",
      "source": [
        "dict_a.values()"
      ],
      "metadata": {
        "id": "4b8DRmXnQtub",
        "colab": {
          "base_uri": "https://localhost:8080/"
        },
        "outputId": "f8bb4580-5fef-4477-dfa7-10c7e325628a"
      },
      "execution_count": null,
      "outputs": [
        {
          "output_type": "execute_result",
          "data": {
            "text/plain": [
              "dict_values(['Happy', 'New', 'Year'])"
            ]
          },
          "metadata": {},
          "execution_count": 148
        }
      ]
    },
    {
      "cell_type": "markdown",
      "source": [
        "### การเพิ่มสมาชิกลงไปใน Dictionary"
      ],
      "metadata": {
        "id": "folnl35_RFp0"
      }
    },
    {
      "cell_type": "code",
      "source": [
        "dict_a[7] = 3.14"
      ],
      "metadata": {
        "id": "O_97L_rIQ3Ic"
      },
      "execution_count": null,
      "outputs": []
    },
    {
      "cell_type": "code",
      "source": [
        "dict_a"
      ],
      "metadata": {
        "id": "31eDIyBDRWGN",
        "colab": {
          "base_uri": "https://localhost:8080/"
        },
        "outputId": "2964f3c6-73ea-4700-e6a9-9b8bf6fcc73c"
      },
      "execution_count": null,
      "outputs": [
        {
          "output_type": "execute_result",
          "data": {
            "text/plain": [
              "{1: 'Happy', '2022': 'Year', 7: 3.14, 'N': 'New'}"
            ]
          },
          "metadata": {},
          "execution_count": 150
        }
      ]
    },
    {
      "cell_type": "code",
      "source": [
        "dict_a['N'] = 'NNNEEEEWWW'"
      ],
      "metadata": {
        "id": "5SqFlYLbRhP1"
      },
      "execution_count": null,
      "outputs": []
    },
    {
      "cell_type": "code",
      "source": [
        "dict_a # ถ้าชี้ซ้ำ มันจะไปอัพเดตทับค่าเดิมเป็นค่าใหม่"
      ],
      "metadata": {
        "id": "Rqsp30zERocu",
        "colab": {
          "base_uri": "https://localhost:8080/"
        },
        "outputId": "0d7e11c6-67c3-40e4-be98-2900041a4c89"
      },
      "execution_count": null,
      "outputs": [
        {
          "output_type": "execute_result",
          "data": {
            "text/plain": [
              "{1: 'Happy', '2022': 'Year', 7: 3.14, 'N': 'NNNEEEEWWW'}"
            ]
          },
          "metadata": {},
          "execution_count": 152
        }
      ]
    },
    {
      "cell_type": "markdown",
      "source": [
        "## Numpy Array"
      ],
      "metadata": {
        "id": "3QoSTlZFOxhT"
      }
    },
    {
      "cell_type": "markdown",
      "source": [
        "- เก็บได้แค่ตัวเลข\n",
        "- อ้างอิงโดยใช้ พิกัด (2 มิติ ก็มองเป็น Matrix)"
      ],
      "metadata": {
        "id": "UZww-rSoUZvP"
      }
    },
    {
      "cell_type": "code",
      "source": [
        "import numpy"
      ],
      "metadata": {
        "id": "zpgMrQDaUtQO"
      },
      "execution_count": null,
      "outputs": []
    },
    {
      "cell_type": "markdown",
      "source": [
        "### 1D array"
      ],
      "metadata": {
        "id": "pJYkdkhAYInH"
      }
    },
    {
      "cell_type": "code",
      "source": [
        "list_A = [1,2,3,4,5]"
      ],
      "metadata": {
        "id": "kIcamSu7VxjV"
      },
      "execution_count": null,
      "outputs": []
    },
    {
      "cell_type": "code",
      "source": [
        "arr_a = numpy.array(list_A)"
      ],
      "metadata": {
        "id": "ZSZAg6IrVHId"
      },
      "execution_count": null,
      "outputs": []
    },
    {
      "cell_type": "code",
      "source": [
        "arr_a"
      ],
      "metadata": {
        "id": "ptfHyKW3Vg1O",
        "colab": {
          "base_uri": "https://localhost:8080/"
        },
        "outputId": "f6f98bb7-f13a-4ec8-d625-ab4f5345dbbf"
      },
      "execution_count": null,
      "outputs": [
        {
          "output_type": "execute_result",
          "data": {
            "text/plain": [
              "array([1, 2, 3, 4, 5])"
            ]
          },
          "metadata": {},
          "execution_count": 74
        }
      ]
    },
    {
      "cell_type": "code",
      "source": [
        "list_A"
      ],
      "metadata": {
        "id": "HU_L8mHhVm8N",
        "colab": {
          "base_uri": "https://localhost:8080/"
        },
        "outputId": "032ab38b-0719-4128-b1d9-8a38bbe253c0"
      },
      "execution_count": null,
      "outputs": [
        {
          "output_type": "execute_result",
          "data": {
            "text/plain": [
              "[1, 2, 3, 4, 5]"
            ]
          },
          "metadata": {},
          "execution_count": 75
        }
      ]
    },
    {
      "cell_type": "code",
      "source": [
        "arr_a[0]"
      ],
      "metadata": {
        "id": "fMxKGZHeV-nF",
        "colab": {
          "base_uri": "https://localhost:8080/"
        },
        "outputId": "d1a05823-5677-48a4-c8ca-9f2d474d5388"
      },
      "execution_count": null,
      "outputs": [
        {
          "output_type": "execute_result",
          "data": {
            "text/plain": [
              "1"
            ]
          },
          "metadata": {},
          "execution_count": 76
        }
      ]
    },
    {
      "cell_type": "code",
      "source": [
        "list_A[0]"
      ],
      "metadata": {
        "id": "Rr9AZaJ-WDb2",
        "colab": {
          "base_uri": "https://localhost:8080/"
        },
        "outputId": "b4a395c3-8b34-4ad2-fba0-32b67f98f97b"
      },
      "execution_count": null,
      "outputs": [
        {
          "output_type": "execute_result",
          "data": {
            "text/plain": [
              "1"
            ]
          },
          "metadata": {},
          "execution_count": 77
        }
      ]
    },
    {
      "cell_type": "code",
      "source": [
        "5*arr_a # Matrix (scalar multiplcation) 5 คูณกระจายเข้าในเมทริกซ์"
      ],
      "metadata": {
        "id": "eyzH-B2ZWJyP",
        "colab": {
          "base_uri": "https://localhost:8080/"
        },
        "outputId": "f2cd6f87-c12d-49dc-cb8c-699dfd0ab04e"
      },
      "execution_count": null,
      "outputs": [
        {
          "output_type": "execute_result",
          "data": {
            "text/plain": [
              "array([ 5, 10, 15, 20, 25])"
            ]
          },
          "metadata": {},
          "execution_count": 78
        }
      ]
    },
    {
      "cell_type": "code",
      "source": [
        "5*list_A"
      ],
      "metadata": {
        "id": "IM_zjEJOWk_G",
        "colab": {
          "base_uri": "https://localhost:8080/"
        },
        "outputId": "5fa62690-c87a-4f43-e488-c2bebfc09ef1"
      },
      "execution_count": null,
      "outputs": [
        {
          "output_type": "execute_result",
          "data": {
            "text/plain": [
              "[1, 2, 3, 4, 5, 1, 2, 3, 4, 5, 1, 2, 3, 4, 5, 1, 2, 3, 4, 5, 1, 2, 3, 4, 5]"
            ]
          },
          "metadata": {},
          "execution_count": 79
        }
      ]
    },
    {
      "cell_type": "code",
      "source": [
        "arr_b = numpy.array([10,20,30,40,50])"
      ],
      "metadata": {
        "id": "1WK7Q-XdXMiO"
      },
      "execution_count": null,
      "outputs": []
    },
    {
      "cell_type": "code",
      "source": [
        "print(arr_a)"
      ],
      "metadata": {
        "id": "Bhtl_VuYXbHt",
        "colab": {
          "base_uri": "https://localhost:8080/"
        },
        "outputId": "95902837-72d1-4026-e9c1-8af3b5109292"
      },
      "execution_count": null,
      "outputs": [
        {
          "output_type": "stream",
          "name": "stdout",
          "text": [
            "[1 2 3 4 5]\n"
          ]
        }
      ]
    },
    {
      "cell_type": "code",
      "source": [
        "arr_a + arr_b"
      ],
      "metadata": {
        "id": "K7QkO_cdXpgA",
        "colab": {
          "base_uri": "https://localhost:8080/"
        },
        "outputId": "db21c1ec-92f5-4d7b-a1d5-fb3270e3335f"
      },
      "execution_count": null,
      "outputs": [
        {
          "output_type": "execute_result",
          "data": {
            "text/plain": [
              "array([11, 22, 33, 44, 55])"
            ]
          },
          "metadata": {},
          "execution_count": 82
        }
      ]
    },
    {
      "cell_type": "markdown",
      "source": [
        "### 2D array"
      ],
      "metadata": {
        "id": "NmXgY3huYCdh"
      }
    },
    {
      "cell_type": "code",
      "source": [
        "import numpy as np # นำเข้า numpy พร้อมเปลี่ยนชื่อให้สั้นลงเป็นคำว่า np"
      ],
      "metadata": {
        "id": "uKWGKbVrYT4_"
      },
      "execution_count": null,
      "outputs": []
    },
    {
      "cell_type": "code",
      "source": [
        "arr2_z = np.array([[1,2,3],[4,5,6]])"
      ],
      "metadata": {
        "id": "SAuCZBr5YaOu"
      },
      "execution_count": null,
      "outputs": []
    },
    {
      "cell_type": "code",
      "source": [
        "arr2_z"
      ],
      "metadata": {
        "id": "Ni2uU5UuY_WW",
        "colab": {
          "base_uri": "https://localhost:8080/"
        },
        "outputId": "800bab20-d662-452b-bbcb-8ea985dc9f4e"
      },
      "execution_count": null,
      "outputs": [
        {
          "output_type": "execute_result",
          "data": {
            "text/plain": [
              "array([[1, 2, 3],\n",
              "       [4, 5, 6]])"
            ]
          },
          "metadata": {},
          "execution_count": 89
        }
      ]
    },
    {
      "cell_type": "code",
      "source": [
        "arr2_z.shape"
      ],
      "metadata": {
        "id": "h_vR6cXaZtUO",
        "colab": {
          "base_uri": "https://localhost:8080/"
        },
        "outputId": "9fec2483-8d9c-4dfd-bb04-a2357119405d"
      },
      "execution_count": null,
      "outputs": [
        {
          "output_type": "execute_result",
          "data": {
            "text/plain": [
              "(2, 3)"
            ]
          },
          "metadata": {},
          "execution_count": 90
        }
      ]
    },
    {
      "cell_type": "markdown",
      "source": [
        "### np.zeros()"
      ],
      "metadata": {
        "id": "Y0KOschnZdPi"
      }
    },
    {
      "cell_type": "code",
      "source": [
        "arr2_3_5_0 = np.zeros((3,5))"
      ],
      "metadata": {
        "id": "ZQI3m1lGZMkW"
      },
      "execution_count": null,
      "outputs": []
    },
    {
      "cell_type": "code",
      "source": [
        "arr2_3_5_0"
      ],
      "metadata": {
        "id": "R6XA4k05aRlu",
        "colab": {
          "base_uri": "https://localhost:8080/"
        },
        "outputId": "e324602a-f610-4324-db8e-98f9cf29cd78"
      },
      "execution_count": null,
      "outputs": [
        {
          "output_type": "execute_result",
          "data": {
            "text/plain": [
              "array([[0., 0., 0., 0., 0.],\n",
              "       [0., 0., 0., 0., 0.],\n",
              "       [0., 0., 0., 0., 0.]])"
            ]
          },
          "metadata": {},
          "execution_count": 62
        }
      ]
    },
    {
      "cell_type": "code",
      "source": [
        "arr2_3_5_0[1,2] = 9"
      ],
      "metadata": {
        "id": "57aIusbtaXCW"
      },
      "execution_count": null,
      "outputs": []
    },
    {
      "cell_type": "code",
      "source": [
        "arr2_3_5_0"
      ],
      "metadata": {
        "id": "D7R43aoOaidl",
        "colab": {
          "base_uri": "https://localhost:8080/"
        },
        "outputId": "e847ce98-86fe-48c6-feca-a6f9fac3a12f"
      },
      "execution_count": null,
      "outputs": [
        {
          "output_type": "execute_result",
          "data": {
            "text/plain": [
              "array([[0., 0., 0., 0., 0.],\n",
              "       [0., 0., 9., 0., 0.],\n",
              "       [0., 0., 0., 0., 0.]])"
            ]
          },
          "metadata": {},
          "execution_count": 64
        }
      ]
    },
    {
      "cell_type": "code",
      "source": [
        "arr2_3_5_0[1,2]"
      ],
      "metadata": {
        "id": "SuMeZjclapG_",
        "colab": {
          "base_uri": "https://localhost:8080/"
        },
        "outputId": "f0f740bc-a8bc-42d2-9790-26630826a5f0"
      },
      "execution_count": null,
      "outputs": [
        {
          "output_type": "execute_result",
          "data": {
            "text/plain": [
              "9.0"
            ]
          },
          "metadata": {},
          "execution_count": 65
        }
      ]
    },
    {
      "cell_type": "code",
      "source": [
        "print(list_A) # เปลี่ยนค่าใน list()\n",
        "list_A[-1] = 'Christmas'\n",
        "print(list_A)"
      ],
      "metadata": {
        "id": "YB8GGsGDbzJw",
        "colab": {
          "base_uri": "https://localhost:8080/"
        },
        "outputId": "e6279657-1720-4aab-bc86-abc24c210808"
      },
      "execution_count": null,
      "outputs": [
        {
          "output_type": "stream",
          "name": "stdout",
          "text": [
            "[1, 2, 3, 4, 5]\n",
            "[1, 2, 3, 4, 'Christmas']\n"
          ]
        }
      ]
    },
    {
      "cell_type": "markdown",
      "source": [
        "### np.ones()"
      ],
      "metadata": {
        "id": "5r5E4nNmcFHg"
      }
    },
    {
      "cell_type": "code",
      "source": [
        "arr2_4_5_1 = np.ones((4,5))"
      ],
      "metadata": {
        "id": "_xAp2dhJcJcJ"
      },
      "execution_count": null,
      "outputs": []
    },
    {
      "cell_type": "code",
      "source": [
        "arr2_4_5_1"
      ],
      "metadata": {
        "id": "Rbrg9Se7cNxH",
        "colab": {
          "base_uri": "https://localhost:8080/"
        },
        "outputId": "7ba0d6dd-8e48-4243-f490-c9987b7727cf"
      },
      "execution_count": null,
      "outputs": [
        {
          "output_type": "execute_result",
          "data": {
            "text/plain": [
              "array([[1., 1., 1., 1., 1.],\n",
              "       [1., 1., 1., 1., 1.],\n",
              "       [1., 1., 1., 1., 1.],\n",
              "       [1., 1., 1., 1., 1.]])"
            ]
          },
          "metadata": {},
          "execution_count": 68
        }
      ]
    },
    {
      "cell_type": "code",
      "source": [
        "arr2_4_5_200 = 200*np.ones((4,5))"
      ],
      "metadata": {
        "id": "s7tMt6lzcT-R"
      },
      "execution_count": null,
      "outputs": []
    },
    {
      "cell_type": "code",
      "source": [
        "arr2_4_5_200"
      ],
      "metadata": {
        "id": "urUFXyedceoH",
        "colab": {
          "base_uri": "https://localhost:8080/"
        },
        "outputId": "55c6106c-595d-437c-a788-22713ef31e4d"
      },
      "execution_count": null,
      "outputs": [
        {
          "output_type": "execute_result",
          "data": {
            "text/plain": [
              "array([[200., 200., 200., 200., 200.],\n",
              "       [200., 200., 200., 200., 200.],\n",
              "       [200., 200., 200., 200., 200.],\n",
              "       [200., 200., 200., 200., 200.]])"
            ]
          },
          "metadata": {},
          "execution_count": 70
        }
      ]
    },
    {
      "cell_type": "markdown",
      "source": [
        "### Matrix operations"
      ],
      "metadata": {
        "id": "tq9zLETmcyO3"
      }
    },
    {
      "cell_type": "markdown",
      "source": [
        "#### การบวก ลบ matrix $M \\pm N$ บวกลบตัวที่อยู่ตำแหน่งเดียวกัน"
      ],
      "metadata": {
        "id": "QSnyyQeNc8Hn"
      }
    },
    {
      "cell_type": "code",
      "source": [
        "arr2_4_5_200 + arr2_3_5_0 # การบวก ลบ matrix shape ต้องเท่ากัน"
      ],
      "metadata": {
        "id": "5U85NQ8PdAuH",
        "colab": {
          "base_uri": "https://localhost:8080/",
          "height": 166
        },
        "outputId": "1999e92e-45f2-4b38-8f2a-028eb9069b72"
      },
      "execution_count": null,
      "outputs": [
        {
          "output_type": "error",
          "ename": "ValueError",
          "evalue": "ignored",
          "traceback": [
            "\u001b[0;31m---------------------------------------------------------------------------\u001b[0m",
            "\u001b[0;31mValueError\u001b[0m                                Traceback (most recent call last)",
            "\u001b[0;32m<ipython-input-153-20644b9f025a>\u001b[0m in \u001b[0;36m<module>\u001b[0;34m()\u001b[0m\n\u001b[0;32m----> 1\u001b[0;31m \u001b[0marr2_4_5_200\u001b[0m \u001b[0;34m+\u001b[0m \u001b[0marr2_3_5_0\u001b[0m \u001b[0;31m# การบวก ลบ matrix shape ต้องเท่ากัน\u001b[0m\u001b[0;34m\u001b[0m\u001b[0;34m\u001b[0m\u001b[0m\n\u001b[0m",
            "\u001b[0;31mValueError\u001b[0m: operands could not be broadcast together with shapes (4,5) (3,5) "
          ]
        }
      ]
    },
    {
      "cell_type": "code",
      "source": [
        "arr2_4_5_200 + arr2_4_5_1"
      ],
      "metadata": {
        "id": "Wd1PVfSldTfP",
        "colab": {
          "base_uri": "https://localhost:8080/"
        },
        "outputId": "1f3fa61c-353c-4d46-fe35-492e23faa2f5"
      },
      "execution_count": null,
      "outputs": [
        {
          "output_type": "execute_result",
          "data": {
            "text/plain": [
              "array([[201., 201., 201., 201., 201.],\n",
              "       [201., 201., 201., 201., 201.],\n",
              "       [201., 201., 201., 201., 201.],\n",
              "       [201., 201., 201., 201., 201.]])"
            ]
          },
          "metadata": {},
          "execution_count": 154
        }
      ]
    },
    {
      "cell_type": "markdown",
      "source": [
        "#### การคูณ matrix\n",
        "\n",
        "- $aM$ scalar คูณ Matrix (คูณกระจายเข้าไปทุกตัวของ Matrix)\n",
        "- $M\\times N$ Matrix คูณ Matrix (แถวคูณหลัก)"
      ],
      "metadata": {
        "id": "q3E9P0BIdaDZ"
      }
    },
    {
      "cell_type": "markdown",
      "source": [
        "$aM$"
      ],
      "metadata": {
        "id": "MyOMDilqexJN"
      }
    },
    {
      "cell_type": "code",
      "source": [
        "5*arr_a # Matrix (scalar multiplication)"
      ],
      "metadata": {
        "id": "wvDjeK_Bed-Q",
        "colab": {
          "base_uri": "https://localhost:8080/"
        },
        "outputId": "447d25ae-9831-4bcb-ff58-87b566bb9214"
      },
      "execution_count": null,
      "outputs": [
        {
          "output_type": "execute_result",
          "data": {
            "text/plain": [
              "array([ 5, 10, 15, 20, 25])"
            ]
          },
          "metadata": {},
          "execution_count": 155
        }
      ]
    },
    {
      "cell_type": "markdown",
      "source": [
        "$M\\times N$ (dot product)\n",
        "- (m,n) $\\times$ (n,o) = (m,o) (Shape)"
      ],
      "metadata": {
        "id": "xqjGIZUIe2FQ"
      }
    },
    {
      "cell_type": "code",
      "source": [
        "mat_a = np.array([[2,3,5],[4,6,7]])\n",
        "mat_b = np.array([[1,2,5],[2,4,-7]])\n",
        "mat_c = np.array([[2,3],[4,6],[7,9]])"
      ],
      "metadata": {
        "id": "DYZNxhjBfrlQ"
      },
      "execution_count": null,
      "outputs": []
    },
    {
      "cell_type": "code",
      "source": [
        "mat_a"
      ],
      "metadata": {
        "id": "e1-4-0gygMAI",
        "colab": {
          "base_uri": "https://localhost:8080/"
        },
        "outputId": "cbf2ec65-cd79-491f-d45b-c6f4a03a8f63"
      },
      "execution_count": null,
      "outputs": [
        {
          "output_type": "execute_result",
          "data": {
            "text/plain": [
              "array([[2, 3, 5],\n",
              "       [4, 6, 7]])"
            ]
          },
          "metadata": {},
          "execution_count": 157
        }
      ]
    },
    {
      "cell_type": "code",
      "source": [
        "mat_b"
      ],
      "metadata": {
        "id": "ztPKHH8DgOpp",
        "colab": {
          "base_uri": "https://localhost:8080/"
        },
        "outputId": "cafa1120-1f06-4d76-d10c-f209e3e34464"
      },
      "execution_count": null,
      "outputs": [
        {
          "output_type": "execute_result",
          "data": {
            "text/plain": [
              "array([[ 1,  2,  5],\n",
              "       [ 2,  4, -7]])"
            ]
          },
          "metadata": {},
          "execution_count": 158
        }
      ]
    },
    {
      "cell_type": "code",
      "source": [
        "mat_c"
      ],
      "metadata": {
        "id": "mMoJWNP2gQEj",
        "colab": {
          "base_uri": "https://localhost:8080/"
        },
        "outputId": "ee218136-b598-466c-8fc7-71798263a6b1"
      },
      "execution_count": null,
      "outputs": [
        {
          "output_type": "execute_result",
          "data": {
            "text/plain": [
              "array([[2, 3],\n",
              "       [4, 6],\n",
              "       [7, 9]])"
            ]
          },
          "metadata": {},
          "execution_count": 159
        }
      ]
    },
    {
      "cell_type": "markdown",
      "source": [
        "axc, bxc"
      ],
      "metadata": {
        "id": "lT5_p53cgWmq"
      }
    },
    {
      "cell_type": "code",
      "source": [
        "np.dot(mat_a,mat_c)"
      ],
      "metadata": {
        "id": "8orQ6lcqgm8a",
        "colab": {
          "base_uri": "https://localhost:8080/"
        },
        "outputId": "b0ef8fc7-fdca-41d4-c9d4-84e51bf44955"
      },
      "execution_count": null,
      "outputs": [
        {
          "output_type": "execute_result",
          "data": {
            "text/plain": [
              "array([[ 51,  69],\n",
              "       [ 81, 111]])"
            ]
          },
          "metadata": {},
          "execution_count": 160
        }
      ]
    },
    {
      "cell_type": "code",
      "source": [
        "np.dot(mat_b,mat_c)"
      ],
      "metadata": {
        "id": "PdihnfJOg9XR",
        "colab": {
          "base_uri": "https://localhost:8080/"
        },
        "outputId": "ed04ee68-61f8-4271-afe4-349a504a864e"
      },
      "execution_count": null,
      "outputs": [
        {
          "output_type": "execute_result",
          "data": {
            "text/plain": [
              "array([[ 45,  60],\n",
              "       [-29, -33]])"
            ]
          },
          "metadata": {},
          "execution_count": 161
        }
      ]
    },
    {
      "cell_type": "markdown",
      "source": [
        "cxa, cxb"
      ],
      "metadata": {
        "id": "YJK95x4jhDs4"
      }
    },
    {
      "cell_type": "code",
      "source": [
        "np.dot(mat_c,mat_a)"
      ],
      "metadata": {
        "id": "QpuWq-XlhGGJ",
        "colab": {
          "base_uri": "https://localhost:8080/"
        },
        "outputId": "4719f58a-7874-4659-c373-b193107af6ed"
      },
      "execution_count": null,
      "outputs": [
        {
          "output_type": "execute_result",
          "data": {
            "text/plain": [
              "array([[16, 24, 31],\n",
              "       [32, 48, 62],\n",
              "       [50, 75, 98]])"
            ]
          },
          "metadata": {},
          "execution_count": 162
        }
      ]
    },
    {
      "cell_type": "code",
      "source": [
        "np.dot(mat_c,mat_b)"
      ],
      "metadata": {
        "id": "9iwyYtVBhJ4p",
        "colab": {
          "base_uri": "https://localhost:8080/"
        },
        "outputId": "b4354ee5-749b-42fb-8af8-b6a04e3c39f6"
      },
      "execution_count": null,
      "outputs": [
        {
          "output_type": "execute_result",
          "data": {
            "text/plain": [
              "array([[  8,  16, -11],\n",
              "       [ 16,  32, -22],\n",
              "       [ 25,  50, -28]])"
            ]
          },
          "metadata": {},
          "execution_count": 163
        }
      ]
    },
    {
      "cell_type": "code",
      "source": [
        "mat_X = np.dot(mat_c,mat_b)\n",
        "print(mat_X)"
      ],
      "metadata": {
        "id": "6QUEVJSjmy37",
        "colab": {
          "base_uri": "https://localhost:8080/"
        },
        "outputId": "13cd9d06-fe40-4cdc-b657-230fb5fc0805"
      },
      "execution_count": null,
      "outputs": [
        {
          "output_type": "stream",
          "name": "stdout",
          "text": [
            "[[  8  16 -11]\n",
            " [ 16  32 -22]\n",
            " [ 25  50 -28]]\n"
          ]
        }
      ]
    },
    {
      "cell_type": "code",
      "source": [
        "mat_a * mat_b # คูณตัวตำแหน่งเดียวกัน ไม่ใช่คุณสมบัติเมทริกซ์"
      ],
      "metadata": {
        "id": "q19fJka4hTkp",
        "colab": {
          "base_uri": "https://localhost:8080/"
        },
        "outputId": "f9dbf8af-6c65-49a1-db44-4ff810eef789"
      },
      "execution_count": null,
      "outputs": [
        {
          "output_type": "execute_result",
          "data": {
            "text/plain": [
              "array([[  2,   6,  25],\n",
              "       [  8,  24, -49]])"
            ]
          },
          "metadata": {},
          "execution_count": 165
        }
      ]
    },
    {
      "cell_type": "markdown",
      "source": [
        "### Matrix Slicing"
      ],
      "metadata": {
        "id": "LT8tflSYhwMj"
      }
    },
    {
      "cell_type": "code",
      "source": [
        "mat_X[:2,:2]"
      ],
      "metadata": {
        "id": "6QPbAcXNh2RY",
        "colab": {
          "base_uri": "https://localhost:8080/"
        },
        "outputId": "14352700-22aa-4816-9c62-1d8abc6a002f"
      },
      "execution_count": null,
      "outputs": [
        {
          "output_type": "execute_result",
          "data": {
            "text/plain": [
              "array([[ 8, 16],\n",
              "       [16, 32]])"
            ]
          },
          "metadata": {},
          "execution_count": 166
        }
      ]
    },
    {
      "cell_type": "markdown",
      "source": [
        "## HW 3\n",
        "\n",
        "\n",
        "1. สร้าง array ที่เป็นรูป ต้น Christmas\n",
        "\n",
        "2. slice เลข 1 ออกมาจาก array HW3 ด้วยการ slice แค่ครั้งเดียว"
      ],
      "metadata": {
        "id": "lwTk1xUYig4S"
      }
    },
    {
      "cell_type": "code",
      "source": [
        "HW3 = np.ones((25,15))\n",
        "HW3"
      ],
      "metadata": {
        "id": "wpsO9In3ipIb",
        "colab": {
          "base_uri": "https://localhost:8080/"
        },
        "outputId": "1a956dfc-7610-4b63-af98-165be403217c"
      },
      "execution_count": null,
      "outputs": [
        {
          "output_type": "execute_result",
          "data": {
            "text/plain": [
              "array([[1., 1., 1., 1., 1., 1., 1., 1., 1., 1., 1., 1., 1., 1., 1.],\n",
              "       [1., 1., 1., 1., 1., 1., 1., 1., 1., 1., 1., 1., 1., 1., 1.],\n",
              "       [1., 1., 1., 1., 1., 1., 1., 1., 1., 1., 1., 1., 1., 1., 1.],\n",
              "       [1., 1., 1., 1., 1., 1., 1., 1., 1., 1., 1., 1., 1., 1., 1.],\n",
              "       [1., 1., 1., 1., 1., 1., 1., 1., 1., 1., 1., 1., 1., 1., 1.],\n",
              "       [1., 1., 1., 1., 1., 1., 1., 1., 1., 1., 1., 1., 1., 1., 1.],\n",
              "       [1., 1., 1., 1., 1., 1., 1., 1., 1., 1., 1., 1., 1., 1., 1.],\n",
              "       [1., 1., 1., 1., 1., 1., 1., 1., 1., 1., 1., 1., 1., 1., 1.],\n",
              "       [1., 1., 1., 1., 1., 1., 1., 1., 1., 1., 1., 1., 1., 1., 1.],\n",
              "       [1., 1., 1., 1., 1., 1., 1., 1., 1., 1., 1., 1., 1., 1., 1.],\n",
              "       [1., 1., 1., 1., 1., 1., 1., 1., 1., 1., 1., 1., 1., 1., 1.],\n",
              "       [1., 1., 1., 1., 1., 1., 1., 1., 1., 1., 1., 1., 1., 1., 1.],\n",
              "       [1., 1., 1., 1., 1., 1., 1., 1., 1., 1., 1., 1., 1., 1., 1.],\n",
              "       [1., 1., 1., 1., 1., 1., 1., 1., 1., 1., 1., 1., 1., 1., 1.],\n",
              "       [1., 1., 1., 1., 1., 1., 1., 1., 1., 1., 1., 1., 1., 1., 1.],\n",
              "       [1., 1., 1., 1., 1., 1., 1., 1., 1., 1., 1., 1., 1., 1., 1.],\n",
              "       [1., 1., 1., 1., 1., 1., 1., 1., 1., 1., 1., 1., 1., 1., 1.],\n",
              "       [1., 1., 1., 1., 1., 1., 1., 1., 1., 1., 1., 1., 1., 1., 1.],\n",
              "       [1., 1., 1., 1., 1., 1., 1., 1., 1., 1., 1., 1., 1., 1., 1.],\n",
              "       [1., 1., 1., 1., 1., 1., 1., 1., 1., 1., 1., 1., 1., 1., 1.],\n",
              "       [1., 1., 1., 1., 1., 1., 1., 1., 1., 1., 1., 1., 1., 1., 1.],\n",
              "       [1., 1., 1., 1., 1., 1., 1., 1., 1., 1., 1., 1., 1., 1., 1.],\n",
              "       [1., 1., 1., 1., 1., 1., 1., 1., 1., 1., 1., 1., 1., 1., 1.],\n",
              "       [1., 1., 1., 1., 1., 1., 1., 1., 1., 1., 1., 1., 1., 1., 1.],\n",
              "       [1., 1., 1., 1., 1., 1., 1., 1., 1., 1., 1., 1., 1., 1., 1.]])"
            ]
          },
          "metadata": {},
          "execution_count": 167
        }
      ]
    },
    {
      "cell_type": "code",
      "source": [
        "HW3[1:5,7] = 77\n",
        "HW3[2:6,6] = 77\n",
        "HW3[2:6,8] = 77\n",
        "HW3[2,5] = 77\n",
        "HW3[2,9] = 77\n",
        "HW3[5:24,7] = 9\n",
        "HW3[6:24,6] = 9\n",
        "HW3[6:24,8] = 9\n",
        "HW3[7:20,5] = 9\n",
        "HW3[7:20,9] = 9\n",
        "HW3[8:19,4] = 9\n",
        "HW3[8:19,10] = 9\n",
        "HW3[9:11,3] = 9\n",
        "HW3[9:11,11] = 9\n",
        "HW3[10:11,2] = 9\n",
        "HW3[10:11,12] = 9\n",
        "HW3[12:15,3] = 9\n",
        "HW3[12:15,11] = 9\n",
        "HW3[13:15,2] = 9\n",
        "HW3[13:15,12] = 9\n",
        "HW3[14:15,1] = 9\n",
        "HW3[14:15,13] = 9\n",
        "HW3[16:20,3] = 9\n",
        "HW3[16:20,11]= 9\n",
        "HW3[17:20,2] = 9\n",
        "HW3[17:20,12] = 9\n",
        "HW3[18:20,1] = 9\n",
        "HW3[18:20,13] = 9\n",
        "HW3[19] = 9\n",
        "HW3[5:6,7] = 99\n",
        "HW3[6:7,6] = 99\n",
        "HW3[6:7,8] = 99\n",
        "HW3[7:8,5] = 99\n",
        "HW3[7:8,9] = 99\n",
        "HW3[8:9,4] = 99\n",
        "HW3[8:9,10] = 99\n",
        "HW3[9:10,3] = 99\n",
        "HW3[9:10,11] = 99\n",
        "HW3[10:11,2] = 99\n",
        "HW3[10:11,12] = 99\n",
        "HW3[10:11,3] = 99\n",
        "HW3[10:11,4] = 99\n",
        "HW3[10:11,11] = 99\n",
        "HW3[10:11,10] = 99\n",
        "HW3[11:12,4] = 99\n",
        "HW3[11:12,10] = 99\n",
        "HW3[12:13,3] = 99\n",
        "HW3[13:15,2] = 99\n",
        "HW3[14:15,1] = 99\n",
        "HW3[12:13,11] = 99\n",
        "HW3[13:15,12] = 99\n",
        "HW3[14:15,13] = 99\n",
        "HW3[14:15,3] = 99\n",
        "HW3[14:15,11] = 99\n",
        "HW3[14:16,4] = 99\n",
        "HW3[14:16,10] = 99\n",
        "HW3[16:17,3] = 99\n",
        "HW3[17:18,2] = 99\n",
        "HW3[18:20,1] = 99\n",
        "HW3[19:20,0] = 99\n",
        "HW3[16:17,11] = 99\n",
        "HW3[17:18,12] = 99\n",
        "HW3[18:20,13] = 99\n",
        "HW3[19:20,2] = 99\n",
        "HW3[19:20,3] = 99\n",
        "HW3[19:20,4] = 99\n",
        "HW3[19:20,9] = 99\n",
        "HW3[19:20,10] = 99\n",
        "HW3[19:20,11] = 99\n",
        "HW3[19:20,12] = 99\n",
        "HW3[19:20,13] = 99\n",
        "HW3[20:25,6] = 99\n",
        "HW3[20:25,8] = 99\n",
        "HW3[24:25,7] = 99\n",
        "HW3[18:19,3] = 0\n",
        "HW3[13:14,9] = 0\n",
        "HW3[9:10,6] = 0\n",
        "HW3[19:20,14] = 1\n",
        "print(HW3)"
      ],
      "metadata": {
        "id": "bhFAkoP1kX9p",
        "colab": {
          "base_uri": "https://localhost:8080/"
        },
        "outputId": "f810b24f-ad2a-47ad-d405-79aacd31f6cb"
      },
      "execution_count": null,
      "outputs": [
        {
          "output_type": "stream",
          "name": "stdout",
          "text": [
            "[[ 1.  1.  1.  1.  1.  1.  1.  1.  1.  1.  1.  1.  1.  1.  1.]\n",
            " [ 1.  1.  1.  1.  1.  1.  1. 77.  1.  1.  1.  1.  1.  1.  1.]\n",
            " [ 1.  1.  1.  1.  1. 77. 77. 77. 77. 77.  1.  1.  1.  1.  1.]\n",
            " [ 1.  1.  1.  1.  1.  1. 77. 77. 77.  1.  1.  1.  1.  1.  1.]\n",
            " [ 1.  1.  1.  1.  1.  1. 77. 77. 77.  1.  1.  1.  1.  1.  1.]\n",
            " [ 1.  1.  1.  1.  1.  1. 77. 99. 77.  1.  1.  1.  1.  1.  1.]\n",
            " [ 1.  1.  1.  1.  1.  1. 99.  9. 99.  1.  1.  1.  1.  1.  1.]\n",
            " [ 1.  1.  1.  1.  1. 99.  9.  9.  9. 99.  1.  1.  1.  1.  1.]\n",
            " [ 1.  1.  1.  1. 99.  9.  9.  9.  9.  9. 99.  1.  1.  1.  1.]\n",
            " [ 1.  1.  1. 99.  9.  9.  0.  9.  9.  9.  9. 99.  1.  1.  1.]\n",
            " [ 1.  1. 99. 99. 99.  9.  9.  9.  9.  9. 99. 99. 99.  1.  1.]\n",
            " [ 1.  1.  1.  1. 99.  9.  9.  9.  9.  9. 99.  1.  1.  1.  1.]\n",
            " [ 1.  1.  1. 99.  9.  9.  9.  9.  9.  9.  9. 99.  1.  1.  1.]\n",
            " [ 1.  1. 99.  9.  9.  9.  9.  9.  9.  0.  9.  9. 99.  1.  1.]\n",
            " [ 1. 99. 99. 99. 99.  9.  9.  9.  9.  9. 99. 99. 99. 99.  1.]\n",
            " [ 1.  1.  1.  1. 99.  9.  9.  9.  9.  9. 99.  1.  1.  1.  1.]\n",
            " [ 1.  1.  1. 99.  9.  9.  9.  9.  9.  9.  9. 99.  1.  1.  1.]\n",
            " [ 1.  1. 99.  9.  9.  9.  9.  9.  9.  9.  9.  9. 99.  1.  1.]\n",
            " [ 1. 99.  9.  0.  9.  9.  9.  9.  9.  9.  9.  9.  9. 99.  1.]\n",
            " [99. 99. 99. 99. 99.  9.  9.  9.  9. 99. 99. 99. 99. 99.  1.]\n",
            " [ 1.  1.  1.  1.  1.  1. 99.  9. 99.  1.  1.  1.  1.  1.  1.]\n",
            " [ 1.  1.  1.  1.  1.  1. 99.  9. 99.  1.  1.  1.  1.  1.  1.]\n",
            " [ 1.  1.  1.  1.  1.  1. 99.  9. 99.  1.  1.  1.  1.  1.  1.]\n",
            " [ 1.  1.  1.  1.  1.  1. 99.  9. 99.  1.  1.  1.  1.  1.  1.]\n",
            " [ 1.  1.  1.  1.  1.  1. 99. 99. 99.  1.  1.  1.  1.  1.  1.]]\n"
          ]
        }
      ]
    },
    {
      "cell_type": "code",
      "source": [
        "HW3 = np.zeros((10,10))\n",
        "HW3"
      ],
      "metadata": {
        "colab": {
          "base_uri": "https://localhost:8080/"
        },
        "id": "8JFiKK5iCrVk",
        "outputId": "d01ac323-ac3d-4a82-92b7-a69ef5139b47"
      },
      "execution_count": null,
      "outputs": [
        {
          "output_type": "execute_result",
          "data": {
            "text/plain": [
              "array([[0., 0., 0., 0., 0., 0., 0., 0., 0., 0.],\n",
              "       [0., 0., 0., 0., 0., 0., 0., 0., 0., 0.],\n",
              "       [0., 0., 0., 0., 0., 0., 0., 0., 0., 0.],\n",
              "       [0., 0., 0., 0., 0., 0., 0., 0., 0., 0.],\n",
              "       [0., 0., 0., 0., 0., 0., 0., 0., 0., 0.],\n",
              "       [0., 0., 0., 0., 0., 0., 0., 0., 0., 0.],\n",
              "       [0., 0., 0., 0., 0., 0., 0., 0., 0., 0.],\n",
              "       [0., 0., 0., 0., 0., 0., 0., 0., 0., 0.],\n",
              "       [0., 0., 0., 0., 0., 0., 0., 0., 0., 0.],\n",
              "       [0., 0., 0., 0., 0., 0., 0., 0., 0., 0.]])"
            ]
          },
          "metadata": {},
          "execution_count": 169
        }
      ]
    },
    {
      "cell_type": "code",
      "source": [
        "HW3[::4,2] = 1\n",
        "HW3[::4,4] = 1\n",
        "HW3[::4,6] = 1\n",
        "HW3[::4,8] = 1\n",
        "HW3"
      ],
      "metadata": {
        "colab": {
          "base_uri": "https://localhost:8080/"
        },
        "id": "gQEbx1MpCrMt",
        "outputId": "23c9af4a-c4ea-4160-b79c-a2a9f6385920"
      },
      "execution_count": null,
      "outputs": [
        {
          "output_type": "execute_result",
          "data": {
            "text/plain": [
              "array([[0., 0., 1., 0., 1., 0., 1., 0., 1., 0.],\n",
              "       [0., 0., 0., 0., 0., 0., 0., 0., 0., 0.],\n",
              "       [0., 0., 0., 0., 0., 0., 0., 0., 0., 0.],\n",
              "       [0., 0., 0., 0., 0., 0., 0., 0., 0., 0.],\n",
              "       [0., 0., 1., 0., 1., 0., 1., 0., 1., 0.],\n",
              "       [0., 0., 0., 0., 0., 0., 0., 0., 0., 0.],\n",
              "       [0., 0., 0., 0., 0., 0., 0., 0., 0., 0.],\n",
              "       [0., 0., 0., 0., 0., 0., 0., 0., 0., 0.],\n",
              "       [0., 0., 1., 0., 1., 0., 1., 0., 1., 0.],\n",
              "       [0., 0., 0., 0., 0., 0., 0., 0., 0., 0.]])"
            ]
          },
          "metadata": {},
          "execution_count": 170
        }
      ]
    },
    {
      "cell_type": "code",
      "source": [
        "HW3[::4,2::2]"
      ],
      "metadata": {
        "colab": {
          "base_uri": "https://localhost:8080/"
        },
        "id": "8U2tvOLaCrGc",
        "outputId": "721a34c4-8aea-487a-b55f-44b0da639a8e"
      },
      "execution_count": null,
      "outputs": [
        {
          "output_type": "execute_result",
          "data": {
            "text/plain": [
              "array([[1., 1., 1., 1.],\n",
              "       [1., 1., 1., 1.],\n",
              "       [1., 1., 1., 1.]])"
            ]
          },
          "metadata": {},
          "execution_count": 171
        }
      ]
    },
    {
      "cell_type": "markdown",
      "source": [
        "## Pandas Dataframe (แยกออกไปเป็น Notebook เฉพาะ)"
      ],
      "metadata": {
        "id": "41kjw03vO07j"
      }
    }
  ]
}